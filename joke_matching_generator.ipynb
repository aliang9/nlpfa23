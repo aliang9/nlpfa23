{
  "nbformat": 4,
  "nbformat_minor": 0,
  "metadata": {
    "colab": {
      "provenance": [],
      "include_colab_link": true
    },
    "kernelspec": {
      "name": "python3",
      "display_name": "Python 3"
    },
    "language_info": {
      "name": "python"
    }
  },
  "cells": [
    {
      "cell_type": "markdown",
      "metadata": {
        "id": "view-in-github",
        "colab_type": "text"
      },
      "source": [
        "<a href=\"https://colab.research.google.com/github/aliang9/nlpfa23/blob/main/joke_matching_generator.ipynb\" target=\"_parent\"><img src=\"https://colab.research.google.com/assets/colab-badge.svg\" alt=\"Open In Colab\"/></a>"
      ]
    },
    {
      "cell_type": "code",
      "execution_count": null,
      "metadata": {
        "colab": {
          "base_uri": "https://localhost:8080/"
        },
        "id": "jIbWq0m5JU3j",
        "outputId": "6caa4a88-29dd-4524-d0f8-cb14a9ee3d9e"
      },
      "outputs": [
        {
          "output_type": "stream",
          "name": "stdout",
          "text": [
            "Mounted at /content/drive\n"
          ]
        }
      ],
      "source": [
        "from google.colab import drive\n",
        "drive.mount('/content/drive')"
      ]
    },
    {
      "cell_type": "code",
      "source": [],
      "metadata": {
        "id": "yyQ1PKdTL5Ea"
      },
      "execution_count": null,
      "outputs": []
    },
    {
      "cell_type": "code",
      "source": [
        "import csv\n",
        "import random\n",
        "\n",
        "def read_csv(file_path):\n",
        "    data = []\n",
        "    with open(file_path, 'r', newline='', encoding='utf-8') as file:\n",
        "        reader = csv.reader(file)\n",
        "        for row in reader:\n",
        "            data.append(row)\n",
        "    return data\n",
        "\n",
        "def write_csv(file_path, data):\n",
        "    with open(file_path, 'w', newline='', encoding='utf-8') as file:\n",
        "        writer = csv.writer(file)\n",
        "        writer.writerows(data)\n",
        "\n",
        "def create_random_pairings(data):\n",
        "    random_data = []\n",
        "\n",
        "    for row in data:\n",
        "\n",
        "        setup = row[0]\n",
        "        original_punchline = row[1]\n",
        "        punchlines = [original_punchline]\n",
        "\n",
        "        # Select a random punchline from a different joke\n",
        "        random_row = random.choice(data[1:])\n",
        "        random_punchline = random_row[1]\n",
        "        punchlines.append(random_punchline)\n",
        "\n",
        "        random_row = random.choice(data[1:])\n",
        "        random_punchline1 = random_row[1]\n",
        "        punchlines.append(random_punchline1)\n",
        "\n",
        "        random_row = random.choice(data[1:])\n",
        "        random_punchline2 = random_row[1]\n",
        "        punchlines.append(random_punchline2)\n",
        "\n",
        "        random.shuffle(punchlines)\n",
        "        new_data = [setup] + punchlines + [original_punchline]\n",
        "\n",
        "        random_data.append(new_data)\n",
        "    return random_data[:102]\n",
        "\n",
        "# Replace 'input_file.csv' with the path to your input CSV file\n",
        "input_file_path = '/content/drive/MyDrive/NLPProject/updated-chinese-jokes.csv'\n",
        "input_data = read_csv(input_file_path)\n",
        "\n",
        "random_pairings = create_random_pairings(input_data)\n",
        "\n",
        "# Replace 'output_file.csv' with the desired path for your output CSV file\n",
        "output_file_path = 'output_file.csv'\n",
        "write_csv(output_file_path, random_pairings)\n",
        "\n",
        "print(f\"Random pairings saved to {output_file_path}\")\n"
      ],
      "metadata": {
        "colab": {
          "base_uri": "https://localhost:8080/"
        },
        "id": "P5hIUBbALvf0",
        "outputId": "cf830a3c-5749-49bc-ab6c-a960909721b9"
      },
      "execution_count": null,
      "outputs": [
        {
          "output_type": "stream",
          "name": "stdout",
          "text": [
            "Random pairings saved to output_file.csv\n"
          ]
        }
      ]
    }
  ]
}