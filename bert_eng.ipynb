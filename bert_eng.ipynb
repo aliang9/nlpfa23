{
  "nbformat": 4,
  "nbformat_minor": 0,
  "metadata": {
    "colab": {
      "provenance": [],
      "machine_shape": "hm",
      "gpuType": "V100",
      "include_colab_link": true
    },
    "kernelspec": {
      "name": "python3",
      "display_name": "Python 3"
    },
    "language_info": {
      "name": "python"
    },
    "widgets": {
      "application/vnd.jupyter.widget-state+json": {
        "f5f884034fcc4bc5a4ffe1b23a42572d": {
          "model_module": "@jupyter-widgets/controls",
          "model_name": "HBoxModel",
          "model_module_version": "1.5.0",
          "state": {
            "_dom_classes": [],
            "_model_module": "@jupyter-widgets/controls",
            "_model_module_version": "1.5.0",
            "_model_name": "HBoxModel",
            "_view_count": null,
            "_view_module": "@jupyter-widgets/controls",
            "_view_module_version": "1.5.0",
            "_view_name": "HBoxView",
            "box_style": "",
            "children": [
              "IPY_MODEL_6813654047cc43b8b901453c42a6f921",
              "IPY_MODEL_91d07ce896724f9eaf074971252ff87c",
              "IPY_MODEL_607e8aa03d074d5f89bdb9754d581275"
            ],
            "layout": "IPY_MODEL_49726745790c4b5098996ee420e95299"
          }
        },
        "6813654047cc43b8b901453c42a6f921": {
          "model_module": "@jupyter-widgets/controls",
          "model_name": "HTMLModel",
          "model_module_version": "1.5.0",
          "state": {
            "_dom_classes": [],
            "_model_module": "@jupyter-widgets/controls",
            "_model_module_version": "1.5.0",
            "_model_name": "HTMLModel",
            "_view_count": null,
            "_view_module": "@jupyter-widgets/controls",
            "_view_module_version": "1.5.0",
            "_view_name": "HTMLView",
            "description": "",
            "description_tooltip": null,
            "layout": "IPY_MODEL_5d210fdb63504d10b75cf5cf1b45baa4",
            "placeholder": "​",
            "style": "IPY_MODEL_4ded68f478dd4c1a838c59804e7457ef",
            "value": "Map: 100%"
          }
        },
        "91d07ce896724f9eaf074971252ff87c": {
          "model_module": "@jupyter-widgets/controls",
          "model_name": "FloatProgressModel",
          "model_module_version": "1.5.0",
          "state": {
            "_dom_classes": [],
            "_model_module": "@jupyter-widgets/controls",
            "_model_module_version": "1.5.0",
            "_model_name": "FloatProgressModel",
            "_view_count": null,
            "_view_module": "@jupyter-widgets/controls",
            "_view_module_version": "1.5.0",
            "_view_name": "ProgressView",
            "bar_style": "success",
            "description": "",
            "description_tooltip": null,
            "layout": "IPY_MODEL_6ec94278ae2240fba2b4b0f91b31ebb9",
            "max": 4334,
            "min": 0,
            "orientation": "horizontal",
            "style": "IPY_MODEL_2a3df895093440409e65d8921db272bd",
            "value": 4334
          }
        },
        "607e8aa03d074d5f89bdb9754d581275": {
          "model_module": "@jupyter-widgets/controls",
          "model_name": "HTMLModel",
          "model_module_version": "1.5.0",
          "state": {
            "_dom_classes": [],
            "_model_module": "@jupyter-widgets/controls",
            "_model_module_version": "1.5.0",
            "_model_name": "HTMLModel",
            "_view_count": null,
            "_view_module": "@jupyter-widgets/controls",
            "_view_module_version": "1.5.0",
            "_view_name": "HTMLView",
            "description": "",
            "description_tooltip": null,
            "layout": "IPY_MODEL_4f9063e47f3f444f8cc89b42f44dfa6d",
            "placeholder": "​",
            "style": "IPY_MODEL_bc611f5990634f3c82d2d32ef6ece9e8",
            "value": " 4334/4334 [00:01&lt;00:00, 3913.05 examples/s]"
          }
        },
        "49726745790c4b5098996ee420e95299": {
          "model_module": "@jupyter-widgets/base",
          "model_name": "LayoutModel",
          "model_module_version": "1.2.0",
          "state": {
            "_model_module": "@jupyter-widgets/base",
            "_model_module_version": "1.2.0",
            "_model_name": "LayoutModel",
            "_view_count": null,
            "_view_module": "@jupyter-widgets/base",
            "_view_module_version": "1.2.0",
            "_view_name": "LayoutView",
            "align_content": null,
            "align_items": null,
            "align_self": null,
            "border": null,
            "bottom": null,
            "display": null,
            "flex": null,
            "flex_flow": null,
            "grid_area": null,
            "grid_auto_columns": null,
            "grid_auto_flow": null,
            "grid_auto_rows": null,
            "grid_column": null,
            "grid_gap": null,
            "grid_row": null,
            "grid_template_areas": null,
            "grid_template_columns": null,
            "grid_template_rows": null,
            "height": null,
            "justify_content": null,
            "justify_items": null,
            "left": null,
            "margin": null,
            "max_height": null,
            "max_width": null,
            "min_height": null,
            "min_width": null,
            "object_fit": null,
            "object_position": null,
            "order": null,
            "overflow": null,
            "overflow_x": null,
            "overflow_y": null,
            "padding": null,
            "right": null,
            "top": null,
            "visibility": null,
            "width": null
          }
        },
        "5d210fdb63504d10b75cf5cf1b45baa4": {
          "model_module": "@jupyter-widgets/base",
          "model_name": "LayoutModel",
          "model_module_version": "1.2.0",
          "state": {
            "_model_module": "@jupyter-widgets/base",
            "_model_module_version": "1.2.0",
            "_model_name": "LayoutModel",
            "_view_count": null,
            "_view_module": "@jupyter-widgets/base",
            "_view_module_version": "1.2.0",
            "_view_name": "LayoutView",
            "align_content": null,
            "align_items": null,
            "align_self": null,
            "border": null,
            "bottom": null,
            "display": null,
            "flex": null,
            "flex_flow": null,
            "grid_area": null,
            "grid_auto_columns": null,
            "grid_auto_flow": null,
            "grid_auto_rows": null,
            "grid_column": null,
            "grid_gap": null,
            "grid_row": null,
            "grid_template_areas": null,
            "grid_template_columns": null,
            "grid_template_rows": null,
            "height": null,
            "justify_content": null,
            "justify_items": null,
            "left": null,
            "margin": null,
            "max_height": null,
            "max_width": null,
            "min_height": null,
            "min_width": null,
            "object_fit": null,
            "object_position": null,
            "order": null,
            "overflow": null,
            "overflow_x": null,
            "overflow_y": null,
            "padding": null,
            "right": null,
            "top": null,
            "visibility": null,
            "width": null
          }
        },
        "4ded68f478dd4c1a838c59804e7457ef": {
          "model_module": "@jupyter-widgets/controls",
          "model_name": "DescriptionStyleModel",
          "model_module_version": "1.5.0",
          "state": {
            "_model_module": "@jupyter-widgets/controls",
            "_model_module_version": "1.5.0",
            "_model_name": "DescriptionStyleModel",
            "_view_count": null,
            "_view_module": "@jupyter-widgets/base",
            "_view_module_version": "1.2.0",
            "_view_name": "StyleView",
            "description_width": ""
          }
        },
        "6ec94278ae2240fba2b4b0f91b31ebb9": {
          "model_module": "@jupyter-widgets/base",
          "model_name": "LayoutModel",
          "model_module_version": "1.2.0",
          "state": {
            "_model_module": "@jupyter-widgets/base",
            "_model_module_version": "1.2.0",
            "_model_name": "LayoutModel",
            "_view_count": null,
            "_view_module": "@jupyter-widgets/base",
            "_view_module_version": "1.2.0",
            "_view_name": "LayoutView",
            "align_content": null,
            "align_items": null,
            "align_self": null,
            "border": null,
            "bottom": null,
            "display": null,
            "flex": null,
            "flex_flow": null,
            "grid_area": null,
            "grid_auto_columns": null,
            "grid_auto_flow": null,
            "grid_auto_rows": null,
            "grid_column": null,
            "grid_gap": null,
            "grid_row": null,
            "grid_template_areas": null,
            "grid_template_columns": null,
            "grid_template_rows": null,
            "height": null,
            "justify_content": null,
            "justify_items": null,
            "left": null,
            "margin": null,
            "max_height": null,
            "max_width": null,
            "min_height": null,
            "min_width": null,
            "object_fit": null,
            "object_position": null,
            "order": null,
            "overflow": null,
            "overflow_x": null,
            "overflow_y": null,
            "padding": null,
            "right": null,
            "top": null,
            "visibility": null,
            "width": null
          }
        },
        "2a3df895093440409e65d8921db272bd": {
          "model_module": "@jupyter-widgets/controls",
          "model_name": "ProgressStyleModel",
          "model_module_version": "1.5.0",
          "state": {
            "_model_module": "@jupyter-widgets/controls",
            "_model_module_version": "1.5.0",
            "_model_name": "ProgressStyleModel",
            "_view_count": null,
            "_view_module": "@jupyter-widgets/base",
            "_view_module_version": "1.2.0",
            "_view_name": "StyleView",
            "bar_color": null,
            "description_width": ""
          }
        },
        "4f9063e47f3f444f8cc89b42f44dfa6d": {
          "model_module": "@jupyter-widgets/base",
          "model_name": "LayoutModel",
          "model_module_version": "1.2.0",
          "state": {
            "_model_module": "@jupyter-widgets/base",
            "_model_module_version": "1.2.0",
            "_model_name": "LayoutModel",
            "_view_count": null,
            "_view_module": "@jupyter-widgets/base",
            "_view_module_version": "1.2.0",
            "_view_name": "LayoutView",
            "align_content": null,
            "align_items": null,
            "align_self": null,
            "border": null,
            "bottom": null,
            "display": null,
            "flex": null,
            "flex_flow": null,
            "grid_area": null,
            "grid_auto_columns": null,
            "grid_auto_flow": null,
            "grid_auto_rows": null,
            "grid_column": null,
            "grid_gap": null,
            "grid_row": null,
            "grid_template_areas": null,
            "grid_template_columns": null,
            "grid_template_rows": null,
            "height": null,
            "justify_content": null,
            "justify_items": null,
            "left": null,
            "margin": null,
            "max_height": null,
            "max_width": null,
            "min_height": null,
            "min_width": null,
            "object_fit": null,
            "object_position": null,
            "order": null,
            "overflow": null,
            "overflow_x": null,
            "overflow_y": null,
            "padding": null,
            "right": null,
            "top": null,
            "visibility": null,
            "width": null
          }
        },
        "bc611f5990634f3c82d2d32ef6ece9e8": {
          "model_module": "@jupyter-widgets/controls",
          "model_name": "DescriptionStyleModel",
          "model_module_version": "1.5.0",
          "state": {
            "_model_module": "@jupyter-widgets/controls",
            "_model_module_version": "1.5.0",
            "_model_name": "DescriptionStyleModel",
            "_view_count": null,
            "_view_module": "@jupyter-widgets/base",
            "_view_module_version": "1.2.0",
            "_view_name": "StyleView",
            "description_width": ""
          }
        },
        "6e5d2bb9fd9d446bb23e5ce34a890ad5": {
          "model_module": "@jupyter-widgets/controls",
          "model_name": "HBoxModel",
          "model_module_version": "1.5.0",
          "state": {
            "_dom_classes": [],
            "_model_module": "@jupyter-widgets/controls",
            "_model_module_version": "1.5.0",
            "_model_name": "HBoxModel",
            "_view_count": null,
            "_view_module": "@jupyter-widgets/controls",
            "_view_module_version": "1.5.0",
            "_view_name": "HBoxView",
            "box_style": "",
            "children": [
              "IPY_MODEL_ed23ae5d4b1049d892563a27cfbdcf4a",
              "IPY_MODEL_d69abeb58c1f48468e12035538833943",
              "IPY_MODEL_26dfb90785404846972ec764c5f13889"
            ],
            "layout": "IPY_MODEL_8a8e8e6cc40e49899d0774f0d685fffd"
          }
        },
        "ed23ae5d4b1049d892563a27cfbdcf4a": {
          "model_module": "@jupyter-widgets/controls",
          "model_name": "HTMLModel",
          "model_module_version": "1.5.0",
          "state": {
            "_dom_classes": [],
            "_model_module": "@jupyter-widgets/controls",
            "_model_module_version": "1.5.0",
            "_model_name": "HTMLModel",
            "_view_count": null,
            "_view_module": "@jupyter-widgets/controls",
            "_view_module_version": "1.5.0",
            "_view_name": "HTMLView",
            "description": "",
            "description_tooltip": null,
            "layout": "IPY_MODEL_2f617db64b7b49b8a0769efe0220daff",
            "placeholder": "​",
            "style": "IPY_MODEL_994dbe8be0d040ceb40b4439bb241a97",
            "value": "Map: 100%"
          }
        },
        "d69abeb58c1f48468e12035538833943": {
          "model_module": "@jupyter-widgets/controls",
          "model_name": "FloatProgressModel",
          "model_module_version": "1.5.0",
          "state": {
            "_dom_classes": [],
            "_model_module": "@jupyter-widgets/controls",
            "_model_module_version": "1.5.0",
            "_model_name": "FloatProgressModel",
            "_view_count": null,
            "_view_module": "@jupyter-widgets/controls",
            "_view_module_version": "1.5.0",
            "_view_name": "ProgressView",
            "bar_style": "success",
            "description": "",
            "description_tooltip": null,
            "layout": "IPY_MODEL_ff878ae5591c451fb21e5689f034add3",
            "max": 1445,
            "min": 0,
            "orientation": "horizontal",
            "style": "IPY_MODEL_b5be011097e747c28afba2e6936017b5",
            "value": 1445
          }
        },
        "26dfb90785404846972ec764c5f13889": {
          "model_module": "@jupyter-widgets/controls",
          "model_name": "HTMLModel",
          "model_module_version": "1.5.0",
          "state": {
            "_dom_classes": [],
            "_model_module": "@jupyter-widgets/controls",
            "_model_module_version": "1.5.0",
            "_model_name": "HTMLModel",
            "_view_count": null,
            "_view_module": "@jupyter-widgets/controls",
            "_view_module_version": "1.5.0",
            "_view_name": "HTMLView",
            "description": "",
            "description_tooltip": null,
            "layout": "IPY_MODEL_f5f7e765a2b54778a4ee8a228e27d2c9",
            "placeholder": "​",
            "style": "IPY_MODEL_6012c6a3043445ae9d5d74f27ab7223a",
            "value": " 1445/1445 [00:00&lt;00:00, 4569.83 examples/s]"
          }
        },
        "8a8e8e6cc40e49899d0774f0d685fffd": {
          "model_module": "@jupyter-widgets/base",
          "model_name": "LayoutModel",
          "model_module_version": "1.2.0",
          "state": {
            "_model_module": "@jupyter-widgets/base",
            "_model_module_version": "1.2.0",
            "_model_name": "LayoutModel",
            "_view_count": null,
            "_view_module": "@jupyter-widgets/base",
            "_view_module_version": "1.2.0",
            "_view_name": "LayoutView",
            "align_content": null,
            "align_items": null,
            "align_self": null,
            "border": null,
            "bottom": null,
            "display": null,
            "flex": null,
            "flex_flow": null,
            "grid_area": null,
            "grid_auto_columns": null,
            "grid_auto_flow": null,
            "grid_auto_rows": null,
            "grid_column": null,
            "grid_gap": null,
            "grid_row": null,
            "grid_template_areas": null,
            "grid_template_columns": null,
            "grid_template_rows": null,
            "height": null,
            "justify_content": null,
            "justify_items": null,
            "left": null,
            "margin": null,
            "max_height": null,
            "max_width": null,
            "min_height": null,
            "min_width": null,
            "object_fit": null,
            "object_position": null,
            "order": null,
            "overflow": null,
            "overflow_x": null,
            "overflow_y": null,
            "padding": null,
            "right": null,
            "top": null,
            "visibility": null,
            "width": null
          }
        },
        "2f617db64b7b49b8a0769efe0220daff": {
          "model_module": "@jupyter-widgets/base",
          "model_name": "LayoutModel",
          "model_module_version": "1.2.0",
          "state": {
            "_model_module": "@jupyter-widgets/base",
            "_model_module_version": "1.2.0",
            "_model_name": "LayoutModel",
            "_view_count": null,
            "_view_module": "@jupyter-widgets/base",
            "_view_module_version": "1.2.0",
            "_view_name": "LayoutView",
            "align_content": null,
            "align_items": null,
            "align_self": null,
            "border": null,
            "bottom": null,
            "display": null,
            "flex": null,
            "flex_flow": null,
            "grid_area": null,
            "grid_auto_columns": null,
            "grid_auto_flow": null,
            "grid_auto_rows": null,
            "grid_column": null,
            "grid_gap": null,
            "grid_row": null,
            "grid_template_areas": null,
            "grid_template_columns": null,
            "grid_template_rows": null,
            "height": null,
            "justify_content": null,
            "justify_items": null,
            "left": null,
            "margin": null,
            "max_height": null,
            "max_width": null,
            "min_height": null,
            "min_width": null,
            "object_fit": null,
            "object_position": null,
            "order": null,
            "overflow": null,
            "overflow_x": null,
            "overflow_y": null,
            "padding": null,
            "right": null,
            "top": null,
            "visibility": null,
            "width": null
          }
        },
        "994dbe8be0d040ceb40b4439bb241a97": {
          "model_module": "@jupyter-widgets/controls",
          "model_name": "DescriptionStyleModel",
          "model_module_version": "1.5.0",
          "state": {
            "_model_module": "@jupyter-widgets/controls",
            "_model_module_version": "1.5.0",
            "_model_name": "DescriptionStyleModel",
            "_view_count": null,
            "_view_module": "@jupyter-widgets/base",
            "_view_module_version": "1.2.0",
            "_view_name": "StyleView",
            "description_width": ""
          }
        },
        "ff878ae5591c451fb21e5689f034add3": {
          "model_module": "@jupyter-widgets/base",
          "model_name": "LayoutModel",
          "model_module_version": "1.2.0",
          "state": {
            "_model_module": "@jupyter-widgets/base",
            "_model_module_version": "1.2.0",
            "_model_name": "LayoutModel",
            "_view_count": null,
            "_view_module": "@jupyter-widgets/base",
            "_view_module_version": "1.2.0",
            "_view_name": "LayoutView",
            "align_content": null,
            "align_items": null,
            "align_self": null,
            "border": null,
            "bottom": null,
            "display": null,
            "flex": null,
            "flex_flow": null,
            "grid_area": null,
            "grid_auto_columns": null,
            "grid_auto_flow": null,
            "grid_auto_rows": null,
            "grid_column": null,
            "grid_gap": null,
            "grid_row": null,
            "grid_template_areas": null,
            "grid_template_columns": null,
            "grid_template_rows": null,
            "height": null,
            "justify_content": null,
            "justify_items": null,
            "left": null,
            "margin": null,
            "max_height": null,
            "max_width": null,
            "min_height": null,
            "min_width": null,
            "object_fit": null,
            "object_position": null,
            "order": null,
            "overflow": null,
            "overflow_x": null,
            "overflow_y": null,
            "padding": null,
            "right": null,
            "top": null,
            "visibility": null,
            "width": null
          }
        },
        "b5be011097e747c28afba2e6936017b5": {
          "model_module": "@jupyter-widgets/controls",
          "model_name": "ProgressStyleModel",
          "model_module_version": "1.5.0",
          "state": {
            "_model_module": "@jupyter-widgets/controls",
            "_model_module_version": "1.5.0",
            "_model_name": "ProgressStyleModel",
            "_view_count": null,
            "_view_module": "@jupyter-widgets/base",
            "_view_module_version": "1.2.0",
            "_view_name": "StyleView",
            "bar_color": null,
            "description_width": ""
          }
        },
        "f5f7e765a2b54778a4ee8a228e27d2c9": {
          "model_module": "@jupyter-widgets/base",
          "model_name": "LayoutModel",
          "model_module_version": "1.2.0",
          "state": {
            "_model_module": "@jupyter-widgets/base",
            "_model_module_version": "1.2.0",
            "_model_name": "LayoutModel",
            "_view_count": null,
            "_view_module": "@jupyter-widgets/base",
            "_view_module_version": "1.2.0",
            "_view_name": "LayoutView",
            "align_content": null,
            "align_items": null,
            "align_self": null,
            "border": null,
            "bottom": null,
            "display": null,
            "flex": null,
            "flex_flow": null,
            "grid_area": null,
            "grid_auto_columns": null,
            "grid_auto_flow": null,
            "grid_auto_rows": null,
            "grid_column": null,
            "grid_gap": null,
            "grid_row": null,
            "grid_template_areas": null,
            "grid_template_columns": null,
            "grid_template_rows": null,
            "height": null,
            "justify_content": null,
            "justify_items": null,
            "left": null,
            "margin": null,
            "max_height": null,
            "max_width": null,
            "min_height": null,
            "min_width": null,
            "object_fit": null,
            "object_position": null,
            "order": null,
            "overflow": null,
            "overflow_x": null,
            "overflow_y": null,
            "padding": null,
            "right": null,
            "top": null,
            "visibility": null,
            "width": null
          }
        },
        "6012c6a3043445ae9d5d74f27ab7223a": {
          "model_module": "@jupyter-widgets/controls",
          "model_name": "DescriptionStyleModel",
          "model_module_version": "1.5.0",
          "state": {
            "_model_module": "@jupyter-widgets/controls",
            "_model_module_version": "1.5.0",
            "_model_name": "DescriptionStyleModel",
            "_view_count": null,
            "_view_module": "@jupyter-widgets/base",
            "_view_module_version": "1.2.0",
            "_view_name": "StyleView",
            "description_width": ""
          }
        },
        "2df484850741436b953e79344f8a111d": {
          "model_module": "@jupyter-widgets/controls",
          "model_name": "HBoxModel",
          "model_module_version": "1.5.0",
          "state": {
            "_dom_classes": [],
            "_model_module": "@jupyter-widgets/controls",
            "_model_module_version": "1.5.0",
            "_model_name": "HBoxModel",
            "_view_count": null,
            "_view_module": "@jupyter-widgets/controls",
            "_view_module_version": "1.5.0",
            "_view_name": "HBoxView",
            "box_style": "",
            "children": [
              "IPY_MODEL_10951434a7004a3090f23b57aa30b7fd",
              "IPY_MODEL_926805d062824957b75388759c597ba3",
              "IPY_MODEL_850dd39fc52b4072bac089925adbe15b"
            ],
            "layout": "IPY_MODEL_4d73c4649e62400abda7c2bc2786ef4c"
          }
        },
        "10951434a7004a3090f23b57aa30b7fd": {
          "model_module": "@jupyter-widgets/controls",
          "model_name": "HTMLModel",
          "model_module_version": "1.5.0",
          "state": {
            "_dom_classes": [],
            "_model_module": "@jupyter-widgets/controls",
            "_model_module_version": "1.5.0",
            "_model_name": "HTMLModel",
            "_view_count": null,
            "_view_module": "@jupyter-widgets/controls",
            "_view_module_version": "1.5.0",
            "_view_name": "HTMLView",
            "description": "",
            "description_tooltip": null,
            "layout": "IPY_MODEL_1ef18dba4ef04f26ba7122f335c1977d",
            "placeholder": "​",
            "style": "IPY_MODEL_b85a8be2611e424aae400ebfd2aba527",
            "value": "Map: 100%"
          }
        },
        "926805d062824957b75388759c597ba3": {
          "model_module": "@jupyter-widgets/controls",
          "model_name": "FloatProgressModel",
          "model_module_version": "1.5.0",
          "state": {
            "_dom_classes": [],
            "_model_module": "@jupyter-widgets/controls",
            "_model_module_version": "1.5.0",
            "_model_name": "FloatProgressModel",
            "_view_count": null,
            "_view_module": "@jupyter-widgets/controls",
            "_view_module_version": "1.5.0",
            "_view_name": "ProgressView",
            "bar_style": "success",
            "description": "",
            "description_tooltip": null,
            "layout": "IPY_MODEL_440cee2ae99d45b49c4bf74d0dec617f",
            "max": 1445,
            "min": 0,
            "orientation": "horizontal",
            "style": "IPY_MODEL_6183c665c15c41e9a581eabac9b218f9",
            "value": 1445
          }
        },
        "850dd39fc52b4072bac089925adbe15b": {
          "model_module": "@jupyter-widgets/controls",
          "model_name": "HTMLModel",
          "model_module_version": "1.5.0",
          "state": {
            "_dom_classes": [],
            "_model_module": "@jupyter-widgets/controls",
            "_model_module_version": "1.5.0",
            "_model_name": "HTMLModel",
            "_view_count": null,
            "_view_module": "@jupyter-widgets/controls",
            "_view_module_version": "1.5.0",
            "_view_name": "HTMLView",
            "description": "",
            "description_tooltip": null,
            "layout": "IPY_MODEL_e31643cdbe024b258083857788e6c336",
            "placeholder": "​",
            "style": "IPY_MODEL_6d0220b53acf48e791092c5bbe39b5b0",
            "value": " 1445/1445 [00:00&lt;00:00, 4912.98 examples/s]"
          }
        },
        "4d73c4649e62400abda7c2bc2786ef4c": {
          "model_module": "@jupyter-widgets/base",
          "model_name": "LayoutModel",
          "model_module_version": "1.2.0",
          "state": {
            "_model_module": "@jupyter-widgets/base",
            "_model_module_version": "1.2.0",
            "_model_name": "LayoutModel",
            "_view_count": null,
            "_view_module": "@jupyter-widgets/base",
            "_view_module_version": "1.2.0",
            "_view_name": "LayoutView",
            "align_content": null,
            "align_items": null,
            "align_self": null,
            "border": null,
            "bottom": null,
            "display": null,
            "flex": null,
            "flex_flow": null,
            "grid_area": null,
            "grid_auto_columns": null,
            "grid_auto_flow": null,
            "grid_auto_rows": null,
            "grid_column": null,
            "grid_gap": null,
            "grid_row": null,
            "grid_template_areas": null,
            "grid_template_columns": null,
            "grid_template_rows": null,
            "height": null,
            "justify_content": null,
            "justify_items": null,
            "left": null,
            "margin": null,
            "max_height": null,
            "max_width": null,
            "min_height": null,
            "min_width": null,
            "object_fit": null,
            "object_position": null,
            "order": null,
            "overflow": null,
            "overflow_x": null,
            "overflow_y": null,
            "padding": null,
            "right": null,
            "top": null,
            "visibility": null,
            "width": null
          }
        },
        "1ef18dba4ef04f26ba7122f335c1977d": {
          "model_module": "@jupyter-widgets/base",
          "model_name": "LayoutModel",
          "model_module_version": "1.2.0",
          "state": {
            "_model_module": "@jupyter-widgets/base",
            "_model_module_version": "1.2.0",
            "_model_name": "LayoutModel",
            "_view_count": null,
            "_view_module": "@jupyter-widgets/base",
            "_view_module_version": "1.2.0",
            "_view_name": "LayoutView",
            "align_content": null,
            "align_items": null,
            "align_self": null,
            "border": null,
            "bottom": null,
            "display": null,
            "flex": null,
            "flex_flow": null,
            "grid_area": null,
            "grid_auto_columns": null,
            "grid_auto_flow": null,
            "grid_auto_rows": null,
            "grid_column": null,
            "grid_gap": null,
            "grid_row": null,
            "grid_template_areas": null,
            "grid_template_columns": null,
            "grid_template_rows": null,
            "height": null,
            "justify_content": null,
            "justify_items": null,
            "left": null,
            "margin": null,
            "max_height": null,
            "max_width": null,
            "min_height": null,
            "min_width": null,
            "object_fit": null,
            "object_position": null,
            "order": null,
            "overflow": null,
            "overflow_x": null,
            "overflow_y": null,
            "padding": null,
            "right": null,
            "top": null,
            "visibility": null,
            "width": null
          }
        },
        "b85a8be2611e424aae400ebfd2aba527": {
          "model_module": "@jupyter-widgets/controls",
          "model_name": "DescriptionStyleModel",
          "model_module_version": "1.5.0",
          "state": {
            "_model_module": "@jupyter-widgets/controls",
            "_model_module_version": "1.5.0",
            "_model_name": "DescriptionStyleModel",
            "_view_count": null,
            "_view_module": "@jupyter-widgets/base",
            "_view_module_version": "1.2.0",
            "_view_name": "StyleView",
            "description_width": ""
          }
        },
        "440cee2ae99d45b49c4bf74d0dec617f": {
          "model_module": "@jupyter-widgets/base",
          "model_name": "LayoutModel",
          "model_module_version": "1.2.0",
          "state": {
            "_model_module": "@jupyter-widgets/base",
            "_model_module_version": "1.2.0",
            "_model_name": "LayoutModel",
            "_view_count": null,
            "_view_module": "@jupyter-widgets/base",
            "_view_module_version": "1.2.0",
            "_view_name": "LayoutView",
            "align_content": null,
            "align_items": null,
            "align_self": null,
            "border": null,
            "bottom": null,
            "display": null,
            "flex": null,
            "flex_flow": null,
            "grid_area": null,
            "grid_auto_columns": null,
            "grid_auto_flow": null,
            "grid_auto_rows": null,
            "grid_column": null,
            "grid_gap": null,
            "grid_row": null,
            "grid_template_areas": null,
            "grid_template_columns": null,
            "grid_template_rows": null,
            "height": null,
            "justify_content": null,
            "justify_items": null,
            "left": null,
            "margin": null,
            "max_height": null,
            "max_width": null,
            "min_height": null,
            "min_width": null,
            "object_fit": null,
            "object_position": null,
            "order": null,
            "overflow": null,
            "overflow_x": null,
            "overflow_y": null,
            "padding": null,
            "right": null,
            "top": null,
            "visibility": null,
            "width": null
          }
        },
        "6183c665c15c41e9a581eabac9b218f9": {
          "model_module": "@jupyter-widgets/controls",
          "model_name": "ProgressStyleModel",
          "model_module_version": "1.5.0",
          "state": {
            "_model_module": "@jupyter-widgets/controls",
            "_model_module_version": "1.5.0",
            "_model_name": "ProgressStyleModel",
            "_view_count": null,
            "_view_module": "@jupyter-widgets/base",
            "_view_module_version": "1.2.0",
            "_view_name": "StyleView",
            "bar_color": null,
            "description_width": ""
          }
        },
        "e31643cdbe024b258083857788e6c336": {
          "model_module": "@jupyter-widgets/base",
          "model_name": "LayoutModel",
          "model_module_version": "1.2.0",
          "state": {
            "_model_module": "@jupyter-widgets/base",
            "_model_module_version": "1.2.0",
            "_model_name": "LayoutModel",
            "_view_count": null,
            "_view_module": "@jupyter-widgets/base",
            "_view_module_version": "1.2.0",
            "_view_name": "LayoutView",
            "align_content": null,
            "align_items": null,
            "align_self": null,
            "border": null,
            "bottom": null,
            "display": null,
            "flex": null,
            "flex_flow": null,
            "grid_area": null,
            "grid_auto_columns": null,
            "grid_auto_flow": null,
            "grid_auto_rows": null,
            "grid_column": null,
            "grid_gap": null,
            "grid_row": null,
            "grid_template_areas": null,
            "grid_template_columns": null,
            "grid_template_rows": null,
            "height": null,
            "justify_content": null,
            "justify_items": null,
            "left": null,
            "margin": null,
            "max_height": null,
            "max_width": null,
            "min_height": null,
            "min_width": null,
            "object_fit": null,
            "object_position": null,
            "order": null,
            "overflow": null,
            "overflow_x": null,
            "overflow_y": null,
            "padding": null,
            "right": null,
            "top": null,
            "visibility": null,
            "width": null
          }
        },
        "6d0220b53acf48e791092c5bbe39b5b0": {
          "model_module": "@jupyter-widgets/controls",
          "model_name": "DescriptionStyleModel",
          "model_module_version": "1.5.0",
          "state": {
            "_model_module": "@jupyter-widgets/controls",
            "_model_module_version": "1.5.0",
            "_model_name": "DescriptionStyleModel",
            "_view_count": null,
            "_view_module": "@jupyter-widgets/base",
            "_view_module_version": "1.2.0",
            "_view_name": "StyleView",
            "description_width": ""
          }
        }
      }
    },
    "accelerator": "GPU"
  },
  "cells": [
    {
      "cell_type": "markdown",
      "metadata": {
        "id": "view-in-github",
        "colab_type": "text"
      },
      "source": [
        "<a href=\"https://colab.research.google.com/github/aliang9/nlpfa23/blob/main/bert_eng.ipynb\" target=\"_parent\"><img src=\"https://colab.research.google.com/assets/colab-badge.svg\" alt=\"Open In Colab\"/></a>"
      ]
    },
    {
      "cell_type": "code",
      "source": [
        "!pip install -q transformers datasets evaluate\n",
        "!pip install -q accelerate\n",
        "!export CUDA_LAUNCH_BLOCKING=1"
      ],
      "metadata": {
        "id": "MPsKCFLPipy-"
      },
      "execution_count": null,
      "outputs": []
    },
    {
      "cell_type": "code",
      "source": [
        "import pandas as pd\n",
        "import numpy as np\n",
        "\n",
        "reddit_jokes = pd.read_csv('updated-reddit-jokes.csv')"
      ],
      "metadata": {
        "id": "uBSqnnp8jGgx"
      },
      "execution_count": null,
      "outputs": []
    },
    {
      "cell_type": "code",
      "source": [
        "# Sample data (using this for small tests)\n",
        "setups = [\"Why did the chicken cross the road?\",\n",
        "                \"What do you call a fish with no eyes?\",\n",
        "                \"Why was the math book sad?\",\n",
        "                \"And the Lord said unto John, \\\"Come forth and you will receive eternal life.\\\"\"]\n",
        "punchlines = [\"To get to the other side.\",\n",
        "              \"A fsh.\",\n",
        "              \"Because it had too many problems.\",\n",
        "              \"But John came fifth, and won a toaster.\"]\n",
        "incorrect_punchlines = [[\"To catch the worm.\", \"To visit the other side.\", \"To find its friend.\"],\n",
        "                        [\"A catfish.\", \"A shark.\", \"A dolphin.\"],\n",
        "                        [\"Because it failed its test.\", \"Because it lost its cover.\", \"Because it got bullied.\"],\n",
        "                        [\"Because it failed its test.\", \"Because it lost its cover.\", \"Because it got bullied.\"]]"
      ],
      "metadata": {
        "id": "Qn1A9JGmlHz8"
      },
      "execution_count": null,
      "outputs": []
    },
    {
      "cell_type": "code",
      "source": [
        "import random\n",
        "from sklearn.model_selection import train_test_split\n",
        "\n",
        "setups_train, setups_test, punchlines_train, punchlines_test = train_test_split(reddit_jokes['title'], reddit_jokes['selftext'], test_size=0.4, random_state=1)\n",
        "setups_val, setups_test, punchlines_val, punchlines_test = train_test_split(setups_test, punchlines_test, test_size=0.5, random_state=1)"
      ],
      "metadata": {
        "id": "_XjREOhFXz9a"
      },
      "execution_count": null,
      "outputs": []
    },
    {
      "cell_type": "code",
      "source": [
        "from datasets import Dataset\n",
        "from random import randint\n",
        "\n",
        "def generate_dataset(setups, punchlines):\n",
        "  # Combine the two DataFrames and add the label for the correct answer (to be ensured later)\n",
        "  labels = pd.DataFrame({'label': [randint(0, 3) for _ in range(len(punchlines))]})\n",
        "  combined_df = pd.concat([setups, punchlines], axis=1).reset_index(drop=True)\n",
        "  combined_df = pd.concat([combined_df, labels], axis=1)\n",
        "  combined_df = combined_df.rename(columns={'title': 'setup', 'selftext': 'punchline'})\n",
        "\n",
        "  # Convert the combined DataFrame to a dictionary\n",
        "  data_dict = combined_df.to_dict(orient='list')\n",
        "\n",
        "  # Create a dataset using the Dataset class\n",
        "  my_dataset = Dataset.from_dict(data_dict)\n",
        "  return my_dataset\n",
        "\n",
        "train_dataset = generate_dataset(setups_train, punchlines_train)\n",
        "val_dataset = generate_dataset(setups_val, punchlines_val)\n",
        "test_dataset = generate_dataset(setups_test, punchlines_test)"
      ],
      "metadata": {
        "id": "f7xmZdK_v0NF"
      },
      "execution_count": null,
      "outputs": []
    },
    {
      "cell_type": "code",
      "source": [
        "print(train_dataset['setup'])"
      ],
      "metadata": {
        "colab": {
          "base_uri": "https://localhost:8080/"
        },
        "id": "ZlEXJ2ZyxXRK",
        "outputId": "e366c1e8-efa9-423b-f11a-ab160caf750c"
      },
      "execution_count": null,
      "outputs": [
        {
          "output_type": "stream",
          "name": "stdout",
          "text": [
            "['How do you arrest a Roman woman?', 'The inventor of the throat lozenge has died.', 'A vegan said to me, \"People who sell meat are disgusting.\"', 'Why was Melania so excited when Donald Trump became president', \"Do you know why I don't eat at Chili's or Applebee's?\", 'I watched my first porno film last week....', 'I told my girlfriend she drew her eyebrows too high', 'I broke up with my girlfriend because I like my women like I like my coffee', \"I was furious when my friend showed me my wife's profile on a dating website.\", 'What do you call friends that you go out to eat with?', 'A bad workman blames his fools.', 'Dating is a lot like fishing...', 'How do you cover 12 holes with one hole?', 'A girl once told me, “If you lost about 50 pounds you’d be cute”', 'My blind friend just tried LSD for the first time...', 'The 2020 election results are in!', \"Whats wet on the inside and hairy on the outside. It starts with 'C', ends with 'T', and has a 'U' and an 'N' in the middle.\", 'A nihilist, a socialist, and a neo-marxist walk into a bar and order drinks.', 'If a single stick is called a \"fag\", and a bundle of \"fags\" is called a \"faggot\", then what do you call a group of \"faggots\"?', 'Terrorists have hijacked a plane filled with politicians...', \"Ever since I installed Adblocker Plus things haven't been going so well..\", 'A new study shows that unvaccinated children are less likely to be autistic', \"I relabeled all the jars in my wife's spice rack.\", 'I scared the postman today by going to the door completely naked...', 'How do you get 30 drunk Canadians out of the pool?', 'My favourite film is The Hunchback of Notre Dame', 'Do you ever wake up, kiss the person sleeping beside you, and be glad that you are alive?', 'I wanted to be an anti-vaxxer for halloween', 'Whats the difference between a terrorist training camp and an orphanage?', 'Science builds planes and skyscrapers', 'Dude 1: Hey, bro?', \"2 reasons I don't give money to homeless people\", 'Dont challange Death to a pillow fight', 'I put root beer in a square glass', \"Australians don't have sex...\", \"Remember, as a child, when air for your bike was free? Now it's $1.50! I asked the gas station attendant why.\", 'If men call short women petite. What do women call short men?', 'I read a book about Stockholm Syndrome.', \"When Mary had a baby boy, the wise men weren't surprised...\", 'I get really embarrassed when female guests visit my house and my dog sniffs their crotch.', 'My local drug dealer started dressing up as a Jehovah’s Witness so he wouldn’t arouse suspicion.', 'A man is washing his car with his son...', '19 and 20 had a fight.', 'I like 25 letters of the alphabet', 'A Jake Paul fan walked into a bar', 'My friend asked me, “Is sex weird after you get a vasectomy?”', 'How many super saiyans does it take to change a light bulb?', 'In 2016, celebrities died and their legacies touched people.', \"The other day I asked my mom how many 'a couple' was,\", 'My wife left me because I spent our entire life savings on a penis enlargement procedure.', 'So I saw that the new dinosaur in Jurassic Park is a hybrid', 'Daddy, what are clouds made of?', 'Yesterday I paid a stranger to knock me unconscious, shove a foreign object up my ass and film the whole thing.', 'A good percentage of my friends are Nazis.', 'Why did an old man fall into a well?', 'What do you call 5 black people having sex?', \"My girlfriend said she's fed up with me always pretending I’m a detective, and that we should split up...\", \"I'm going to kill myself....\", 'How do you find a blind guy at a nude beach?', 'Why are all Jewish men circumcised?', \"I recently discovered I can move my sister's daughters through the air with my brain but not her sons.\", 'I zipped up my jeans and got my penis caught in the zipper. I painfully shouted out.....', \"What rock group has four men that don't sing?\", 'How do you turn a fox into an elephant?', 'I have two requirements in my will....', 'The only person that keeps me from commiting suicide', 'This time next year you guys will be laughing about all the Coronavirus fears of today...', 'I buy all my guns from a guy named T-Rex...', 'People should really stop making jokes about major tragedies. My Dad died on 9/11...', 'The salt packet says it was created from a 250 million year old Himalayan rock salt bed', 'Just accidentally emailed a porn link to a co-worker...', 'Jehovah’s Witness don’t celebrate Halloween.', \"What's the hardest thing about dating a blind woman?\", 'This fibonacci joke', 'What’s a stalker and a Pokemon nerd got in common?', '\"Fucking kids are expensive,\" I said.', \"When I said to my teacher,I had 26 pets, didn't believe me. So I showed her a picture of my fish tank.\", 'I like my coffee like I like my slaves...', 'I think it\\'s funny that \"forgive me father, for I have sinned\" and \"sorry Daddy, I\\'ve been naughty\" don\\'t mean the same thing at all', 'Today I gave my seat to a blind lady on the bus,', 'I love the way the Earth rotates...', \"Been chatting with this 14 year old girl. Real sexy and flirty. Things are going great, but now she tells me she's an undercover cop.\", 'Its funny how we all sleep differently.', \"My friends say I'm gay for not liking sports...\", 'I saw a sign that said \"watch for children\".', 'A sudden blowjob woke up young Carl...', 'As I handed my dad his 50th birthday card, he looked at me with tears in his eyes and said ....', \"Don't know why this got removed the first time. I'll try again. When is it OK to have sex with your cousin?\", 'You hear about the transgender in the military?', \"What do you call a terrorist's girlfriend?\", '\"One man\\'s trash is another man\\'s treasure.\"', 'I built a 1:1000000 model of a German submarine.', 'In what state are most cows found in?', '“There is no God” -Stephen Hawking, 2011', \"Donald Trump said if I voted for Hillary Clinton I'd have a President constantly under Federal investigation.\", 'How many Americans does it take to change a light bulb?', 'I just got banned from /r/fashion', 'In order to attract women I like to use this quote from Shakespeare’s Hamlet, Act III, Scene IV, line 82.', 'TIL the american flag planted on the moon is now completely white due to radiation from the sun.', 'I left my adderall in my Ford Fiesta.', 'Why did Karen press Ctrl+Alt+Delete?', 'My wife told me to take a spider out instead of killing it.', 'When you pull the pin on a grenade, how do you put it back in?', 'Why do Indians hate snow?', \"Give a man a gun, he'll rob a bank\", 'Gay people have no excuse to have a bad fashion sense', \"They say there's a person capable of murder in every friendship group.\", 'Hitler died in 1945, Donald Trump was born in 1946...', \"What's the difference between hungry and horny?\", '9/10 Redditors are idiots', 'Wife: I just got stung by a jellyfish. quick, pee on it', 'What’s the generic name for Viagara?', \"It's now 7 months since I joined the gym and nothing has changed.\", \"I don't get the appeal of school shooter jokes.\", 'A man in an interrogation room says “I’m not saying a word without my lawyer present.”', '*Creating password*', 'In breaking news, Triple Crown winner Justify has turned down an invitation to White House.', \"My wife said she'd like to have another baby.\", 'So I met a vegan.', 'My girlfriend told me she wanted to be treated like a princess', 'What headphones does United Airlines use?', \"My girlfriend says that small penis isn't that big of a problem\", 'A hot naked woman robbed a bank', 'Dad washes his car with his son', 'My neighbors are listening to great music.', \"Someone told me there's a gay guy in my circle of friends...\", 'Don’t you hate it when you can’t sleep because you are reminded of a mistake you made 2 years ago?', 'The United States and Britain are having a competition on who can fuck themselves up the most.', 'If I had a dollar for every time I had an existential crisis', '“Hey Dad, who invented the haircut?”', 'My wife told me women are better at multitasking than men.', \"Why can't Asian couples have Caucasian babies?\", 'Dave drowned. So at the funeral we got him a wreath in the shape of a lifebelt.', 'Jokes and sex are almost the same', 'We were eating dinner tonight, when my daughter said to me, “I see your glass is empty. Would you like another one?”', 'What do Japanese men do when they have erections?', 'I got fined $50 for sneaking popcorn and a drink into the movie theater.', 'Why did my dad go to prison?', 'Scientists discovered a revolutionary material with infinite length and zero depth', 'A goat, a drum, and a rattlesnake fall down a cliff...', \"McDonald's tried to create a beef version of the McRib, but failed.\", \"Why didn't 4 enter the haunted house?\", \"Looking back, I'm glad I didn't get that YouTube internship\", 'If two white supremacists get a divorce...', 'As a german I have to ask: You know what really grinds my gears?', 'Where do suicide bombers go after they die?', 'If I had a dollar for every time I had sex', \"What's 200 yards long and has an IQ of 40?\", 'What does a robot do after a one night stand?', 'No shirt no shoes no service', 'My friend was thinking of getting a labrador.', \"If you're here for the yodeling lesson\", 'What does the “r” in r/jokes stand for?', '(P+L)(A+N) = PA+PN+LA+LN', 'I asked my wife if I should watch football or porn.', \"Man, it's so cold outside..\", 'Your penis is so small...', 'I like my women like I like my mathematical constants.', 'A blonde, brunette, and a redhead are all in the 9th Grade. Which one is the sexiest?', 'How are women like swimming pools?', 'What did Gordon Ramsay say when he caught a clown in bed with the Egyptian Sun God?', 'On September 11, 2001, I was in geometry class.', 'How many optometrists does it take to screw in a light bulb?', 'I received an email from Google', 'I went to the Atlanta Falcons locker room to get some change for a dollar...', 'A slice of Apple Pie is $2.50 in Jamaica, $2.75 in Aruba and $3.00 in the Bahamas', \"Fishermen hate him- You won't believe the one item he uses to catch more fish than anyone else\", 'I finally found my girlfriend’s G-Spot......', 'My wife says if this post gets over 1000 upvotes, I can get anal.', 'I always look for a woman who has a tattoo.', 'Slutty girls are like Wal-Marts', 'Why can’t you breed a eel with and eagle?', 'My girlfriend said to me \"sex is better on holiday\".', 'If you feel the Bern you should vote for Bernie Sanders', 'My wife found out I was cheating on her after she found all the letters I was hiding. She kicked over the table, stormed out of the room and shouted that she’s never...', \"Why are Sherlock Holmes' taxes so low?\", 'With all the bad things happenning in america right now,', 'I’m seriously thinking about re-marrying my ex-wife…', 'I got jumped by five black guys in Baltimore.', 'A piece of shit walks into the bar', 'Ever since I became an archeologist', 'My father always told me \"If you are not the best, then you are piece of sh*t!\"', 'My doctor recommended to eat at BurgerKing more often', 'If your girlfriend starts smoking..', 'My ex-wife cheated on me with her deaf best friend!', 'Boobs are like the sun.', 'Why did the cows come back to the marijuana field?', \"Fun fact: Betsy Devos' name contains every letter of the alphabet\", 'A girl walks into a bar.', 'The opposite of an assassin is', 'Why do Scottish men wear kilts?', 'Doctor: Your brain fell out after your accident, but we managed to put it back in', 'Barack Obama goes to a costume party while giving his wife a piggyback ride. Someone asks him what he’s dressed up as and he responds “I’m a snail!”', 'A Cuban, a Canadian, and a white supremacist walk into a bar.', 'A man using Apple maps walks into a bar', 'A man rushes into the emergency room with 10 plastic horses up his rectum.', 'My wife just told me that in 9 months, I’m in for a big surprise...', 'I refused to believe my dad was stealing from his job as a road worker', 'Did you hear about the chronic masturbator that was slightly under the weather?', 'My tongue slipped when I was asking my wife to \"pass the milk, honey\" when we had breakfast yesterday', 'Son: \"Dad, Am I adopted\"?', 'Most people are shocked when they find out...', 'Who led the Jews across a semi-permeable membrane?', 'I picked up a hitchhiker last night. He seemed surprised that I\\'d pick up a stranger. He asked, \"Thanks but why would you pick me up? How would you know I\\'m not a serial killer?\".', 'TIL: Stephen King has a son named Joe.', \"The best years of my life were spent in the arms of another man's wife...\", 'People who call sex hotlines literally only want one thing', 'TIL if Steve Irwin had worn sunscreen that fateful day, he would have survived.', 'So this guy with premature ejaculation comes out of nowhere', 'Why are women and children evacuated first in a disaster?', 'I was watching Jurassic park the other day.....', \"Jehovah's Witness don't celebrate Halloween\", 'How come nobody at the kings table laughed when he farted?', 'A man tells his wife \"you\\'ve been watching the food channel for years and you\\'re still one of the worst cooks I know...\"', 'Why do females make the best archaeologists?', 'Nothing beats a beautiful girl with an amazing voice...', \"If I win tonight's Powerball, I'm sharing with everyone on Reddit.\", 'I have two requirements in my will....', 'I’m never smoking weed with immigrants again.', 'When I was little, I had a disease that required me to eat dirt three times a day in order to survive..', 'What do Apple and the NFL have in common?', 'With the Zika virus and how much hooking up happens in the Olympic Village..', 'What do you call a bee that lives in America?', 'How do you make a blonde laugh on a Saturday?', \"Haven't seen the new Star Wars yet...\", 'Telltale Games will shut down...', 'How to be cool', 'Genders are like the twin towers', 'What did the scientist say when he found two isotopes of helium?', 'I have a phobia of over engineered buildings', \"You'll never hear a Hindu tell a Yo Mamma joke...\", 'Everyone keeps telling me I’m the worst mailman they’ve ever seen.', 'A single sperm has 37.5 MB of DNA information in it. That means an average ejaculation represents a data transfer of 1587.5 TB', \"My Asian girlfriend told me there's nothing wrong with having a little penis.\", 'how do you starve a black person?', 'Why do social justice warriors hate dentists?', \"I don't always tell dad jokes\", 'To this day, the boy that used to bully me at school still takes my lunch money.', 'People often accuse me of “stealing other’s jokes” and being “a plagiarist.”', 'Today I went for a walk with a beautiful girl.', 'Bouncer: \"I\\'m going to have to ask you to leave.\"', 'My friend said, \"Congratulations on your new job! How did you get it?\" I replied, \"The same way the Virgin Mary got Jesus.\" He laughed, \"What? A miracle?!\"', 'Girl: \"Come Over\"', 'I got a call from my ex crying and telling me she was HIV+', 'When I canceled my gym membership,', 'What does a wife and a hand grenade have in common?', 'If I was addicted to masturbation, and then became addicted to sex...', '1 and 2 went out for a walk in the snow.', 'Not bragging, but I made six figures last year,', 'How many Brexiteers does it take to change a lightbulb?', 'Did you hear about the mathematician who is afraid of negative numbers?', 'What did Raichu say when it saw Pikachu', 'There is a fine line between a numerator and a denominator.', '\"I\\'m sorry\" and \"I apologize\" generally mean the same thing...', 'Interviewer - Okay, describe yourself in 3 words', \"What's a pirate's favorite letter?\", 'Why are there no Walmarts in Syria?', 'Had my girlfriend wear her Starbucks uniform to bed for roleplay', \"If it wasn't for Muslims, we wouldn't have had 9/11...\", '6.9 is the worst number ever.', 'Dark humor is like cancer.', \"Why didn't the lifeguard save the hippy?\", 'If you rearrange all the letters of POSTMEN', 'An attractive woman took a seat next to me at a bar last night', 'The other day my wife asked me to pass her the lipstick but I passed her glue by mistake', '75% of men kiss their wives goodbye when they leave the house.', 'My friend told me I make him feel uncomfortable because I violate his personal space...', 'Why is North Korea so heartless?', 'I know now why Trump wants to build a wall', \"I asked my Chinese friend what it's like living in China\", \"Call a girl beautiful 1,000 times and she won't think twice...\", 'In the middle of the battle, I decided to use a knife to preserve my ammo.', 'What do Giants and Strippers have in common?', 'The director of EA walks into a bar', 'As I suspected, someone has been adding soil to my garden.', \"Today at the gym I asked a girl what her new year's resolution was.\", 'An Irish guy walks out of a bar....', 'Whats the difference between sex and US Presidental elections?', \"I invited my girlfriend to go to the gym with me, then I didn't show...\", 'I once swallowed two pieces of string and an hour later they came out of my ass tied together.', 'Why does Barbie never get pregnant?', 'After my girlfriend got pregnant, everything changed.', 'What does the sign on an out-of-business brothel say?', '9 months from now there will be a baby boom. 13 years later will give rise to the next generation, known as', 'How do you say \"no\" in Japanese?', 'I like my ceiling.', 'How does Donald Trump plan on deporting millions of illegal immigrants?', '{air horn sound}', \"Name a vegetable that's kind of cool.\", \"What's the difference between American girls and Iranian girls?\", 'Somebody just threw a jar of mayonnaise at me', 'Is my girlfriend disappointed in my body?', 'I found a place where the recycling rate is 98%', 'My wife left me for an Indian guy', 'My wife walked in on me masturbating to an optical illusion.', \"My wife's fantasy is to be with another man. Mine is to have two girls at the same time.\", 'Dark humor: Explained', \"Why doesn't Jesus trust mankind?\", \"Roses are red, here's something new...\", 'Why wont ISIS bomb my local Walmart?', \"Today i asked the hot girl at my gym what her New Year's resolution was.\", 'As I handed my dad his 50th birthday card, he looked at me with tears in his eyes and said:', 'My mother used to say the way to a mans heart is through his stomach. Lovely woman.', 'Two Priests are in a burning Chruch', '“Can you please change my grade?”', \"My girlfriend left me because she couldn't handle my OCD.\", 'I cannot believe no ones come up with a cure for anorexia yet.', 'What’s the difference between a tire and 365 used condoms?', \"Comey: He's guilty\", \"I don't mind the Chinese students in my Math class being really good at the subject\", 'Rolled my first joint last night.', 'Why do some couples not go to the gym?', \"I tried to explain to my 4 year old son that it's perfectly normal to accidentally poop your pants.\", 'I saw two guys wearing the same outfit and asked them if they were gay?', 'My wife just gave birth today and after thanking the doctor, I pulled him aside and sheepishly asked, \"How soon do you think we\\'ll be able to have sex?\"', 'My girlfriend broke up with me so I stole her wheelchair.', \"Why don't people in Athens wake up early?\", \"What's the difference between me and Jimmy Fallon?\", 'There are a few criminals in my town that keep stealing wheels from parked police cars.', \"I think I've been hacked by Russia.\", 'I bought my son a puppy for his birthday, but I accidentally backed over him in the driveway and killed him...', 'Why will the congress never impeach Trump?', 'My friend drowned. So at his funeral...', 'The amount of bad Covid-19 jokes being circulated is starting to reach alarming figures', 'I’m sick of my wife blowing everything out of proportion.', \"My girlfriend told me I'm her 32nd lover\", 'Sixteen sodium atoms walk into a bar…', 'A woman is sitting at her deceased husband’s funeral. A man asks “do you mind if I say a word” “no, go right ahead” the woman replies. The man stands, clears his throat, says...', 'A man who lived by the sea grew a cucumber so large he was able to turn it into his house. One day a bad storm flooded the area with seawater and damged his home.', 'Up the mountain, a japanese asked the wise man: \"Master Akira, why every western man thinks that we, japanese, all look alike?\"', 'My dick was once in the Guinness book of World Records.', \"Isn't it weird when sometimes you're thinking about someone and then they suddenly appear?\", 'Communist alternative of \"grab \\'em by the pussy\" would be...', 'Bartender: We don’t serve time travellers in here...', 'Did you know you can tell the gender of an ant by throwing it in water?', '\"Hey son, what has 4 legs and doesn\\'t breathe?\"', 'Interviewer: How do you explain the five-year gap on your resume?', 'Doc : You have been diagnosed with obesity.', 'The other day I had sex with my third cousin.', 'Why does Hillary Clinton have two Ls in her first name?', 'Someone called me racist for saying \"black paint\"', 'A blonde, a brunette and a redhead are sitting in the first grade, who has the biggest boobs?', 'A man walks into a library and asks for a book on suicide...', 'Just got my ticket to the Fibonacci convention!', 'What will the secret service yell when something is hurtling towards the president?', 'A friend of mine, a mother of 4 refused to get her children vaccinated.', 'What is the tallest building in the world?', 'A feminist once asked me, \"What\\'s your view on lesbians?\"', 'Why did the Mexican take Xanax?', 'My wife and I decided to curb our smoking habit a bit by only smoking after sex.', 'What do you call a committee of emo kids?', 'Mess up the formatting', 'Vladimir Putin has boasted that Russia is planning to build a base on the moon. The idea is that astronauts will live there permanently. When they were asked if they really wanted to spend the rest of their lives in a barren, lifeless, empty landscape, the Russians said...', 'Why is the white guy the scariest guy in prison?', 'What is the difference between Usian Bolt and Hitler ?', 'I hope Death is a woman.', 'Genie: Okay what’s your last wish?', 'I was raped by a group of mimes', 'I accidently bought a fleshlight instead of a flashlight.', 'I asked a pimp how to get started in the pimping business. He said I need to get me a bitch , a hoe and a thot. The bitch handles all the hookers. She’s like the mom of the house. The hoe handles day to day affairs . Who does accounting? I asked', 'I just got kicked out of karaoke night for singing \"Danger Zone\" six times in a row...', \"If 'womb' is pronounced as 'woom' and 'tomb, as' 'toom'\", 'Three conspiracy theorists walk into a bar', 'How many potatoes does it take to kill an Irish man ?', 'why was the 6 month old African baby crying?', 'If I had a dollar for every gender', 'Muslims in the U.S.A', \"I don't like to brag, but I have a huge sex drive.\", \"My biggest fear, when I first started dating, was meeting the girl's father.\", 'Why do scuba divers fall backwards off of the boat?', 'The invention of the shovel was groundbreaking,', 'My favorite rapper is 50 cent', 'Why is the archaeologist sad?', 'Why is Empire Strikes Back the best Star Wars movie?', 'The First Lady was asked if she bleaches her asshole.', 'If all people were like Redditors, we would have a better planet', 'If there was a bipartisan push in Congress to legalize medical marijuana for arthritis treatment...', 'Cashier: Would you like to donate $2 to end world hunger?', 'I told my buddy that Jewish people call god by a different name', 'The doctor gave me 5 month to live.', 'In Canada, you are more likely to die of a moose kick than of a terrorist attack.', 'At breakfast, a man asked his wife “What would you do I if won the lottery?” She replied, “I’d take half, and then leave you.”', 'What do forklifts and girls have in common ?', 'Damn girl are you a math book?', 'Guess who‘s no longer a 24 year old virgin...', 'It’s very rare that a defibrillator fails.', \"Today at the gym I asked a girl what her New Year's resolution was.\", 'What do you call immigrants to Sweden?', 'Racism is so stupid.', \"Who's the lamest of all the X-men?\", 'Got caught peeing in the pool', 'A dad asks his son, \"What has four legs but isn\\'t alive?\"', 'Only true feminists will get this', \"I don't understand why people are celebrating pi day.\", 'I forgot the Roman numerals for 51, 6, and 500.', 'You wanna hear a construction joke?', 'Inventor displays the first knife ever.', 'I once thought I had a Japanese friend.', 'My mother used to always say \"give your food a rinse before you eat it.\"', 'Today i saw a dwarf prisoner climbing down the wall', 'Student: Are well and actually both one syllable words', 'Someone threw a beer at President Trump during last nights National Championship Game.', 'A limbo champion walks into a bar', 'Girl: come over. Guy: I’m coming over.', 'I’m a 40 year old with the body of a 20 year old...', \"I've finally worked out why Spain is so good at football.\", 'What do you call a nun who walks in her sleep?', 'My girlfriend treats me like a god', 'How do you cut the Roman Empire in half?', \"What's the oldest red wine in America?\", 'I was going to donate blood today, but they always ask waaaay too many personal questions', 'What’s the difference between EA and North Korea?', \"What's the biggest difference between Google and Pornhub?\", 'American healthcare.', 'By legalizing Cannabis and same-sex marriage we finally interpreted the Bible correctly:', 'While most puns make me feel numb...', 'What do you call a kid who finally stood up to the bullies?', 'It’s kind of silly we’re trying turning plants into burgers', \"All of my friends told me that 'icy' is the easiest word to spell. And after looking at it...\", \"Why doesn't Melania Trump want her husband to become President?\", 'I really wish some of the fantasies in 50 shades of grey were real...', 'OK.', 'I totally understand how batteries feel...', \"Why haven't aliens visited our solar system?\", \"What's the most sensitive part of a man's body during masturbation?\", 'A female janitor at my building asked me if i wanted to smoke some weed with her.', 'My girlfriend enjoys \"doggy style\" in the bedroom.', 'How do You\\ufeff Drown a Hipster?', 'What has 72 legs and 26 teeth?', 'President Trump attempts suicide, fails because of broken rope.', 'A Holocaust survivor passed away, went to heaven, and told God a Holocaust joke', 'Parking a single car doesn’t require much space.', \"Why can't a nose be 12 inches long?\", 'A blind man had to shoot his dog...', 'Yesterday I purchased a world map...gave my wife a dart and said to her \"throw this and wherever it lands, I\\'m taking you for a holiday\".', 'Why is the army so strict about their uniforms?', \"I hope Rand Paul doesn't pick Scott Walker as his VP\", 'My friend said to me \"that\\'s a nice ass shirt\"', \"The French Revolution was pretty rough. Did you hear about what happened to Louis XVI's head?\", 'I finally came up with an original joke!', 'I have a bumper sticker that says, \"honk if you think I\\'m sexy\"...', 'When inmates fall in love.', 'Why is Santa Claus always so Jolly?', 'If I had a dime for every time I had no idea what was going on…', 'What does a polish bride get on her wedding night that is long and hard?', \"I'm so hungry I could eat my watch.\", 'What’s the toughest thing about being a vegan?', 'I love helping blind children', 'As a child, I always thought of my dad as a superhero', 'My daughter told me I should treat her like a princess', 'We had random drug testing at work today.', 'The doctor gave me 4 months to live.', 'After the UN summit, it was really shameful to see so many people basically openly mocking a mentally challenged child.', 'I just saw a cashier scan the eyes of a customer with her barcode reader for being rude.', 'If my grandmother knew how much money i spent on her funeral', '[NSFW] What do snakes and condoms have in common?', \"What is the volume of Monica Lewinsky's mouth?\", 'One day Canada will take over the world', \"Judas: C'mon Jesus, we're gonna be late for the last supper!\", '007 recieves a new mission... to infiltrate a party and mingle.', 'Rumor is that Toy Story 4 will focus on', 'What do you call a priest that is also a lawyer?', 'An emo and an apple fall out of a tree. Which one hits the ground first?', 'My boyfriend just told me he has an STD...', 'Here, have a joke in spanish', 'To teach kids about democracy, I let them vote on dinner.', 'My new girlfriend works at the Zoo.', \"I just found out I'm colour blind\", 'My boss hates it when I shorten his name to Dick', 'How many introverts does it take to screw in a light bulb...?', 'I really need to get this shit off my chest,', 'If you ever stick your dick inside a peanut butter jar...', 'yo mamas so fat', 'My girlfriend dressed up as a policewoman and told me I was under arrest on suspicion of being good in bed.', \"Why don't Ewoks yell inside?\", \"What's the difference between a gay man and a fridge?\", 'My friend keeps saying \"cheer up man it could be worse, you could be stuck underground in a hole full of water.\"', 'My fear of palindromes is really starting to affect my life, so I asked the doctor if he could prescribe me anything.', 'Congratulations to Donald Trump winning the presidency...', 'Today a girl kissed me', 'My boss is going to fire the employee with the worst posture.', \"What's a pirate's least favourite letter?\", \"Astronaut 1: hey I can't find any milk for my coffee\", 'Prince Hamlet was having trouble finding out the proportion of sluts to non-sluts in Denmark.', 'How did I get out of Iran?', 'Why do the guards around Big Ben always look so tired?', 'A boy is about to be sentenced for killing his parents. He begs the judge to spare his life. The judge asks for one good reason he should be shown any mercy.', 'I own a pencil that used to be owned by William Shakespeare, but he chewed it a lot', 'My wife told me she wanted the body of a stripper.', \"I'm having some real trouble mending my broken fence.\", 'Why did the sperm cross the road?', \"I haven't talked to my wife in three weeks.\", \"My wife has kicked me out of the house because of my bad Arnold Scharzenegger impressions. But don't worry\", 'Serve alcohol at a party, nobody bats an eye', \"What's more Irish than potatoes?\", 'I got pulled over by a female cop...', '\"Can someone give an example of things that are useless?\" The teacher asked.', 'What do you call a priest that becomes a lawyer?', \"Why don't white supremacists take calculus in high school?\", 'My girlfriend wanted to try \"doctor and patient\" roleplay', 'I tried being polite by holding the door open for a lady', 'When a woman wears a bikini, they leave 90% of their body exposed.', 'So I was at the bar last night and a waitress screamed, \"Does anyone know CPR?\"', 'Yesterday I went for a walk with a beautiful girl', 'What do you call a cow with no legs? Ground beef! What do you call a cow with 3 legs? Lean beef!!!!! What do you call a cow with 2 legs?', 'TIFU by hiding in poison oak', 'I sexually identify as a microwave dinner', 'My girlfriend burned our Hawaiian pizza today...', \"I'm going to freeze myself -273.15°\", \"Teach a man to fish, and he'll be able to eat for a lifetime\", 'Two silk worms are in a wrestling match', 'Have you ever played quiet tennis?', 'Co-worker asked me, \"If Batman, who is a regular human but with gadgets, teamed up with Superman, who has supernatural powers, and they fought against Iron Man, another regular human with gadgets, who teamed up with Thor, who has super powers, who would be the winners?\"', \"Do you ever wake up, kiss the person sleeping beside you and feel glad you're alive?\", \"I'm so straight I don't touch myself when I jerk off\", 'So I lost my job at the bank on my very first day...', 'Making jokes about Trump taking us to war is all fun and games until', 'What does a racist joke and crossing the street have in common?', \"My girlfriend said she didn't think it was possible to seriously injure yourself by masturbating\", \"My local drug dealer started dressing up as a Jehovah's Witness so he wouldn't arouse suspicion.\", 'Gosh, hell must be really awkward.', 'How many feminists does it take to change a lightbulb?', 'Was walking down the street yesterday, seen an ad in the shop window. \"T.V FOR SALE, €1, VOLUME STUCK ON FULL\"', '\"Daddy, how do stars die?\"', 'My lesbian neighbors gave me a Rolex for my birthday.', \"What's the difference between EA and North Korea?\", 'My professor accused me of plagiarism', 'Aaron Hernandez set a new NFL record', 'My grandfather died because the medical report said he had Type A blood.', 'How can you tell a chemist from a plumber without seeing them?', 'Jokes about unemployed people aren’t funny.', \"Don't ever take a sleeping pill and a laxative at the same time.\", 'Broke up with my girlfriend today', '\"I remember one time I brought my report card home and said \\'Hey Dad, I got a B in Reading!\"', 'Whats the difference between a dirty bus stop and a lobster with tits?', 'Did you hear the latest joke about Baltimore?', 'Took my car to the mechanic because it was making a terrible noise', 'At age 12, Little Johnny was blessed with a nine inch penis.', \"If you show me your boobs, I'll show you my tattoos.\", 'I gently slid her panties to the side...', 'I was really bored, so I decided to memorize six pages of the dictionary.', \"What's the difference between a politician and a flying pig\", 'Victoria\\'s Secret has launched a revolutionary new bra, \"Croatia\"', 'Three conspiracy theorists walk into a bar...', 'I like my women like I like my coffee', 'Jesus once said \"He who lives by the sword, will die by the sword\"', 'Why did Tencent invest $150 million in Reddit?', '(NSFW) Coronavirus porn is going viral on PornHub..', 'Why did Cruz pick Carly Fiorina as his running mate?', 'My friend gets offended when people tell fat jokes.', 'Yttrium-barium-copper oxide walks into a bar', \"I went to the library and asked for a book on Pavlov's dog and Shrodinger's Cat\", \"What's the smallest organ in a goat?\", '\"I always try to go the extra mile for my customers\"', 'My grandpa just walked into my room with a young guy wearing skinny jeans and eating avocado toast.', 'Do you know what DNA stands for?', 'Where does Obama keep his armies?', \"Why did Jeffrey Epstein's English teacher fail him?\", \"'90s kids won't get this\", 'Screw that clown from IT.', 'I told my niece that I saw a moose on the way to work this morning', 'Just after my wife had given birth, I asked the doctor, \"How soon do you think we\\'ll be able to have sex?\"', 'I finally got someone to be my valentine!', 'I started a new job. My boss said \"Hi, my name is Rebecca, but people call me Becky\". I said \"My name is Kyle, but people call me Dick\"', \"Donald Trump's plan to build a wall might actually work\", 'Did you hear about the vegan transgender?', 'My girlfriend is like the square root of -100', 'Epileptic Santa!', \"If a girl fucks ten guys in a week she's a slut...\", 'Officer: “I’m sorry to say this sir, but it looks like your girlfriend has been hit by a truck.”', 'My friend Dave drowned.', 'Drinking non-alcoholic beer is like going down on your sister', 'My wife walked out on me after I blew our life savings on a penis extension.', 'Interviewer: Where do you see yourself in 5 years?\"', 'Some day, Canada will take over the world.', 'I just got robbed by 6 dwarfs..', 'I get anxious when I watch “Game of Thrones” with my parents, because of all the sex.', 'I made a graph of my past relationships.', \"I don't think I'm strong enough anymore for my job as a personal trainer\", '\\u200c\\u200cI p\\u200c\\u200croposed t\\u200c\\u200co m\\u200c\\u200cy e\\u200c\\u200cx-wife t\\u200c\\u200coday', '[NSFW] So yesterday I went out side and punched a white person, I was charged with assault, today I went outside and punched a black person...', 'The American flag used to be a symbol for freedom and liberty...', 'The pub was pretty wild last night,', 'I told my Dad he should embrace his mistakes.', 'Why do Sumo wrestlers shave their legs?', 'I won the lottery for a million dollars today so I decided to donate a quarter of it to charity.', 'I’ve been looking for my ex girlfriend’s killer for the past two years.', 'I almost told myself I was going to stop drinking', 'I hope Elon Musk never gets involved in a scandal', 'Iron Man is a very confusing character.', 'I was in the library the other day when a black man came up to me and asked me where the colored printers were?', \"I can't believe I was arrested for impersonating a politician!\", \"If a woman sleeps with 10 men she's a slut, but if a man does it..........\", \"What's the difference between a pick pocket and a peeping tom.\", 'Wife: I am having an affair', 'North Koreans believe they live in the best country in the whole world, because they’re brainwashed by the government and the media…', 'I need to get a new chess set because all my pawns are damaged and sticky.', 'I’ve developed a fetish for figuring things out.', 'I met a Jewish girl and she asked for my number.', 'I was in a nightclub grinding on a girl.', '-Sir, you have a bladder infection.', 'I bought a dog from a blacksmith', 'A bishop walks straight up to the bar and the barman says', 'I browsed /r/jokes yesterday', 'Why do some people think Jesus was black?', 'Why did Earth Day not affect /r/jokes?', \"Why don't Melania and Donald Trump sleep in the same bed?\", '\"It\\'s a boy!\" I shouted, tears rolling down my face. \"I don\\'t believe it. A boy!\"', 'From my 91 year old grandpa', 'What has three legs and four arms?', 'How did Rhianna find out that Chris Brown was cheating?', 'Thanks for explaining the word \"many\" to me.', 'If I had a dollar for everytime someone over 40 told me my generation sucks....', 'My brother just updated his status to \"I love my girlfriend &lt;3\".', 'Racist jokes are like white people.', 'As a wizard, I enjoy turning objects into glass.', 'I just turned on nickelodeon and saw bob the builder building a wall...', '[Dirty] Some more dirt was mysteriously added to my garden last night...', 'What does Donald Trumps hair have in common with a thong?', 'Why are gay men so mean? NSFW', 'Two blondes are walking and one asks, “ which is closer, the moon or Florida?” And the other responds, “duh...', 'How do you get Trump to change a lightbulb?', 'Enter password: ‘snowflake’', 'Why do you always see teen girls in groups of three?', 'I once fell in love with a girl that only knew 4 vowels', 'Scientists say the average size of the male penis has gone down to 5 inches.', 'I wanted to marry my English teacher when she got out of jail…', 'What did the boy with no arms get for his Birthday ?', 'I like my politicians how I like my women', \"You don't need a parachute to skydive.\", 'Never date a tennis player', 'I spotted an albino Dalmatian yesterday.', 'North Koreans believe they live in the best country in the world because they’re brainwashed by the government and the media.', 'I bought some shoes from a drug dealer.', \"I'm having a meeting at my house for people who have trouble reaching orgasm.\", 'My girlfriend left a note on the fridge, saying “this isn’t working anymore”', '4, 6, 8 and 9 have all been killed.', 'If electricity always follows the path of least resistance...', \"Today I asked a girl at the gym what her new year's resolution was\", 'When I drink alcohol, people call me alcoholic. But when I drink fanta, no one calls me', 'My Korean friend died yesterday', 'What will happen if you have a wooden car with wooden engine and wooden wheels?', 'How do you make a one disappear?', 'Why are there two “d”s in “Reddit”?', 'What do forklifts and women have in common?', 'Did you hear about the communist sniper?', 'My daughter asked if I am going to die someday...', \"Corona isn't Trump's fault. Ebola wasn't Obama's. SARS wasn't Bush's...\", 'An atheist, a vegan, and a cross fitter walk into a bar.', 'I don’t understand why white people can’t say the N word', 'What’s the difference between a well-dressed man on a bicycle and a poorly dressed man on a unicycle?', 'What does a German snake sound like?', 'My daughter just lost her first tooth!', 'I like my r/Jokes how I like my coffee', 'Why did Karl Marx only write in lowercase?', 'What do tofu and dildos have in common?', 'What did Raichu say when it saw Pikachu?', \"What's black and screams\", 'Why do they call it marijuana possession', 'I wrote the names of everyone I’ve unfriended onto a piece of paper; but my roommate took it and rolled it into a joint.', 'A friend just told me that my daughter and my wife look like twins.', 'Santa is nearby...', 'Why is your nose in the middle of your face?', 'My favorite sexual position is the JFK', 'My wife found out I was cheating after she found the letters I was hiding.', 'I went to the doctors with hearing problems', 'I just had a near sex experience.', 'What do you call breasts that have both magnitude and direction?', 'how many screws hold together a lesbians bed?', \"Personally, I don't believe in bros before hoes, or hoes before bros. There needs to be a balance.\", 'Why is an iPhone X perfect for an orphan?', \"In a democracy, it's your vote that counts...\", 'Circumcisions are painful.', 'What do you call children who are born into a Whorehouse?', '\"Mommy, why does everyone at school pick on me?\"', 'Wife asked me to get \"bath stuff\" for xmas.', 'Where do suicide bombers go after they die', \"What's the difference between a Pakistani school and a terrorist camp?\", 'What starts with “E” and has only one letter in it?', 'What is the difference between a poorly dressed man on a bike, and a well-dressed man on a unicycle?', 'What do you call immigrants to Sweden?', 'A boy asked his dad for 10$ of bitcoin', 'I bought a pug for my wife.', 'I got fired from my job because I kept asking my customers whether they would prefer “Smoking” or “Non-smoking”.', 'My son was thrown out of school today for letting a girl in his class wank him off.', 'Two cheese trucks ran into each other', 'My parents made me go to Stockholm with them on holiday...', \"Sorry sir, we don't serve time travelers here\", 'There have been countless people criticizing Donald Trump for his delayed reaction to the Novel Coronavirus', 'I don’t have a “dad bod.”', \"I just found out I'm colorblind\", 'My girlfriends dad asked me what I do.', \"I'm throwing a party for people who can't ejaculate\", 'I got my son a trampoline for his birthday but nooooooo..', 'Some people are so ignorant about anatomy.', 'I failed my math exam because I couldn’t remember how to write 1, 1000, 51, 6, and 500 as Roman numerals', 'I saw an advert that read: “Television for sale, $1, volume stuck on full.”', 'Sleeping is so easy', \"I asked a librarian if she had a book about pavlov's dog and Schrodinger's cat...\", 'A man in an interrogation room says “I’m not saying a word without my lawyer present.”', 'What did the hurricane say to the coconut tree?', \"My friend can't afford his water bill...\", \"What's the difference between Hitler and Logan Paul?\", 'My girlfriend is fed up of my constant wordplay jokes, so I asked her, \"How can I stop my addiction?\"', 'The last words my grandma told my grandfather was “Sweetie, I’ll see you in heaven!”', 'Why are people in wheelchairs always getting taken advantage of?', \"A woman's asshole is like a 9-volt battery.\", 'My son is so ungrateful. I bought him a trampoline for his birthday..', 'What do you call a really long metaphor?', 'You can catch a thousand fish and your friends will never call you a fisherman...', 'Yesterday my doctor told me my chronic diarrhea is inherited.', 'I used to steal Mitch Hedberg jokes and try to pass them off as my own.', 'I named my eraser Confidence', 'If I ever end up on life support unplug me...', 'I passed a kid sat on the side of the road dressed in rags earlier.', 'I just asked my husband', 'Did you know that 97% of the world is stupid?', 'Two dyslexics run into a bank and shout', \"So, you don't trust a doctor to stitch you up?\", 'Why do Natives hate snow?', \"Was sleeping in my girlfriend's house last night and her dad wouldn't let us sleep in the same bed\", \"When I was younger, the local priest told me that I was the prettiest boy he'd ever seen.\", 'An alligator decided to have unprotected sex...', 'How do you piss off a female archaeologist?', \"I've been diagnosed with a chronic fear of giants…\", \"If I'm ever on life support, unplug me...\", 'What does a robot do at the end of a one night stand?', 'A Muslim walks into the U.S', 'What happens when you finger a gypsy on her period?', 'I like my women like I like my coffee', 'Tits are like Lego bricks.', 'I asked my father how many a couple is. He said, “Two or three.”', 'My poor knowledge of Greek mythology...', \"Why doesn't Santa Claus have any children?\", 'There was a blackout in my neighborhood last night', 'What are a kidnappers favorite type of shoes?', 'I accidentally sent a dick pic to everyone in my address book.', 'I hope they serve cookies at the Royal Wedding this weekend', 'So I’m giving up drinking for the next month straight.', 'I called the Suicide hotline today', 'If there is an elephant in the room and nobody notices', \"Liberals are acting like Trump is going to kill all the gays, make slavery legal again, and take away women's rights....\", 'Did you guys hear about the CEO of Reddit?', 'Judaism is a lot like the pH scale.', \"My grandmother is over eighty and she still doesn't need glasses.\", '(NSFW) I just heard a joke about Oedipus and Midas', \"Isn't it so wierd when you're thinking about someone and then they suddenly appear?\", 'COVID-19 is like Pasta', 'I love the way the Earth rotates', 'As a person who has owned over 50 dogs in their life there are 2 thing I’ve learnt...', 'EA walks in a bar', 'Everybody knows there are words only black people can say, but what can only white people say?', 'Dad, can you tell me what a solar eclipse is like?', 'My wife said to me: \"If you won the lottery, would you still love me?\"', 'After winning the game, I threw the ball into the crowd just like they do on TV.', 'A driving teacher asks his student \"There are 2 people standing on the road, your mother and your wife. What do you hit?\"', \"What do you call a Hooker's fart?\", 'Why did the vegetarian hate giving blow jobs?', '6:30 is the best time on a clock...', 'Did you know that a piranha can devour a human child to the bone in 30 seconds?', 'On a serious note, if anybody knows of any lonely people who will be eating Christmas dinner alone because they have no family or close friends, can the let me know?', 'I saw two kids fighting on the elementary school playground and being the only adult around, I had to step in...', 'The UK Prime Minister just announced her resignation.', 'If I had a dollar for every time someone over 40 told me my generation sucks...', 'How do you get Trump to change a light bulb?', 'How do you spell candy with two letters?', 'A priest has a heart attack, and is rushed to the hospital. He wakes up as he\\'s being rushed through the hospital on a gurney by two nurses. \"Am I in heaven?\" asks the disoriented priest.', \"If I won $300,000, I'd give a quarter of it to charity.\", 'A blind man walks into a bar', \"You know there's no official training for garbage men?\", \"My girlfriend asked me to stop singing I'm a believer by The Monkees, because she found it annoying. At first I thought she was kidding.\", \"If girls with big breasts work at Hooter's, then where do girls with one leg work at?\", 'When I noticed \"HI\" in the alphabet, I thought someone was actually going to be my friend.', 'Guy runs into a bar, yells \"Quick! How tall is a penguin?\"', \"We should've known communism would fail.\", 'I was asked to go out by 4 girls today!', 'My best friend turned his back on me when I told him I was gay...', 'If any of you here are thinking of getting married, consider the following before you do.', 'How do women defy the laws of physics?', 'Why are reposts always upvoted more than original jokes?', 'My wife hates it when our next door neighbor sunbathes topless in her yard.', \"Some say that if you play Nickelback backwards you'll hear Satan.\", 'Pavlov is sitting in a bar when the phone rings.', \"2013: Didn't jog - 2014: Didn't jog - 2015: Didn't jog - 2016: Didn't jog - 2017: Didn’t jog - 2018: Didn’t jog - 2019: Still haven’t jogged\", 'At age 13, Little Johnny was blessed with an eight inch penis.', '1984 is a great work of literature.', 'We should have known Communism would fail.', 'I won $3 million on the Lottery this weekend. I decided to donate a quarter of it to Charity.', 'Hey girl are you a newspaper?', 'When Amy Schumer was a child, people laughed at her when she said she’d be a comedian', 'Why did the match factory burn down?', 'How do you make a waterbed more bouncy?', \"Whenever I'm in trouble, I think: what would Jesus do?\", '“Doc, I ate one of those ‘Do not Eat’ silica packets. Am I going to die??”', 'A libertarian walks into a bar. . .', '[WARNING CONTENT NOT FUNNY] Do not click into this', 'I hate how funerals are always at 9 or 10am', 'Why do riot police like to get to work early?', 'Where do dads keep their jokes?', \"I'm not an expert in masturbation\", 'What do you call a snake that is exactly 3.14 meters long?', 'A Buzzfeed writer walks into a bar...', 'What has two thumbs and 100k karma on their cake day?', 'I love eBay!', \"What's the difference between a hippo and a zippo?\", 'Why do reddit users hate facebook?', 'An elderly couple is in church. The wife says to the husband, \"I\\'ve let out one of those silent farts, what do I do?\"', '(from my 8 year old) What do you see when a duck pulls down his underwear?', 'The 2016 US Presidential Election', 'Told my son to stop playing Russian roulette, but you know how it is with kids...', \"Give a man a gun and he'll rob a bank,\", 'Why did the semen cross the road?', 'A blind guy walks into a bar...', 'I had a detention for only using uppercase letters today', 'My friend refused to believe he was gay and a dyslexic.', 'My sewing instructor tells me that I am the worst student she has ever seen.', 'Accidentally swallowed some Scrabble tiles last night', 'A bad workman blames his fools...', 'Sometimes I feel like a seal is just a neutral sea lion', 'I want a job cleaning mirrors....', 'What do Mexicans use to cut their pizza?', \"The Dragonborn is pissed I won't teach him the first part of Unrelenting Force.\", 'How did Barack propose to Michelle?', \"I couldn't find the thingy that peels the potatoes and the carrots, so I asked the kids...\", 'Me: “When I donate blood I do not extract it myself. A nurse does it for me.”', 'I took the batteries out of my carbon monoxide alarm today', \"What do you call a soldier that's survived mustard gas and pepper spray?\", 'I was so bored that I memorized six pages of a dictionary.', 'Doctor: \"Don\\'t worry Dave, it\\'s just a small operation\"', \"If it weren't for Arabs, we would never have 9/11\", 'I tried to make a coronavirus joke a while back', \"There's love without sex and there's sex without love...\", 'My last relationship ended because I didn’t open the car door for her.', \"[NSFW] Whenever I have sex, it's a race to see who comes first\", 'As the KKK are so full of hate, bigotry and want to rid America of others...', 'How much room should you give fungi to grow?', 'My dad is a social distancing champion!!!', 'What is Pac-Man’s favorite cooking utensil?', 'I asked my wife to dress up as a nurse tonight...', \"Today's a really good day...\", 'How many Republicans does it take to change a lightbulb?', 'My dentist reminded me about my wife’s sensitive gag reflex…', 'I\\'m opening a new gay club called \"Garage Sale\"', 'With all the bad luck that the US has seen this year...', 'Two high school graduates are discussing their future college plans. The first says \"I\\'m planning on going into farming, it\\'s what my father did and it makes good money.\" The second asks \"What type of farming? Wheat, corn, livestock?\"', 'What does an English pimp do, after having tea and crumpets?', 'I was walking past a homeless man when he yelled, \"Stephen King is my older brother and he stole the ideas for all his novels from me!\"', 'Wanted: a man has been stealing the wheels off of police cars', 'My therapist told me my narcissism causes me to misread social situations', \"I got a new pair of gloves today, but they're both 'lefts'...\", 'Only anti-vaxxers will get this...', 'My wife is furious at me because I have no sense of direction.', 'Where do suicide bombers go after they die?', 'How do you stop a fight between two blind men?', 'My girlfriend asked me, \"If you could have any super-power, which one would you have?\"', 'What do you call a sleepwalking nun?', \"What's four inches long, two inches wide, and drives women crazy?\", \"I know a mathematician who can't afford lunch.\", 'Cop: Whose car is this? Where are you headed? What do you do?', \"If I had a dollar for every existential crisis I've had\", 'My son was just born and another dad at the nursery congratulated me and said his daughter was born yesterday. He said; maybe they’ll marry each other.', 'I buy my guns from a guy called T-Rex', 'When checking out at Walmart I always pick the sexiest cashier...', \"If you ask me what my favorite rock band is and I'm being subjective, I'd say The Who.\", 'My carbon monoxide detector won’t stop beeping.', \"I never forget my son's first words...\", \"What's the difference between Roy Moore and an Anti-Vaxxer?\", 'A 3 year old boy examined his testicles in bath', 'Why did Karen press ctrl + alt + delete?', 'Think you know everything about the letter t?', 'Why can’t T-Rex clap their hands?', \"Why is the area between a woman's chest and hips called a waist?\", 'Anal sex is like getting your first crappy and old bike', 'Will glass coffins become a thing?', \"Met a hooker who said she'd do anything for $5\", 'What do you call an apology written in dots and dashes?', \"The wife's leaving me because of my sexual fetishes\", 'What does my asshole and my Toyota have in common?', 'TIL it is impossible to stick out your tongue while looking straight up', 'A sweater I bought was picking up static electricity. So, I returned it to the store.', 'Mayweather is actually 54-0', \"TIL that a school of piranhas can strip all the flesh off of a child's body in less than a minute...\", \"I'm tired of people telling me to turn off my lights to save the environment\", 'I accidentally swallowed a handful of Scrabble tiles...', 'I like my coffee how I like my slaves...', \"A pee fetish isn't something you do half-hearted.\", 'How do you get Americans to join a World War?', 'Schrodinger took his cat to the vet.', 'Did you know that Milk is the fastest liquid on earth?', 'I like the smell of mothballs.', \"What does Donald Trump's hair and a thong have in common?\", 'What do Mexicans use to cut a pizza?', 'The inventor of Velcro died last week.', 'We have a friend who likes to have sex with inanimate objects, but we haven’t seen him for a long time.', 'There is still hope for for Hillary Clinton', 'A lumberjack went in to a magic forest to cut a tree. Upon arrival, he started to swing at the tree, when it shouted, “Wait! I’m a talking tree!\"', 'Wife: \"I just got stung by a jellyfish. quick, pee on it!\"', 'Set your WiFi password to 2444666668888888', 'Having sex is like playing bridge', 'During my boxing career, I was the 2nd best boxer in my country.', \"My Mum used to feed my brother and I by saying 'Here comes the train', and we always ate the food straight away.\", 'I used Redbull instead of water to brew my coffee today', 'I went into a sex shop today and was shocked to find out how much all of my wife’s vibrators cost...', \"I stole a stripper's kid.\", 'What does a nazi say when someone sneezes?', \"What's the difference between a girl's argument and a knife...\", \"If you're going shopping on Black Friday, please be considerate...\", 'At ten feet I told the the joke and everyone laughed. At twenty feet, same result. At fifty feet no one heard me...', 'My Uncle always said \"Do something you love and you\\'ll never work a day in your life!\"', 'What do you call a group of babies?', 'Today I bought some shoes from a drug dealer...', 'At a job interview I filled my glass of water until it overflowed a little', 'Where are Muslims going to pray when they go to Mars?', 'Maybe if we all emailed the Constitution to each other…', 'My girlfriend is like the square root of -100', 'My favorite sex position is the WOW', 'What do you call cows with no sense of humor?', \"What's the difference between America and yogurt?\", 'I woke up to a blowjob this morning.', \"Oh, sure. My friend donates a kidney to the City Hospital, and he's treated like some hero.\", '\"What makes you qualified to be a waiter\"', 'I got a vasectomy but my gf still got pregnant.', 'I set out to lose 10 pounds this month...', '\"Hey dad, have you seen my sunglasses?\"', 'Why did the cannibal leave the restaurant?', 'Im going to freeze myself at -273.15 °C', 'What do you call a stolen Tesla', 'A girl agreed to go out with me after I gave her a bottle of tonic water.', \"Trump's Presidency is like climate change\", 'My girlfriend tried to make me have sex on the hood of her Honda Civic', 'I just got my prostate examined.', \"Orion's belt is a huge waist of space.\", \"Why don't rednecks do the reverse cowgirl?\", 'Vandals have attacked the National Origami Museum in Tokyo...', 'Arguing with a woman is like reading a software license agreement...', 'Wife: \"I have blisters on my hands from the broom.\"', 'The female janitor at my building asked if I would chill and smoke some weed with her...', 'Two friends are having a chat in a bar.', 'Why isn\\'t \"dark\" spelled a \"c\", instead of a \"k\"', 'What’s the difference between a tire and 365 used condoms?', 'Sad News: The founder of /r/jokes has passed away', 'I asked a chef if he ever served a steak raw..', 'Give a man a fish and you will feed him for a day.', 'Why is 69 afraid of 70?', 'Did you hear about the mathematician who was afraid of negative numbers?', \"My wife said if this post gets 1000 upvotes she'll give up her anal virginity tonight!\", 'I had a goal to lose 20 Pounds by the end of the year.', 'Many people are shocked...', \"I applied to be a sperm donor and was asked by the nurse if I'd like to masturbate in the cup.\", 'I just found out i’m colourblind', 'Where do Robots go for fun?', 'A colon can completely change a sentence.', 'A Sheep, a Drum, and a Snake fall off a cliff', \"When social media bans female boobs, but not men's, it shows a real intolerance...\", 'My darling asked me what I wanted for Xmas, and I said, \"Nothing would make me happier than oral Sex.\"', 'I met a North African girl the other night, we spoke for hours.', 'I can always tell if someone is lying just by looking at them.', \"Russia's president wasn't elected....\", 'I was fired for sending one of my students to detention \"for being tardy\".', 'A century ago, two brothers insisted that it was possible to fly...', 'Modern day bullies be like:', 'Chuck Norris was shot today', 'Today I donated a laptop, a smartphone and $500 to a poor guy.', 'Set you Wifi password to 244466666', 'What do you call a stolen Tesla?', \"When is my wife's favorite day to make love?\", \"I was playing chess with my friend and he said, 'let's make this interesting'.\", 'Communism sounds good on paper...', 'My wife says if this post gets over 1000 upvotes, I can get anal.', 'Old rich white men selecting strong young black men to work on their fields?', 'My friend Tommy drowned the other day...', 'Saying \"I\\'m sorry\" and \"I apologize\" means the same thing ...', 'Organic chemistry is difficult.', 'I gave up my seat to a blind person on the bus', 'A doctor hands a man his newborn baby and says \"I\\'m sorry, but your wife didn\\'t make it.\"', \"Doctor: Don't eat anything fatty.\", 'The doctor gave me 4 months to live.', 'Whats ET short for', 'My therapist said that my narcissism causes me to misread social situations.', 'TIL that Rick Astley will let you borrow any movie from his Pixar collection, except one.', 'Why do North Koreans draw lines so well?', 'Today, I invented a new word.', 'When I was little, my dad used to feed me alphabet soup, claiming that I loved it', 'What’s the name of Mr. T’s girlfriend?', '\"Orion\\'s Belt is a big waist of space \"', 'All those years of phone sex has caught up with me...', 'Yo mama is so fat, her alphabet starts with O', 'Everyone tells you that smoking will kill you', 'What do you call a fat psychic?', 'Apparently someone in London gets stabbed every 52 secconds', 'You can\\'t spell \"Advertisements\" without...', \"My girlfriend asked me with how many girls I've slept with\", \"I had a vasectomy so I won't have kids\", 'To be frank', 'What’s the difference between an oral thermometer and a rectal thermometer?', 'I sneaked onto a beach early this morning.', \"Stop bullying fat people, it isn't funny\", 'My girlfriend got a tattoo of a shell on her thigh', 'The internet connection at my farm was really poor, so I moved the modem to the barn.', 'What’s the difference between a politician and a flying pig?', 'Arguing with a woman is like reading a software license agreement.', 'I keep getting hit by the same bike, at the same time and place, day after day...', 'I told my boss that three companies were after me and I need a raise....', 'How does a red-headed man reach orgasm?', 'One night, a viking named Rudolf the Red was looking out the window when he said, \"it\\'s going to rain\"', 'Minorities have the race card, women have the gender card, homosexuals have the gay card, but what do discriminatory white men have?', 'Finland have just closed their borders....', \"My wife left me because she thinks I'm too insecure.\", 'I was going to post a time travel joke..', 'I actually wanted to post a time traveling joke', 'My math teacher called me average.', 'What do prison and the Caps Lock button have in common?', 'Son: \"Dad! My lsd is missing!\"', \"Did you know it's illegal to water your plants in China ?\", 'Post Malone Has Started His Own Student Loan Service in an Attempt to Lift the Burden Off of New Graduates', 'Why are you flying with United Airlines?', 'I often wonder if the guy who came up with the term \"One Hit Wonder\"...', 'I want to make a joke about hurricane Harvey', 'I got my tattoo artist to write “Tattoo artists are stupid” on my back.', 'Why was Han Solo so suspicious when he put his penis inside Princess Leia for the first time?', \"My son wanted to know what it's like to be married\", 'My dad died last year when my family couldn’t remember his blood type for the blood transfusion', 'Dating a chick with 12 nipples sounds funny...', \"My wife said she's breaking up with me, because of my obsession with rhyming,\", \"90s kids won't get this . . .\", \"My girlfriend just screamed at me for tickling my child's feet\", \"I can't stand idiots that don't know the difference between to and too.\", 'My friend that only dates Asian girls just started dating his ex-girlfriend again', 'Why does the american border patrol guard take Xanax?', 'Life is a lot like toilet paper.', 'I asked my wife what she wanted for her birthday.....', \"I'm starting a charity about teaching maths to midgets...\", \"What is Mr. T's favorite month?\", 'After my wife died I couldn’t look at women for 20 years', 'Why do foot fetishists never win?', 'Will glass coffins be successful?', '\"Excuse me,\" I said to the woman sat in front of me on the bus, \"You have some semen on the back of your jacket.\" \"I\\'m sure it\\'s not semen,\" she said, \"It\\'s probably yoghurt.\"', '\"Your eyes look red.\" said the cop. \"Have you been smoking weed?\"', \"What's the difference between a sniper with bad vision, and a constipated owl?\", 'What do pregnant teenagers and their babies have in common?', 'Did you hear that Disney+ is making a crossover between Star Wars and Back to the Future where the time machine is half car and half person?', 'Why did the semen cross the road?', 'I was feeling bad about the future today, but then I installed the new version of office', 'Why is girlfriend one word but best friend is two words?', \"The word 'nothing' is a palindrome. 'Nothing' reversed is 'Gnihton'\", 'I saw a kid getting beaten up by 4 gang members, so I helped out.', 'Ever since my girlfriend got pregnant, a lot has changed...', 'What joke has the slowest build-up to the shittiest punchline?', 'Damn girl are you a newspaper?', 'Working at an unemployment office must be so tense.', 'I asked my North Korean friend how he liked living there,', 'Why is Japan the healthiest country in the world?', 'Hey girl, are you a fire alarm?', 'Why will congress never impeach Trump?', 'On my first day in prison, my cellmate said to me, \"If you ever come close to me, I\\'ll fucking skin you alive. When we\\'re sleeping, you don\\'t fucking touch me. You hear me? Don\\'t ever talk to me, either.\"', 'I met the man who invented the part of a map that explains what each symbol means.', 'What did the pirate say on his 80th birthday?', \"What's the difference between a shitty golfer and a shitty skydiver?\", \"I wanna tell my girlfriend she's using way too much teeth when she goes down on me, but I don't want to hurt her feelings.\", 'Son: “Mom, Dad, I’m gay”', \"Only 2010's kids will get this...\", 'I called a suicide hotline in Afghanistan', \"Does anyone know if its possible to take a skin graft from your buttocks and put it on somebody who isn't family?\", '“Doctor, I intend to not vaccinate my son. Should I take any precautions?”', 'What do you call an online lawyer', 'One day Bruce Wayne learned that his great great great great great great grandmother encountered a vigilante who called himself \"The Man of Bats...\"', 'I was sitting on a train next to a hot Thai girl.', \"I've been dating this homeless chick for a while now and it's starting to get serious.\", \"Grandpa: What has 4 legs, but isn't alive ?\", 'Malaysian Airlines and United should merge', 'Have you ever wondered why, during a crisis, they let women and children go first?', 'I was very lonely so I bought some shares.', 'Why is the Australian emergency line is“000”?', 'By legalizing Cannabis and same-sex marriage we finally interpreted the bible correctly:', \"Girls who talks about girls' problems are great.\", \"If the Klu Klux Klan leaders are wizards, why don't they cast a spell to kill all those that oppose them?\", 'I can’t believe I forgot to go to the gym today.', 'I tried to sue the airport for misplacing my luggage.', \"How much is Donald Trump's life insurance?\", \"TIFU by doing BDSM with my wife's sister, when she suddenly walked into our activity\", 'How many dead hookers does it take to change a light bulb?', \"What's the difference between tuna, a piano and glue?\", 'What did one bone say to another bone?', 'I had a breakthrough today and got in touch with my inner self.', \"What do you call a woman who can't draw?\", 'Sometimes I tuck my knees up into my chest and lean forward.', 'If you ever miss 4:20 just wait untill 4:22 because...', 'I was addicted to masturbating.', 'I lost two things today. My virginity...', \"Why don't pedophiles ever win marathons?\", 'A man walks into the bar...', 'Arnold Schwarzenegger was asked if he wanted to upgrade to Windows 10.', 'My Communist girlfriend is a real psycho....', 'Dating in your 30s is like looking for a parking spot...', 'So this Limbo Champion walks into a bar...', \"My girlfriend broke up with me because she says I'm too 'controlling'.\", \"I asked my Welsh friend how many times he'd had sex...\", 'I dated a twin once. People always asked me how I could tell them apart. It was simple. Ashley painted her nails pink', 'I saw two blind men fighting', 'The other day I told a girl, \"You look great without glasses.\"', \"What's 12 inches long and snaps a cunt?\", 'How did Hitler keep his shoelaces from coming untied?', 'I rang work and I said \"I can\\'t come in today, I have a wee cough\"', 'I put my root beer in a square glass.', 'I found girl lying on railroad tracks. I untied her, took her into bushes and we had great sex. No head, though.', 'I found a rock yesterday which measured 1760 yards in length.', 'I only believe 12.5% of the Bible...', 'My girlfriend screamed at me today. \"You weren\\'t even listening to me just now, were you?\"', \"Don't vaccinate your children!\", 'How many cops does it take to push a black man down the stairs?', 'A failed marriage is like an Avengers movie.', 'You can tell the sex of an ant by dropping it into a jug of water. If it sinks: girl ant....', 'If Trump played DnD, what weapon would he use?', \"Why does England feel like it's two months ahead of us?\", 'How do you milk sheep?', 'What should happen to the person who invented Knock Knock jokes?', 'A guy walking to library and asks for a book on sea turtles.', 'My mom used to feed me by saying: “Here comes the train!” I always ate everything.', 'Why did the slave go to college?', \"I'm pretty bad at building fences\", 'You’re traveling the Oregon Trail and you meet a man named Terry. You say “Terry? That’s a girls name!” He pulls out his gun and shoots you.', 'How do you get Americans to join a world war?', 'A waiter walks up to a table full of Jewish women dining', \"[NSFW] What's long, cylindrical, hard, full of semen and can make a woman scream?\", 'I told the paramedics the wrong blood type for my ex', 'As a responsible employer, All my staff are in a 2 week quarantine.', 'My girlfriend told me if I didn\\'t stop singing \"I\\'m a believer\" by smash mouth she would dump me...', \"Spanking your own kids is already low but if you spank someone else's kid\", 'I froze myself to -273.1 degrees Celcius...', 'Happy Ramadan to all my Muslim brothers and sisters!', 'It’s funny that when a guy sleeps with a ton of girls, he is a stud.', '0.666', 'My German girlfriend likes to rate our sex between 1-10.', 'I met a Jewish girl and she asked for my number.', 'If I was a cop I would be ticketing people for not using their turn signals..', 'After work, I volunteer to help blind children', \"Breaking News: Bill Gates has agreed to pay for Trump's wall\", \"Why is dark spelt with a 'k' and not a 'c'?\", 'I tried to share a bag of chips with a homeless person on the street.', 'I was given MDMA and LSD tonight...', 'What do you call an immigrant and a pedophile in a jail cell together?', 'What Size Underwear Do Feminists Wear?', 'I challenged my dad to a race to see who would die first.', 'My wife told me I was too selfish in the bedroom', 'I won $3 million on the lottery this weekend so I decided to donate a quarter of it to charity.', 'My friend really changed when she became a vegetarian...', 'Why did the Jedi kill his master?', 'A girls walks into an Adult Store. \"Hi I want to buy that Red Dildo right there\"', '4/20 is my favorite day to skip work, grab a pipe, head down to the park, and', 'When I was a child I had a condition where I had to eat mud three times a day in order to survive...', 'I froze myself to -273.1°C', 'Why does Britain like tea so much?', 'Hey baby, are you a GPU?', 'After God created 24 hours of alternating darkness and light, one of the angels asked him, \"what are you going to do now?\"', 'I don’t care if Caitlin Jenner identifies as a woman,', 'I threw my wife a surprise bukakke party.', 'If a guy is addicted to masturbating but then gets addicted to sex...', 'When my wife caught me standing on the bathroom scale, sucking in my stomach, she laughed, “Ha\\xad\\xad! That’s not going to help!”', 'I just realized my countertop is made of marble..', 'I steal candy bars using slight of hand...', 'My wife and I decided to not have kids', 'So far, Humpty Dumpty is having a terrible winter', \"Why don't Italians like Jehovah's Witnesses?\", 'Jared Fogle Of Subway Started and Ended His Career The Same Way.', 'I am giving up drinking for a month', \"Why can't you hear a pterodactyl pee?\", \"Dad: I'm giving all your toys to the orphanage\", 'By legalizing Cannabis and same-sex marriage we finally interpreted the bible correctly', 'Why is 69 afraid of 70?', 'We all know Albert Einstein was a genius..', 'Told my wife I was so stressed that only a blowjob would help.', 'What has four legs, is green and fuzzy, and would kill you if it fell from a tree and hit you?', 'Why is 0 = 1?', 'I went to the zoo yesterday and saw a baguette in a cage.', 'My annoying little cousin keeps bragging about how he sleeps in a race car bed.', 'If A is for Apple and B is for Banana then what is C for?', 'My therapist told me I should second guess myself less', 'I asked my wife to dress up as a nurse tonight', 'I thought about attending an orgy', 'A snake walks into a bar.', 'I just saw my math teacher lock himself in his office with a piece of graph paper.', 'This sums up the 90s', 'Don’t you hate it when people ask you a question just so they can answer it themselves?', 'A woman just asked me if I like thighs or breasts', 'The creator of winrar is arrested', 'In America, dogs are K9...', 'My son, while gazing up at the sky, asked me how stars die', 'TIL of a reality show where the goal is to do as much drugs as possible without dying or getting caught.', 'How does a racist joke start?', 'Father: Hey son what are you drinking?', 'Threesome? No thanks', 'When I left school, I passed every one of my exams with the exception of Greek Mythology.', 'Bumped into my ex today...', 'Before my surgery my anaesthesiologist offered to knock me out with gas or a boat paddle.', 'Doctor: \"Relax Steven, relax. Everything is gonna be alright.\"', 'How does Stephen Hawking refresh after a long day?', 'Donald Trump is like top shelf vodka', \"Murphy's Law states that anything that can happen, will happen. But are you familiar with Cole's Law?\", '\"Hey, can you help me sharpen these throwing stars?\"', 'If you think your microwave spying on you is bad...', \"Why didn't barbie ever get pregnant?\", \"What's a pirate's least favorite letter?\", 'Break ups are the worst in China...', \"I'm starting a support group for women that can't reach orgasm.\", 'My penis was in the Guinness book of world records.', 'R.I.P. Boiling Water', 'I was driving on the highway with my wife, and she said, “Hey, you missed a right!”', \"What is Samsung CEO's favorite movie\", 'Why did the kid eat his homework?', 'How do you tell if OP has left the hotel?', '1990 Grandpa: \"Get off my lawn, you little brats!\"', \"What's the difference between a female farmer and Hitler's girlfriend?\", 'I just finished designing a website for an orphanage', 'There are 10 genders', 'Boobs are like legos', 'i wonder if...', 'Open letter to the mods of /r/jokes', 'What is the difference between flying pigs and politicians?', 'Congratulations USA', 'Told a girl she looks better without her glasses on.', \"The Sun doesn't need to go to college\", 'I put all my watches together to make a belt', 'What did Yoda say when he watched Star Wars on Blu-Ray?', 'Today I was invited by a female janitor to smoke some weed at her apartment, but i politley declined.', 'Just got an email from Google detailing how they have devised a way to read maps backwards...', 'Where do man-splainers get their water?', 'When does a joke become a dad joke?', 'My 3 Favorite Things', 'A redhead tells her blonde friend she had sex with a Brazilian while on vacation.', 'Why are women and children evacuated first in a disaster?', 'I took a video of my shoe yesterday.', 'My wife is so weird', 'If your phone auto corrects \"fuck\" to \"duck,\" it\\'s okay to keep it', 'Why does Karl Marx write in lowercase?', 'I dont believe in hitting my children as punishment', 'What do you call the testicles of a peacock?', 'TIL that they have raised the minimum drinking age in Arkansas to 32.', 'The USA is having so many disasters and tragedies,', 'Why did Princess Diana cross the road?', 'I think my coworkers are gay', 'What is Gordon Ramsay’s favorite subreddit?', 'What did the nut say when it was chasing the other nut?', \"My girlfriend told me she's leaving me because I'm too cocky.\", 'Every time I ask someone what the acronym LGBTQ stands for...', \"A lot of people don't like Mondays\", \"What could the Boston Marathon bombers do that Hitler couldn't?\", 'My wife accused me of being a transvestite.', 'I have a phobia of over-engineered buildings.', 'My girlfriend looked at me with her sexy eyes and said, \"I want you to make me scream with your two fingers baby\"', 'One man’s trash is another man’s treasure.', 'What do you call an IT teacher who touches his student?', \"My wife left me because I'm too insecure.\", 'To the guy in the wheelchair who stole my camouflage jacket...', 'I think it’s pretty cool how the Chinese', 'What do tofu and dildos have in common?', \"What's the difference between sex and mental illness?\", 'My boyfriend keeps talking about overthrowing capitalism in a violent revolution', \"What's the difference between Jesus and a picture of Jesus?\", 'Doctor: \"Sir, I\\'m afraid your DNA is backwards\"', \"I took my grandma to one of those fish spa's where the fish eat your dead skin\", 'My wife hates it when our next door neighbor sunbathes topless in her yard.', 'A boy goes to his Mom and says, “Mom, how come you’re white and I’m black?”', 'My therapist told me that I have extreme difficulty in vocalizing my emotions.', 'Did you know pigeons die when they have sex?', \"TIL Jehovah's Witnesses don't celebrate Halloween\", 'My neighbor got busted for growing weed...', \"My aunt's star sign was cancer, pretty ironic how she died\", 'The surgeon general warns, \"do not run while smoking marijuana\".', 'What is a ghost pirate’s favorite kind of tea?', \"I couldn't join the KKK if I wanted to, my bloodline isn't pure enough.\", 'Why do we refer to priests as \"father\"?', 'A man walks into a bank wearing a mask. Everyone freaks out.', 'I get that the “#me too” movement is supposed to be empowering...', \"What's the difference between a drug dealer and a prostitute?\", \"What's the scariest thing about a white guy in a prison?\", 'I want to be a millionaire just like my dad!!', 'My girlfriend tried to make me have sex on the hood of her Honda Civic…', '[Introducing My girlfriend to my family]', 'China has largest population not because the men are extra horny nor the women are extra fertile.', 'I can cut a dead tree in half just by looking at it', 'TIL Calaway\\'s Law states that \"the best way to get the right answer on the Internet is not to ask a question, it\\'s to post the wrong answer.\"', 'Wife: \"I shaved down there. You know what that means...\"', 'On her death bed, the last words that my grandma told my grandpa was, “Honey, I’ll see you in heaven!”', 'Yesterday, I changed a light bulb, crossed the street, and walked into a bar.', 'Husband: Honey why are there broken condoms on the couch?', \"The United States doesn't use torture techniques such as water boarding\", 'Personally, i think that Tide pods are even better than advertised.', 'Did you hear about the dyslexic KKK member?', 'Why does Waldo wear stripes on his shirt?', \"Why doesn't George R. R. Martin use Twitter?\", 'Donald Trump walks into a bar', \"What's the difference between weed and pussy?\", 'TIL Pigeons die when they have sex', 'If the next president is white....', 'I broke two of my dads Queen records...', 'The government has been shut down for more than 15 days....', 'A woman goes on a date with an NSA employee,', \"What's the difference between Bill Cosby and a small fencing sword?\", \"White people don't shoot each other in the streets like black people do...\", \"The wife and I decided we don't want children.\", 'How many potatoes does it take to kill an Irishman?', 'I asked this hot girl her New Years resolution', 'What I if told you...', 'People say smoking will give you diseases.', 'I told my gay friend I could turn fruits into vegetables...', \"We'll We'll We'll\", 'I was just diagnosed with color blindness...', '4, 6, 8 and 9 have all been killed.', \"As I get older and I remember all the people I've lost along the way\", 'Only anti-vaxxers will get this one...', \"I got drunk and drew up a graph showing all of the relationships I've ever had.\", \"It's strange to see Christians advocating abstinence only sex education...\", 'What do tofu and a dildo have in common?', 'In the beginning there was nothing. God said \"Let there be light!\"', 'My wife says SHE is the main breadwinner and I need to treat her like SHE is the man of the house…', 'I finally learned how to convert units to the metric system!', \"Masturbating while looking in a mirror isn't wrong.\", 'I went to the shop to buy 6 cans of Sprite.', 'I got voted \"Least Likely To Succeed\" by my high school class...', 'What do you say to your sister when shes crying?', 'When does a joke become a dad joke?', 'TIL why scuba divers fall backwards into the water', 'My wife has a tattoo of a sea shell', 'I just got in trouble from my parents for yelling \"What the duck!\"', \"If I were American, I'd vote Bernie...\", '\"Remember son, a smart person always has doubts about something. Only a total idiot is 100% sure about everything.\"', 'How many cops does it take to change a lightbulb?', 'My doctor recently wrote me a prescription for daily sex.', 'Dad: What’s a lion and a witch doing in your wardrobe', \"My wife caught me cross-dressing and said it's over.\", \"I think my neighbor is stalking me as she's been googling my name on her computer...\", 'I tried to re-marry my ex-wife.....', 'Is it ok to sleep with a second cousin?', \"They say to never go shopping for food when you're hungry\", \"My roommate's cellphone broke\", \"After my wife died, I haven't been able to look at other women for 10 years...\", 'The Earth used to be flat,', 'Why did the Mexican take xanax?', 'My favorite sex position is called WOW.', 'Whoever invented the knock knock jokes', 'My boss fired me for making too many Asian jokes', 'If they call sex with three people a threesome and sex with four people a foursome...', 'A weasel walks into a bar. The bartender says, \"Wow, I\\'ve never served a weasel before. What can I get for you?\"', 'My wife accused me of being a transvestite.', 'What do you call Atheism?', 'As a security guard, my Boss said my job is to watch the office', 'How did Jesus get in such good shape?', 'A slice of apple pie in Jamaica is $2.00. It is $2.50 in the Bahamas.', 'For those of you wondering what it’s like to be married', 'I had to take the batteries out of my carbon monoxide detector.', 'My mom laughed at me when I said I was going to build a car out of spaghetti.', 'I called the cops about a murder on my front lawn and they just hung up.', 'Why did the Mexicans ignore the \"No Trespassing\" sign?', '“Yoda, are you sure we are going in the right direction?”', \"I Will Never Forget My Son's First Words\", 'You already know the punchline.', 'I spent my whole life being proud of my British heritage until I found out that my Great Grandfather was actually from Transylvania', 'If Trump replaces Obama as president,', 'If your girlfriend\\'s dad ever angrily asks \"where do you get off\"', 'This idiot on the treadmill at the gym.', 'What are pornstars paid?', \"My wife accused me of ruining her birthday, but that's impossible\", 'My girlfriend says a 4\" penis is just fine.', \"My girlfriend asked me to name all the women I've slept with.\", 'How do you confuse a gay person?', 'Global warming is a joke.', 'Which branch of the United States military is the most patriotic?', 'My neighbors listen to awesome music', 'Two women in a shared cell were in the prison for 15yrs. When they were freed...', 'Apparently, 29% of pet owners let their pet sleep on the bed with them, so I gave it a try...', \"What's the rudest kind of elf? Nsfw\", \"What's the difference between a good joke and\", 'Where does a horse go when it gets sick?', 'I hate it when homeless people shake their change cups at me.', 'My penis was in the Guinness Book of World Records', 'How much does it cost to buy a large singing group?', 'My girlfriend threw a bottle of Omega 3 capsules at me.', 'Tell a man a joke, he will laugh for a day', \"My girlfriend starting crying tears of joy when I asked if she'd like to be in a foursome....\", 'My missus was furious at me for kicking dropped ice-cubes under the refrigerator.', 'My girlfriend said having a four inch penis is OK', 'I got turned down from my job interview for coming half an hour early', 'How long are math snakes?', 'Guys, the USA is looking pretty bad...', 'My favourite sex position is the JFK', 'What does a turtle and a pedophile have in common?', 'Boobs are like the sun...', 'If your partner is overweight, get them to walk 3 miles in the morning and 3 miles in the evening.', 'What’s the difference between a literalist and a kleptomaniac?', 'Jesus may have walked on water...', 'Dear Muslim refugees: just pretend to be Christian.', 'What do they call Miley Cyrus in Europe?', 'How many Brexiteers does it take to change a light bulb?', \"The bartender said we don't serve time travellers.\", \"My wife's been missing for a week and the police said to prepare for the worst.....\", 'Why did Star Wars episodes 4, 5 and 6 come before 1, 2 and 3?', 'How many \"friend-zoned\" guys does it take to screw in a light bulb?', 'Hey girl, are you a parked car in July?', 'It was so cold in D.C. today...', 'Just found an app that tells you which of your family members and friends are racist.', '\"A cannibal once took my sister to see a Russell Crowe film\"', 'I went on a job interview for a security guard. After spending 12 hours in the waiting room...', 'My grandpa just walked into my room with a young guy wearing skinny jeans and eating an avocado', 'A woman walks in on her husband performing anal sex on his secretary. The wife screams, \"You can\\'t do this to me!\" The husband says...', 'Who can drink two litres of Gas?', \"I've been reading so much about the bad effects of smoking, drinking and sex that I've finally decided\", 'What did the egg say to the boiling water?', 'TIFU when I brought my pregnant wife home a meatball foot long instead of the teriyaki chicken she asked for', 'If sex with four people is called a foursome, and sex with three people is called a threesome...', 'Voldemort: So I just have to lie?', 'Scaring men is easy', 'My girlfriend broke up with me so I stole her wheelchair...', 'My town never changes population.', 'R/News', \"Why didn't Barbie get pregnant?\", 'I used to steal Mitch Hedberg jokes...', 'What did Mario say when he found out he got drunk and had sex with a green mushroom?', '\"I\\'m going to punch your house until you come out and talk to me!\"', 'What I if told you...', 'One day, Canada will become a superpower and take over the whole world', \"BOSS: I've called you here because I suspect one of you\", 'I could never cheat in a relationship', \"I can't take my dog to the pond anymore because the ducks keep attacking him\", 'My girlfriend is kind of like a ninja attack..', 'Doctors have confirmed that masturbation is life threatening', 'A hole appeared in the wall around the local nudist colony.', 'What does a pregnant fourteen year old and the fetus inside her have in common?', 'My girlfriend told me to take the spider out instead of killing it.', 'Why did Ellen Pao fire an employee with cancer?', 'The oldest computer can be traced back to Adam and Eve.', 'The kids next door challenged me to a waterfight', \"If you aren't impressed with the picture of the first Black Hole\", 'I sent my wife a picture of my flaccid penis. [NSFW]', \"I asked my Welsh friend how many sexual partners he'd had.\", 'Thank you student loans for getting me through college.', \"My girlfriend told me that my cock is 2 inches bigger than her ex's\", 'I want to be a millionaire just like my dad!!', 'What language is most commonly used in programming?', \"I finally found my wife's G-spot!\", 'My Muslim coworker brought a CD version of the Quran to work today.', 'A programmer was arrested for writing unreadable code', 'I showed the damaged remains of my luggage to my lawyer and said, “I want to sue the airline.”', 'My daughter wanted a bouncy castle for her birthday. The guy said the rental was $50 and the set-up fee was $1000 dollars. I said, “That’s outrageous!”', 'So a limbo champion walks into a bar', 'What do you get if you spell man backwards?', 'I have an imaginary friend, but he keeps making fun of me.', 'Not to brag, but I’ve satisfied every waitress that has ever served me.', 'You: Would you like a keto burger?', 'If Trump and Hillary are both drowning and you could only save one...', 'Today, I saw 2 blind people fighting', 'I ordered a chicken and an egg from Amazon today', 'I give to you a joke I made up when I was seven: Why did the computer crash?', 'A genie asked, \"What’s your first wish?\"', 'Why do riot police get to work early?', 'What is the least spoken language in the world?', \"I'm 36 but have the body an 18-year-old\", 'I just read somewhere that capitalization is the difference between \"I helped my uncle Jack off a horse\" and \"i helped my uncle jack off a horse\".', 'Why do programmers get confused between Halloween and Christmas?', 'Studies suggest when it comes to dealing with stress, masturbation is twice as effective as sex', 'Onions.', 'I have like 50 jokes about the unemployed', 'Professor X: what’s your super power?', 'I heard my daughter say her first words to me today...', 'Statistics say that 1 out of 3 people in a relationship is unfaithful.', 'Just read that 4,153,237 people got married last year.', 'My boss just told me that I’m the worst mailman he has ever seen.', \"Why do guys always give their jacket to girls when they're cold?\", \"Why didn't the bear go to college?\", \"I'm 95% vegan now...\", 'Creating a joke is one thing. But delivering it is another.', 'Donald Trump is going to be president in 4 days.', 'My friend said, \"Congratulations on your new job. How did you get it?\" I said, \"The same way the Virgin Mary got Jesus.\"', 'People in Dubai don\\'t like \"The Flintstones\"', 'Men are sexy', 'I just saw a midget get pickpocketed...', 'TIFU by sending my nudes to everyone in my address book', 'My girlfriend really changed after she became a vegan.', 'Why did the redneck cross the road?', '\"Dad, how do stars die?\"', 'How can you tell your girlfriend is getting fat?', \"Hillary's emails would make the perfect construction material for building the great Trump Wall...\", 'My Girlfriend has been repeatedly asking me “Are you a character from Alice in Wonderland?” and it’s getting really annoying', 'A man is washing the car with his son. The son asks,', \"I'm definitely the loser if I run over a deer. It's going to cost me hundreds of dollars.\", \"What did little Johnny's mother do when she caught him zapping the other children with static electricity?\", 'At my new job I have 500 people under me.', \"Grandma's been staring through the window ever since it started to snow\", 'Shoutout to my grandpa', \"Isn't this whole Ashley Madison hack exactly what their users wanted?\", 'Ladies, if there’s a man who remembers your birthday, knows what you enjoy and understands your friends and family...', 'Did you know, that pigeons die when they have sex?', 'The Jews may be the \"Chosen People\"...', '“I don’t understand you,” cried my girlfriend. “One minute you’re really offensive to me and the next you’re really polite.”', 'My new thai girlfriend said \"A small penis shouldn\\'t be a problem in a loving relationship\"', \"Her: Let's exchange numbers\", 'I just found an origami porn channel...', 'My boss: “You’re fired.”', 'Did you hear about Greek porn?', 'To the guy in the wheelchair who stole my camouflage jacket:', 'Do Transformers get car insurance or health insurance?', \"What's 12 inches long, hard as a rock, full of semen, and makes all the ladies scream?\", 'After the COVID-19 pandemic winds down, we should honor truck drivers with a national holiday on October 4th.', 'My friend is really optimistic and is always telling me : \"Cheer up, you could be in a deep hole filled with water...\"', 'A father in Iraq gifted his daughter a handbag', 'Day 284 without sex...', 'Why do native Americans hate April?', 'A goat, a drum, and a snake fell off a cliff..', 'Genie: Whats your first wish?', 'How do you break up two blind guys fighting?', 'The pub is ten minutes from my house...', 'What do you do with 365 used condoms?', 'I went to an Art Gallery, it was $60 to enter and $80 to look at each picture.', 'RIP boiling water', 'Two blondes fell down a hole.', 'TIL \"sugar\" is the only word in the English language where \"su-\" makes a \"sh\" sound.', 'Yo mama so ugly...', 'Wife: If women ruled the world there would be no wars.', 'Why did the vegan cross the road?', 'I told my wife, \"You are so skinny.\"', 'My therapist said I should identify the people in my life that have hurt me, write letters to them explaining what they did and then burn them.', 'I tried to be gay once...', '\"It\\'s a boy!\" I shouted tears rolling down my face \"I don\\'t believe it. A boy!\"', 'My sexual desires have been getting out of control…', 'Police have arrested the World tongue-twister Champion.', 'What is the difference between a hippie girl and a muslim girl?', 'My friend can’t afford to pay his water bill anymore.', 'I found out I was colourblind today', 'Why is Jesus Christ in such great shape?', 'How many times do redditors laugh at a joke?', 'We used to have empires ruled by emperors and we used to have kingdoms ruled by kings…', 'I thought my son would like that I bought him a trampoline, but oh no.', 'What do you call a procrastinating woodpecker?', 'When I professed my love to a female friend she told me she loved me like a brother...', 'Apparently, 29% of pet owners let their pet sleep on the bed with them, so I gave it a try...', 'Apart from humans, the only animal that enjoys having sex is a dolphin.', 'What gender pronouns does a chocolate bar use?', 'I put root beer into a square cup.', 'A doctor says \"The good news is it\\'s all in your head.\"', 'Why does Kylo Ren have no friends?', 'My least favorite color is purple.', 'A wife is like a hand grenade', 'Husband asked his wife \"why don\\'t you tell me when you orgasm?\"', 'What do you call someone who points out the obvious?', 'A bank is a place that will lend you money', 'Why was the anti-vaxxer‘s 4 year old child crying?', 'Woke up to a blow job earlier.', 'Give a man a plane ticket and he’ll fly for a day.', 'If I had a dollar for every existential crisis I’ve ever had...', 'I bought a toilet brush yesterday', 'Why did Logan Paul go to the suicide forest?', 'Why did Stalin only write in lowercase?', 'I know how to make a small fortune from gambling', 'My penis just entered the Guinness Book of World Records!', 'Why is the white guy the scariest guy in prison?', 'If I had a dollar for every time someone over 40 told me my generation sucks...', 'And for my next trick, I will dissapear', 'What do you call a spider with 20 eyes?', 'I told my mom \"Make me\"', 'I can totally relate to batteries', 'What happens when a cyclist meets a stop sign?', 'Homosexuality is found in over 450 species. Homophobia is only found in two.', 'I like my women like I like my computer', 'The police came to my door and told me my dogs were chasing people on bikes', 'Confucius Say', 'My wife made me promise to stop making stupid jokes', 'I had sex for 3 hours last night...', 'I just poured my root beer into a square cup.', \"My girlfriend said if we get 100 upvotes we'll try anal\", 'If I had a nickel for every time I didn’t know what was going on...', 'My girlfriend told me to go out and get something that makes her look sexy...', \"My girlfriend thinks I'm cheating on her, and I'm getting tired of it.\", 'A boy asked his Bitcoin-investing dad...', 'Bouncer: \"I\\'m going to have to ask you to leave.\"', 'After years of complaining from my wife, I finally found the G-spot.', 'I thought about attending an orgy...', \"I've just made up a word...\", 'If babies are delivered by a stork,', 'What can Donald Trump and I both agree on?', 'So I woke up to a blowjob this morning', 'Why are redneck murders so hard to solve?', 'I once got yelled at for peeing in a pool', 'If I were a farmer, how would I measure my height?', 'I saw a lady texting and driving today', 'What did one saggy boob say to the other saggy boob?', \"Why didn't the Japanese guy get a high five?\", \"I asked a librarian if she had a book about Pavlov's dog and Schrodinger's cat.\", \"Why can't a Samsung be disguised as an iPhone?\", 'My sexual desires have been getting out of control...', 'eBay is so useless.', 'What did the valley girl say when her pen ran out of ink?', \"Me: Doctor, I'm afraid of the vertical Axis\", \"Ladies, When a guy calls you hot,he's looking at your body,When a guy calls you pretty,he's looking at your face, When a guy calls you Beautiful,he's looking at your heart\", 'Man: \"Waitress, can I ask you something about the menu please\"', \"What's the difference between USA and USB?\", 'I was out drinking with a friend and saw two old drunks across the bar. I said, “that’s totally going to be us in 10 years.”', 'Why did the blind man fall in the well?', 'As a child I was obsessed with the difference between cosine and sine', \"What's the difference between hungry and horny?\", 'If California splits into 3 states, we just need to make Puerto Rico a state.', 'Why did the console player cross the road?', 'I never believed that faith could move mountains', 'I used to be into BDSM, bestiality, and necrophilia...', '“Son In Iraq I killed 15 people.”', 'What borders stupidity?', 'Welcome to the Sexual Innuendo Club', 'What starts with “E” and has only one letter in it?', 'I don’t know why marvel hasn’t tried to advertise on the hulk.', 'I can count on one hand how many times I’ve been to chernobyl', 'An old pilot is telling some schoolchildren about his days in the airforce. He says, \"so there were 3 fuckers to the right of me, 1 fucker behind me and 2 fuckers to my left\". The teacher interrupts, \"you see children, the Fokker was a German plane\".', 'How do you know your girlfriend is getting fat?', 'What happens when a pizzaman does an AMA on Reddit?', 'Bill Gates and Elon Musk should team-up and make a medicine to treat erectile dysfunction,', 'My priest is surprisingly homophobic...', 'Prisoner: I’m sorry I tried to escape.', 'A cowboy thought he had 100 cows but when he counted them there were only 97', 'I got fired from my job because I kept asking my customers whether they would prefer “Smoking” or “Non-smoking”.', \"What's the difference between a seal and sea lion?\", 'Just got a bike for my wife.', 'Apparently, someone in London gets stabbed every 50 seconds.', \"My girlfriend's such a bad cook,\", 'What’s the difference between a hot potato and a flying pig?', 'Donald Trump is not a rapist.', 'Two windmills are standing in a field and one asks the other, \"What kind of music do you like?\"', 'Abortions are so fun', 'People use to laugh at me when I would say \"I want to be a comedian\"', 'My three year old daughter made this up...what did the potty training robot say?', '\"No thanks. I am a vegetarian.\"', 'I before E', \"That's a nice sham you've got there...\", 'To the man in the wheelchair who stole my camouflage jacket....', \"In 2020 we're going to have an entire year of bad puns about vision...\", 'The world tongue-twister champion just got arrested', 'What did Charizard say to Pikachu?', 'What do you call a witch that only eats sand?', \"Why haven't aliens come to our solar system?\", 'My doctor told me to start killing people.', 'What do you call it when two transgender midgets have sex?', 'What is Forrest Gump password', 'My son asked, \"Dad, what are condoms for?\"', 'Heard you were looking for a stud...', 'The price of oil has dropped so far that...', 'My calculus professor was late 16 minutes for his first class, 8 minutes late for the second, and 4 minutes for the third.', 'My drug test came back negative.', 'My girl caught me blowing my dick with the air dryer, and asked what I was doing.', 'I dig, you dig, we dig, he dig, she dig, they dig.', 'A child asked his father \"Dad, do politicians ever tell the truth?\"', 'Saw \"IT\" last night', 'I was at the library today when a black guy came up to me and asked me where the colored printers were.', 'My dad posted a picture of his \"Condom challenge fail\"', 'What kind of grades did Tommy Wiseau get in school?', 'Neil Degrasse Tyson and Mike Tyson have something common...', 'My grandpa destroyed 12 German planes during WW2.', 'A bus station is where a bus stops; a train station is where a train stops.', 'They all laughed when I told them that one day I would discover the secrets of invisibility', 'Climate change is such a joke...', 'My phone fell from the 20th floor,', 'When one door closes...', 'The funny thing about teen pregnancy is that before it happens all you hear is \"Don\\'t do it! You\\'ll regret it! You\\'ll lose your freedom! Make the responsible choice!\" Then after it happens, they say \"We\\'re a still disappointed, but we can still make the best of this. It’s not the end of the world.\"', 'A storm blew away 25% of my roof last night.', 'The Only Thing Flat-Earthers Fear.....', 'My highschool bully still takes my lunch money...', \"Why don't men in the Middle East smoke weed?\", '100 years ago everyone had horses and only the rich had cars. Now everyone has a car and only the rich have horses', 'I was sitting drinking coffee in my slippers this morning, when I thought to myself...', 'The last time my wife and I had a fight it ended up with her literally crawling to me on her hands and knees.', 'Scientists finally found out, how much sleep humans exactly need:', 'I love eating babies and smiling', \"'Forget everything you learned in college. You won't need it working here.'\", 'TIL humans eat more bananas than monkeys.', \"I'm starting a gym where we bring exercise equipment right to your front door, whether you requested it or not.\", 'I was in bed with a blind girl last night and she said that I had the biggest penis she had ever laid her hands on.', 'never heard this before', 'I heard Reddit likes puns so I posted ten of them thinking at least one would reach the first page', 'Damn girl are you a windows update?', 'Why can’t Lebron James stand on his tippy toes?', '“Son In Iraq I killed 15 people.”', 'Wearing crocs is like getting your dick sucked by a man.', 'My girlfriend and I often laugh about how competitive we both are...', 'I remember being a kid and my parents filling my head with nonsense, like Santa, the Easter bunny and the Tooth Fairy.', 'How does every racist joke start?', 'Father: When Abe Lincoln was your age he walked 9 miles to school and did homework by candlelight.', 'Why does a milking stool only have three legs?', \"The other day i walked in on my grandmother sucking my grandfather's dick.\", 'What do dead kids and jokes about dead kids have in common?', 'I got a dog from the blacksmiths the other day...', 'What’s a good name for a detective?', 'How did the redneck find his sister in the tall grass?', 'So God, a Jew and a Zombie walk into a bar...', \"What's black and screams?\", 'Yesterday, I was washing the car with my son.', 'Chuck Norris threw a hand grenade and killed 50 people', \"What's the difference between EA and my uncle?\", \"I couldn't find the thingy that peels the potatoes and the carrots, so I asked the kids...\", 'My wife handed me two kayak paddles and asked, \"Which one do you want?\"', 'Did you hear the shocking news about Yahoo this morning?', 'At any given moment the urge to sing Lion Sleeps Tonight is just a whim-away...', \"GF: I'm sick of you pretending you're a detective. We should split up\", 'How do you find Will Smith in the snow?', 'How do you make an old lady say \"Fuck\"?', 'I like my women like i like my coffee...', 'The oldest computer can be traced back to Adam and Eve.', 'As a Canadian I never realized how slow my internet was until today.', 'A guy in a plane stood up and shouted, “HIJACK!”', 'Why is 1 = 0?', 'My girlfriend just dumped me for talking too much about video games', \"I'm not passive aggressive\", 'North Korea bans sarcasm', 'Say what you like about Donald Trump..', 'If 6ix9ine serves his 47 years...', 'TIFU by accidentally cheating on my wife at a BDSM convention with a woman who was wearing the same leather mask', 'What sexual position creates the ugliest children?', \"I can count the number of times I've been to Chernobyl on one hand\", '___________________________________', 'We all know that six is afraid of seven because seven ate nine, but why did seven eat nine?', 'Thought I won an argument with my wife about how to rearrange our furniture.....', 'Today I gave my dead batteries away....', 'All these people getting emails from the Prince of Nigeria, I got one from an Egyptian Pharaoh...', 'Do you know how Chris Brown’s girlfriend found out that he had been cheating on her?', 'I remember when I first used Reddit.', 'Man, on a first date: How do you feel about sex? Woman: I like it infrequently.', 'How Long Is A Chinese Name', 'I applied to be a sperm donor and the nurse asked if I could masturbate in the cup...', 'Give a man a fish, he will eat for a day.', \"I'm reading a horror story in Braille\", 'My dad has a pencil that was once owned by Shakespeare.', 'My girlfriend broke up with me because I was cheating on her.', 'If I Cuold Time Travel', 'What do you call 5 white guys sitting on a bench?', \"What's the difference between acne and a priest?\", 'I bought my friend an elephant for his room.', \"I asked my wife if I was the only one she's been with.\", \"As a cop, I don't know how to deal with black people...\", \"My teacher didn't believe me when I said I had 36 pets so I showed her a picture of my fish tank.\", 'I have the body of a 25 year old supermodel', 'I said to my wife, \"I need to call the doctor today.\"', 'Why do cows have hooves instead of feet', 'I\\'m American, and I\\'m sick of people saying America is \"the stupidest country in the world.\"', \"I asked my wife if I was the only one she's been with.\", 'A snake walks into a bar...', 'Was asked in an interview if I could perform under pressure.', 'Job interviewer: Where do you see yourself in 5 years?', 'When does a dad joke become a dad joke?', \"I've had enough of Christmas. All year long I work my fingers to the bone to buy all the presents that my kids ask for and what happens Christmas morning? That fat fucker with the beard gets all the credit for it!\", 'After kissing a girl on her sofa she said “let’s take this upstairs”', 'Introducing my girlfriend to the family', \"I told my wife we can have sex or go see Star Wars, she said, I'm on my period and Star Wars is sold out.\", 'A lot of Russian girls are trying to hook up with American guys online.', 'Why do sumo wrestlers shave their legs?', \"I've just started to read a horror novel in braille.\", 'saw a chameleon today', 'Monday - Greg, Tuesday - Ian, Wednesday - Greg, Thursday - Ian, Friday - Greg, Saturday - Ian, Sunday - Greg', 'Honey, remember how when we started dating you told me you were an insomniac and I told you I only had five sex partners?', 'I have a really good joke about pussy', 'How do you start a racist joke?', 'I sleep better naked', 'What do you get if you cross a highway with a fridge?', \"I have just started a sexual relationship with a blind woman. It's very rewarding, but quite challenging.\", 'Just after my wife had given birth, I asked the doctor, “How soon do you think we’ll be able to have sex?”', 'How many clickbait articles does it take to change a lightbulb?', 'I broke up with my girlfriend because she screamed too much during sex', 'What does every women in the world want?', 'Why do cows have hooves instead of feet?', \"What's the difference between a blind hunter and a constipated owl?\", 'I told my sister to come work for me at my porn company and that last year I made $1 million. She said that’s gross.', 'How do you know when a Reddit user has left their hotel?', 'A man is buying a banana, an apple and two eggs. The female cashier says: \"You must be single.\"', 'As a German, you know what really grinds my gears?', 'Arguing with a woman is like reading a software license agreement.', 'It’s sad that nothing is made in America anymore...', \"When I was younger, I always felt like I was a man trapped in a woman's body.\", 'Why do Swedish warships have barcodes on them?', 'Attention America! We Brits have your president! If you do not send us £50M by Sunday morning....', '6:30 is the best time on a clock', 'Think Mayweather/Mcgregor is going to be the biggest fight of the year?', \"Me: I'm not saying a word without my lawyer present\", 'I could tell my wife was cheating on me when she said she was out with her friend.', 'Yesterday I was nothing more than a sad, teenage virgin', \"My girlfriend's a pornstar.\", 'A plateau', 'What math classes do gender studies majors take?', 'Can a woman make her husband a millionaire?', 'My kid says he came up with this one: A guy goes to interview for IKEA...', '\"Dad I want to be a feminist when I grow up\"', 'I was eating a steak in my favorite restaurant, when a girl came to my table and shouted at me: \"Enjoying your meat, murderer?!\"', 'Comas can really change the meaning of a sentence...', 'Weinstein didn’t kill himself', 'Dating is a lot like fishing', 'If I had 50c every time I failed a maths test...', \"I'm divorcing my wife. First it was the poolboy, then the mailman, her ex-boyfriend, and my best friend. It's pretty clear...\", 'My wife refuses to have sex with me until I stop referring to my penis by different nicknames', 'One of my coworkers is always bragging about how much oral sex she gets.', 'What’s the definition of trust?', \"Why isn't /r/Fencing more popular?\", \"Why don't hillbillies do reverse cowgirl?\", \"When I was younger, the local priest told me that I was the prettiest boy he'd ever seen.\", 'I threw a boomerang a few years ago', 'How Long is a Chinese name?', \"They say never go food shopping when you're hungry\", '\"Fortnite\" is a terrible name for a game.', 'I just learned the medical name for Viagra.', \"I don't know why Marvel hasn't tried to put advertisements on the Hulk\", 'I refused to believe I was gay and dyslexic.', 'My urge to sing \"The Lion Sleeps Tonight\" is just a whim away', 'A mugger holds a man at gunpoint and says, \"Give me your wallet or you\\'re science!\"', 'My wife walked out on me after I blew our life savings on a penis extension.', 'I told my friend I made $600 a month selling dog shit', 'A boy asks his mom, \"Is it bad to have a penis?\"', \"I'm a masochist. There's nothing I love more than getting up at 3 in the morning for a cold shower.\", 'There was this really bizarre porn on the other day; it was just a guy on his couch, crying and jerking off.', 'How do you get a philosophy major off of your front porch?', \"I'm fine letting other people dot my i's, but crossing my t's?\", 'Waiter: How do you like your steak, sir?', 'My father uses reddit', 'What has TWO wings, and ONE arrow?', \"I can count on one hand how many times I've been to Chernobyl.\", 'If you buy a goat for $10 and named him Mohammed, then sell it for $15.', 'Three conspiracy theorists walk into a bar', 'Why do atheists struggle with exponents?', \"My neighbor obviously doesn't watch porn.\", 'What is the purpose of war?', 'My roommate told me my clothes look gay.', 'An Englishman, a Scotsman and a Northern Irishman walk into a bar', '(NSFW) A priest has a heart attack, and is rushed to the hospital. He wakes up as he\\'s being rushed through the hospital on a gurney by two nurses. \"Am I in heaven?\" asks the disoriented priest.', 'Crazy ex-girlfriends are like a box of chocolates', 'The only two white actors in Black Panther are Martin Freeman, who played Bilbo Baggins, and Andy Serkis who played Gollum.', '9/10 redditors are fucking morons', 'If 666 is the evil number', 'What do you call a french man wearing sandals?', 'An officer was fired for smoking weed and masturbating on the job...', 'Rick Astley will let you borrow any movie from his Disney collection...', \"I can't believe no one has managed to come up with a cure for anorexia yet...\", 'I have two requirements in my will...', \"My friend died when he couldn't remember his blood type\", 'A physicist sees a person on the top of a very tall building.', 'What do you call a bear that likes to spend his summers at the north pole and his winters at the south?', 'Told my wife i was so stressed that only a blowjob would help.', '\"Dad, how do you feel about abortions?\"', 'What do we want?', 'Buzzfeed employee is diagnosed with stage 2 brain cancer', 'My neighbors listen to really good music', 'Chinese takeout $20.00.. Gas to pick it up $10.00..', 'If you ever get thrown into jail', \"What's the difference between the lost city of Atlantis and Florida?\", 'The whole world should be worried if North Korea has a missile that can hit New York...', 'I told my dad to embrace his mistakes', 'Why do programmers prefer dark mode?', 'My wife gets upset when I steal her kitchen utensils...', 'How Long is a Chinese name.', 'What do you call an emo a capella group?', 'I like to help blind children.', 'Girls treat me like God', 'They say English surnames all had a meaning, as in, \"Smiths\" were blacksmiths and \"Taylors\" were tailors...', 'I recently left my job after I came into a large sum of money.', 'Whats the most pointless thing that actually exists?', 'Given that a radiator is essentially a vital organ to a car, it\\'s strange that the town in the movie Cars is called \"Radiator Springs.\"', 'What did the boy with no hands get for Christmas?', 'I got arrested for killing a black man', 'When I die, I want my friends to do two things: 1) Scatter my remains on my ex’s front lawn.', 'I told my boyfriend we could watch a porn for his birthday and do everything that we saw in the video...', 'My girlfriend dressed up as a policewoman and told me I was arrested on suspicion that i was too good in bed', '\"Okay Fred, Shaggy and Daphne, can you name an animal that lives in Africa and has a large horn on its face?\"', 'I asked my wife “Why don’t you tell me when you have an orgasm?”', 'If a girl says she will be ready in 5 minutes she will.', 'Feminists just want to be treated equally', \"Don't make fun of fat people with lisps...\", 'David Hasselhoff walked into a bar and ordered a drink. \"It’s a pleasure to serve you Mr Hasselhoff,” said the bartender.', \"I'm throwing a party for people who can't ejaculate\", \"I don't always tell dad jokes\", 'Everyone in my sewing class thinks I’m the worst they have ever seen.', 'To the guy who hacked my Reddit account.', 'Success is like pregnancy', 'Guy: girl are you a newspaper?', 'Only Anti-vaxxers will get this', 'I want to tell you about a girl who only eats plants.', 'Why do black people only have nightmares?', \"What's E.T. short for?\", 'Birthdays are good for your health', 'That awkward moment when you\\'re having sex with a German girl and she keeps yelling \"Nine!\"', 'Virginity is like a car', 'United States 2020 Election results are in!', '\"I am\" is reportedly the shortest sentence in the English language. Could it be that \"I do\" is the longest sentence?', 'A mugger holds a man at gunpoint and says, \"Give me your wallet or you\\'re science!\"', 'My grandpa started walking five miles a day when he was 60...', 'My wife is furious at our next door neighbor who sunbathes nude in her backyard.', 'What do a glass of water and an Atheist have in common?', 'Why is the ocean so salty?', 'Why does the Norwegian military have barcodes on its ships?', 'An atheist, a crossfitter, and a vegan are all sitting at a bar...', 'Most women would love to wake up on their birthday to the smell of fresh coffee, a nice breakfast, flowers and oral', 'How do you know how heavy a chili pepper is?', 'Bought a dog from a blacksmith today...', 'I have a dog with no legs', 'A dad is washing the car with his son.', 'Did you know you can tell the gender of an ant by throwing it in water?', 'This morning i used redbull instead of water to make my coffee.', 'How do you know a redditor has left a hotel?', 'How many Brexiteers does it take to change a light bulb?', \"I wonder if Buzz and woody had ever met Andy's mom's toys.\", 'I bought my friend an elephant for his room', 'Argon walks into a bar.', 'I failed my chemistry lab exam.', 'My ex divorced me because she said I treated her like a maid.', \"What's the difference between a feminist and a gun?\", '(Original) What do you call a feminist government?', 'What do you call a dwarf in a tumble dryer?', 'Why is the North Korean dictator so evil?', 'My wife is threatening to kick me out of the house because of my obsession with acting like a news anchor.', 'My brother was fired from a factory job for sticking his dick in the pipe cutter during his shifts.', 'My wife and I decided not to have kids', 'I went into a pet shop and asked for twelve bees. The shopkeeper counted out thirteen and handed them over.', 'I was devastated when I got a text from my wife telling me I was crap in bed.', 'Why does Waldo wear stripes?', 'How many Germans does it take to change a lightbulb?', 'I was applying for Australian citizenship and the interviewer asked, “Do you have a criminal record?”', 'Why do Japanese christians offer rice wine to jesus?', 'I was enjoying a sandwich on a cliff, but it fell from my hands.', 'Why is r/jokes the most environment-friendly sub?', 'Last night I dreamed that I was weightless!', \"Why did no one in the King's court laugh when the king farted?\", 'Two clowns were eating a cannibal', 'I hate people who don\\'t know the difference between \"your\" and \"you\\'re\"', 'How did Chris Browns girlfriend find out he was cheating on her?', 'When I was a kid, Santa gave me a lump of coal. The next year, I poisoned his cookies.', 'My friend is making a lot of easy money by selling pictures of salmon dressed in human clothes.', 'Why are there no cats on mars?', 'Wife: “I’m pregnant.”', 'Putting air in your tires used to be free now its costs a dollar...', \"Orion's Belt is a waist of space.\", 'I accidentally swallowed a handful of Scrabble tiles...', 'What does a burnt pizza, a frozen beer and a pregnant girlfriend have in common?', \"Today, I'm going to open up the time capsule I made when I was a kid...\", 'Fidel Castro was a cigar-smoking, repressive leader who hated free speech and a free press.', 'Sean Connery once asked his wife to sit on his face.', \"I donated $10 to Bernie's campaign\", 'Two guys in a communal shower...', 'They say don’t go grocery shopping while you’re hungry.', 'I always start crying uncontrollably whenever I am about to get intimate with a girl . . .', \"What's the difference between an Irish funeral and an Irish wedding?\", 'To the man in the wheelchair that stole my camo jacket.', 'My son got thrown out of school today for letting a girl in his class jack him off...', 'In Jamaica, a slice of pie costs $3.50. In the Bahamas, a slice of pie costs $5.50.', 'Just found out I was dating a commie', \"I don't always tell dad jokes\", 'How did 10 die?', 'A soldier survived mustard gas in battle, and then pepper spray by the police.', 'I never knew how technologically advanced Moses was...', 'I heard the atheists are trying to get tax exempt status now', 'As I handed my Dad his 50th birthday card, he looked at me, with tears in his eyes and said,', 'I sat next to baby on a ten hour flight. I didn’t think it was possible for someone to cry for ten hours straight.', 'Why did the Mexican take Xanax', 'I only believe in 12.5% of the bible...', 'When you say \"poop\" your mouth moves the same way your anus does when you poop.', \"There's a term for Presidents like Trump.\", 'Three men enter a bar in the USSR. One says, \"Why did Stalin only write in lowercase?\" The other one says, \"Because he was afraid of capitalism.\"', 'We all know where the Big Apple is, but does anyone know where the...', 'My ex girlfriend used to have sex with fruit whenever she got stressed', 'I made a website for orphans', 'To the man in the wheelchair that stole my camouflage jacket...', 'I like my coffee how I like the slaves:', 'To the women who say \"Men are only interested in one thing\"', 'What did the black holes say when they collided?', 'Don’t you just hate that situation when you’re picking up your bags at the airport, and everyone’s luggage is better than yours.', 'Why does Helen Keller masturbate with one hand?', 'Gamers these days have no patience.', 'I have a pen that can write underwater!', 'For Christmas my mum bought me a t-shirt saying, \"I\\'m a nudist.\"', 'What did the burglar say when he detonated a bomb to get into Fort Knox?', 'Scientists have identified a food that completely kills sex drive in women.', 'Courtesy of my 6yo daughter: What do you call a dinosaur that takes care of its teeth?', 'I´ve just downloaded the Queen movie, Bohemian Rhapsody!', 'Some people have 10 teeth, while others have 32', 'How many Lowes would Rob Lowe rob if Rob Lowe could rob Lowes?', 'My wife says that I only have 2 major faults', 'What is the worst response to \"I love you\"?', 'Masturbation is a touchy subject...', 'What do you call children born in whorehouses?', 'Massive trump rally scheduled for tomorrow', \"A king has 3 cups in front of him. The first 2 cups are full, the third cup is empty. What is the King's name?\", '\"Son you\\'re just not cut out to be a mime.\"', \"What's the difference between Donald and a piece of fruit?\", 'My girlfriend is angry with me for incorrectly quoting the Princess Bride', 'Top Reddit posters should use their karma to help the environment.', 'My girlfriend told me that she wanted to be treated like a princess...', 'What does DNA stand for?', 'For health reasons, my doctor says I should avoid trans fats', 'Yo momma is so vegan and fat...', \"My girlfriend said she's a big fan of horoscopes. You know what that makes me?\", 'Getting really fucking annoyed now!', 'Is sex a joke?', 'How many people does it take to screw in a lightbulb?', 'What do you call an IT teacher who touches his students?', 'How does the reddit user get karma when they don’t deserve it?', 'If light travels faster than the speed of sound...', 'Sex is like a poorly explained joke.', 'Why are Americans so dumb?', 'Why is 6 afraid of 7?', 'I told my wife I wanted to try anal sex', 'If your phone auto corrects \"fuck\" to \"duck,\" it\\'s okay to keep it', 'What happens if a Danish blonde moves to Sweden?', 'Why do sumo wrestlers shave their legs?', 'I was forced to swallow purple food color.', 'An elderly couple is in church. The wife says to the husband, \"I\\'ve let out one of those silent farts, what do I do?\"', 'When I was young, I always felt like a male trapped in a females body', 'All countries will get the corona virus eventually...', 'Some say Steve Jobs died too young.', 'If the number 666 is considered evil...', 'Courtesy of my 6 year old - Where did fozzy bear take his dog?', \"In the movie 'The Hunt for Red October' ...\", 'English can be weird.', 'I thought vasectomies were supposed to keep me from getting my wife pregnant??', 'A single sperm has 37.5 MB of DNA information in it. That means an average ejaculation represents a data transfer of 1587.5 TB', \"White people don't shoot each other in the streets like black people do.\", \"A thief stole my wife's credit card\", 'A 5th grader from Alabama and a 5th grader from New York City got into a fight. Who won?', 'Why do ethiopian children cry on their 6th birthday?', 'What did the Catholic priest say to the other Catholic priest as they entered the orphanage?', 'And I said \"One man\\'s trash is another man\\'s treasure\"', 'My wife kicked me out of the house because my Arnold Schwarzenegger impression was really bad. But don’t worry...', 'What is long, black and dangerous to cut into?', 'Where do suicide bombers go after they die?', 'Caitlin Jenner just signed a deal with Marvel.', \"What do you call an unvaccinated toddler's tantrum?\", 'I came out my front door this morning to see my neighbour frantically trying to scrub off the word \"PEDO\" that had been spray painted on his front window.', 'A retired boxer goes to see his doctor because he’s having trouble sleeping. “Have you tried counting sheep?” the doctor asks.', '________________________', 'What does a clock do when its hungry?', 'What gets bigger the more you take from it?', 'If you boil a funny bone it becomes a laughing stock.', \"What do you call a hippie's wife?\", 'I felt very lonely so I bought some stocks', 'What is the difference between American teenage girls amd Muslim teenage girls? (Offensive)', 'A father in Iraq gifted his daughter a new bag. The daughter replied.....', 'Can you kill someone with a throwing star?', 'To everybody that takes black jokes so seriously...', 'A wife is like a hand grenade', 'My brother wanted to play cowboys and indians', \"I'm really good friends with 25 letters of the alphabet.\", 'Today a girl kissed me', 'Statistics say that 1/3 of people cheat in their relationships', 'A robber broke into my house last night looking for money', 'I really love 50 Cent...', \"Whenever I’m in trouble, I think, 'what would Jesus do?'\", 'What does Eevee evolve into when you give it money?', 'Did you hear about the man who cooled to absolute zero?', \"Depression/suicide jokes are basically yo mama jokes of our generation — they're lazy, unfunny and useless\", 'My dentist removed the wrong tooth.', 'Why did Donald Trump take Xanax', \"My wife says I'm obsessed with alliteration.\", 'My boyfriend started a bee farm to help save the bees', 'Have you seen r/tifu recently.', 'I cried when my dad chopped up onions', \"What's a pirates worst fear on a blind date?\", 'If Trump wins Im leaving the country if Clinton wins Im leaving the country', \"I just got a new job teaching English at a maximum security prison. It's going to be tough but like any other job out there.....\", 'My buddy asked me if he could crash on my couch tonight', 'CSI Alabama was a failure . . .', 'I tried to look up lighters in Amazon.', 'I’m sure my wife has been putting glue on my weapons collection.', 'What to you call it when you get a boner at a funeral?', \"I'll never forget my son's first words...\", 'When a Tesla drifts,', 'What do you call a religious drug addict?', 'I did an ancestry.com family history today and found out that my great grandfather helped Rosa Parks initiate the civil rights movement', 'Why are priests from Finland so good at Mortal Kombat?', 'What gets bigger every time I see my wife.', 'Apparently you can’t use “beefstew” as a password.', 'If a rich man dies from a drug overdose, the headline should read \"Pills bury dough boy\"', 'I get SO ANGRY whenever I see someone with their wallet chained to their belt', 'A good girl doesnt kiss until the third date...', 'My girlfriend is a porn star.', 'TIL Humans eat more bananas than monkeys.', '\"Orion\\'s belt is a terrible waist of space\".', 'Watching my wedding video in reverse brought tears to my eyes', 'If I was addicted to masturbation and then I got addicted to sex...', 'What do you call a Frenchman wearing sandals?', 'My sister asked for me to bring her something hard to write on', 'I was playing chess with my friend and he said, \"Let\\'s make things interesting.\"', 'An very attractive woman took a seat next to me at a bar last night.', \"I asked a librarian if she had a book about Pavlov's Dog and Schrodinger's Cat\", 'Why did the scarecrow win employee of the month?', \"It's not possible to have a 12 inch penis...\", 'I just found out cock fighting is done with chickens.', 'The illegals protesting with Mexican flags, shouting \"Trump is not my President\" are telling the truth.', \"I asked my Welsh friend how many sexual partners he'd had.\", \"If a woman has sex with 10 different men, she's considered a slut, but if a man does the same thing...\", \"I've started using Viagra to treat my sunburn.\", \"What's the police's favorite gaming console?\", 'Officer, if you are what you eat...', 'Why do ducks have tail feathers?', \"What's the leading cause of dry skin\", 'Why did Stalin only write in lowercase?', 'I told my therapist that i am having suicidal thoughts', \"Funny that when a guy sleeps with tons of girls, he's a stud..\", \"If Chinese music is called C-pop, Korean music is called K-pop, and Japanese music is called J-pop, what do you call Drake's music?\", 'Steve Jobs would have made a better president than Donald Trump...', \"Give a man a fish and he'll eat for a day.\", 'Whats the rudest type of elf?', 'Why is Yoda the worst copilot?', 'What do you call a communist sniper?', 'Why did the non-binary prospector move to California in 1849?', 'If I had a dollar for everytime someone called me a boring nerd..', 'Homie: Can you do an “s” in Morse Code?', \"When I see lovers' names carved in a tree, I don't think it's sweet.\", 'My teacher said I wouldn’t be good at poetry because of my dyslexia.', 'The Holy Bible is proven to be 100% accurate.', 'Commas can change the meaning of a sentence.', 'All women are sex objects', \"The condom was first invented by a Welshman by using a sheep's intestine\", 'They say there is a person capable of murder in every friendship group,...', 'Why did the slave go to college?', 'To the guy in the wheelchair who stole my camouflage jacket:', 'Donald Trump has decided to take just $1 as his salary for the job of the President instead of the usual 400,000.', 'In an effort to bridge the cultural gap with my Hispanic friends, I’ve been saying “muchos” a lot more recently', 'I was feeling bad about the future today, but then I installed the new version of office.', 'How does a Redneck find his sister in the woods?', 'Did you hear about the guy who was shot with a starter pistol?', \"What's the difference between red and green?\", '\"Hey dad why is my sister called Teresa ?\"', 'We should get all the ex-USSR states back together', \"What's a pirate's LEAST favorite letter?\", \"If i had $1 for every girl that didn't find me attractive..\", 'I told a girl, \"you look great without glasses\"', '\"Dad, I want to be a feminist when I grow up.\"', 'If you run in front of a car, you get tired.', 'My girlfriend begged me to stop singing Wonderwall...', 'What do you get if you divide a pumpkins circumference by its diameter?', 'I\\'m American, and I\\'m sick of people saying America is \"the stupidest country in the world.\"', 'If you pronounce \"fuck off\" backwards.', \"I'm not just alright with my extra chromosome...\", 'What do you call a factory that produces OK products?', 'If men call short women \"petite\", what do women call short men?', 'A vegan said to me, people who sell meat are disgusting', 'What happens when the thermometer breaks during your rectal examination?', 'I spotted my ex girlfriend on the other side of the museum hall, but I was too self-conscious to go say hello.', 'Non-vaccinated children are less likely to have autism', 'Now why do sumo wrestlers shave their necks?', 'What rhymes with Orange', 'Whats the difference between racism and Asians ?', \"Bernie said he's going to legalize marijuana on his first day in the Whitehouse\", 'What does Bill Clinton say to Hillary after sex?', 'Chess is banned under Islam', 'My wife found out i was cheating on her after she found all the letters I was hiding...', 'My wife said she is leaving on account of my sexual fetishes', \"My parents read the book I was writing. They said the main character wasn't likeable.\", 'My wife said we should hire a maid. \"The job will get done a lot more often, and they\\'ll do a way better job!\"', 'When single ladies get to the age of 50, they tend to get lots of cats.', 'As I am getting older, I start to think about all the people I’ve lost along the way..', 'My friend said, \"Congratulations on your new job. How did you get it?\" I replied, \"The same way the Virgin Mary got Jesus.\" He laughed, \"A miracle?!\"', 'I got caught masturbating with a pickle.', 'My 6 year old son told me this one. \"What do you call a snowman that\\'s having a threesome with two hot princesses?\"', 'I asked my girlfriend to dress up as a nurse during sex', 'I thought getting a vasectomy would keep my wife from getting pregnant....', 'A limbo champion walks into a bar.', 'Someone said my clothes were gay', 'I spent hours trying to find what the opposite of “night” was.', 'Whats the difference between deer nuts and beer nuts', 'What do lawyers and sperm have in common?', 'America is going to suffer if Donald Trump becomes president.', '“Oh my God!!! You\\'re turning into a vampire?! I didn\\'t even bite you yet!!\"', 'Damn girl, are you a piñata?', \"I was having sex with my friend's wife, the phone rang. I heard it was her husband and I quickly started to get dressed.\", 'What do the mafia and a pussy have in common?', 'My roommate says our house is haunted', 'I have a bumper sticker saying, \"Honk if you think I\\'m sexy\".', 'As an Aussie, Americans are always asking me where in Australia there \"isn\\'t\" something trying to kill you....', 'A guy named Bart walks into a bar, he immediately gets shot and dies. Who killed him?', 'What tastes good on pizza but not on pussy?', 'An atheist, a vegan, and a crossfitter walk into a bar', 'I was in a liquor store and an employee asked me \"Do you need help?\"', 'Two midgets are sitting around, bored...', 'Many people are shocked when they find out..', 'I just got a Christmas card promising lots of anal and oral sex this year...', 'I got into a fight with my boner this morning:', 'Imagine being held at gunpoint (bear with me) by a literate animal,', 'I think I banged a Chinese celebrity', 'My girlfriend kept telling me to treat her like a princess.', \"Some of us live thousands of miles away from most of our relatives and can't be with them this holiday season...\", 'The cast of Star Wars VII just finished their first read through (spoilers)', \"If you can't beat them\", 'I call my weed the Quran....', 'I once met a girl with a tattoo of a conch on her inner thigh', 'Why did the EA executive cross the road?', \"What's the difference between Dubai and Abu Dhabi?\", 'What did baby corn say to mommy corn?', 'So i started a club for guys with erectile dysfunction....', 'TIL the Reverse Cowgirl position is frowned upon in West Virginia.', \"I've noticed lately that women prefer men at least 6'\", 'I pissed off two people today by calling them hipsters.', 'My dad suffers from short term memory loss...', '62% of Kentuckians pronounce their state capital \"Loo-uh-vul\", while 38% say \"Loo-ee-ville\".', \"Why was Buzzfeed's editor found dead in the bathroom?\", 'Dating in your 30s is like looking for a Parking spot.....', 'Where do little jokes come from?', \"I hate those people that knock on your door and tell you how you need to be 'saved' or you will 'burn'....\", 'Yesterday I saw an ad that said \"radio for sale, $1, volume stuck on full\"', \"My mum's starsign was cancer, pretty ironic how she died...\", \"What's the most common operation in a LEGO hospital?\", 'My ex-gf invited me to her wedding', 'Why was 6 afraid of 7?', 'Repost: 9/10 doctors recommend water over soda', 'A Portuguese, a Greek, and a Spaniard go into a brothel. Who pays?', 'A lamb, a drum, and a snake fall off a cliff.', 'What does tofu and a dildo have in common?', \"I'm a virgin by choice.\", \"I'll do algebra, I'll do trigonometry, I'll even do statistics...\", 'My penis used to be in the Guinness Book of World Records', '\"Mickey Mouse, it says you want to divorce Minnie because', '[first day as a car salesman]', 'How many Brexiteers does it take to change a light bulb?', 'What is the number one cause of dry skin?', 'I used to be a male trapped in a females body...', \"I'm really conflicted about abortion.\", 'A wife is like a hand grenade...', 'I don’t like the word xenophobia.', 'Donald Trump truly made history...', 'The furniture store keeps calling me back.....', 'What did Melania Trump say to her speech writer?', \"Shouldn't Iron man be a woman?\", 'Judge: I order you to pay $10,000', 'Why was the Jazz movie rated R', 'Why did Donald Trump marry an immigrant?', '[Warning]: 18+', 'What’s brown and rhymes with snoop?', 'Cougar relationships are great for both sides: She got to brag to her friends about sleeping with a younger guy, and', \"My girlfriend says I'm an idiot who can't do anything right.\", 'How many \"sup dude\"s does it take to screw in a lightbulb?', 'Guess who woke up with 20 missed calls from his ex?', \"I wasn't sure what to wear to my Pre-Mature Ejaculators Anonymous meeting...\", 'My wife just stopped and said, \"you weren\\'t even listening were you\"...', 'Two cannibals are eating Amy Schumer.', 'I yelled \"shotgun\", long before anyone else, but I still got to sit in the backseat.', 'I once met a girl with 12 nipples...', 'I made a 1:1000 000 scale model german submarine', 'For my birthday, the only thing I got was a deck of sticky playing cards.', 'I really think Hillary Clinton will be the first f president', 'I walked in on my Grandma sucking grandads dick last night...', 'Why was the anti-vaxxer’s 3 year old crying?', 'Every morning at breakfast for the past 6 months, I announce loudly to my family that I’m going for a jog, and then I don’t.', 'I don’t like the term anal bleaching...', 'What is the cheapest meat?', \"It's going to be easy for Trump to build that wall...\", 'Did you know that a piranha can devour a child down to the bone in less than 45 seconds?', 'What did one gay sperm say to the other gay sperm?', \"I'm sexually attracted to metal boxes with locking systems.\", 'You’ve heard of alphabet soup now get ready for....', 'When she was growing up, everybody laughed when Amy Schumer said she wanted to be a comedian...', 'I locked my keys in my car outside an abortion clinic', 'I have the memory of an elephant.', 'What did 2 say to 3 when they saw 6 act like an idiot?', 'Every yo mama joke has been done thousands of times by thousands of people...', 'I was in NYC and a black guy asked me if the Yankees won.', 'People told Beethoven he could not be a musician because he was deaf.', 'Police officer pulls over 2 Catholic priests. Says he’s looking for two child molesters.', 'Who was the greatest prostitute in history?', 'Why is Donald Trump happy about the impeachment result?', 'This just in: Due to panic buying, Walmart has decided to open up a 2nd register.', \"Why haven't Aliens visited our Solar System yet? ...\", 'My girlfriend and I planned to commit suicide together...', 'Only Anti-vaxxers will get this...', 'Why do white girls travel in odd-numbered groups?', 'Whats the difference between your job and a dead prostitute?', \"Hello everyone! I'm a scientist and I am researching bestiality between humans and dogs.\", 'Thank you, student loans, for helping me get through college.', 'Why do sumo wrestlers shave their legs?', 'Why did the console gamer get a headache at the art museum?', 'Genie: What is your first wish?', 'I got fired from my job at a bank today', 'It has been scientifically proven that girls reach the age of puberty earlier than boys…', 'I never use the term \"feminazi\"...', 'I hate people who take drugs', 'My wife asked me if I thought our kids are spoiled', 'Alabama changed the drinking age to 34', 'ISIS is taking back territory after a surprise turn of events', 'Homosexuality is found in over 450 species. Homophobia is only found in two.', 'Everyone in Hawaii is mad about the malfunction of the early warning system. Those fools.', \"What's 18 inches long and hangs in front of an asshole?\", 'To the man in the wheelchair that stole my camouflage jacket...', 'Anyone need a slutty costume for Halloween?', \"Hi, I'm Buzz Aldrin. Second person to step on the moon.\", 'How many \"friendzoned\" nice guys does it take to change a light bulb?', 'What a pirate’s favorite letter of the alphabet?', 'They say sex sells...', 'What did microsoft say to the attractive girl in the room?', 'How to avoid clickbait', 'What are the strongest days of the week?', \"I'm not racist! I have like 3 friends!\", 'Gordon Ramsey just had his 5th kid..', \"My girlfriend got upset when I said she'd look sexier with her hair back\", \"At first, my girlfriend didn't want to get a brain transplant\", 'My neighbour knocked on my door at 2:30am this morning, can you believe that, 2:30am?!', 'A 5th grader from Alabama and a 5th grader from Boston got into a fight, who won?', 'I seriously hate it when a couple starts having an argument in front of you.', 'My favourite sex position is called \"WOW\" ...', 'Did you know that Iceland...', \"Hey guys, don't you just hate it when you're woken up in the middle of the night for sex?\", 'I am so high and I made up a joke and I want to tell it and make someone laugh but no one is home so: Whats an epileptics favorite food?', \"You can tell the gender of an ant by dropping it in water. If it sinks it's girl ant,\", \"My local barber got arrested for selling cocaine. This surprised me, since I have been a customer of him for years now, and i'd never known...\", 'What is the difference between Dubai and Abu Dhabi?', 'I called the suicide hotline in Iraq..', 'My nerdy friend just got a PhD on the history of palindromes.', 'I tired to force feed my child...', 'I used to be scared of pretty girls,', 'Last week I fucked my sister in law', 'My girlfriend left me because she didn’t like that I had a name for my penis', \"I can count the number of times I've been to Chernobyl on one hand\", 'I wanted to marry my English teacher when she got out of jail,', \"If Hillary Clinton is elected as our first female President it's really going to redefine a few things for me....\", 'What do penises and posts in r/jokes have in common?', 'Got my girlfriend a \"get better soon\" card', \"Funny that when a guy sleeps with tons of girls, he's a stud..\", 'To this day, my bully that used to bully me at school still takes my lunch money.', \"My girlfriend's a pornstar.\", '\"Knock knock\" \"Who\\'s there?\" \"Dave.\" \"Dave who?\"', 'Co-worker asked me, \"If Batman, who is a regular human but with gadgets, teamed up with Superman, who has supernatural powers, and they fought against Iron Man, another regular human with gadgets, who teamed up with Thor, who has super powers, who would be the winners?\"', \"In a world without Muslims, there wouldn't be a 911.\", 'Had sex for an hour and 30 seconds today', \"My mum got really annoyed when I tried to tickle my little sister's feet...\", 'If Caitlyn Jenner were a super hero, what team would she be on?', 'Women are actually turning into good drivers', 'My daughter screeched, \"Daaaaaad, you haven\\'t listened to one word I\\'ve said, have you!?\"', 'I am broken when my name is spoken. What am I?', 'What do you call 2000 mockingbirds?', 'If they say girls like guys who can make them laugh,', \"I've recently developed a severe phobia of elevators.\", \"My wife said we needed to childproof our upright piano, so it wouldn't fall over on our toddler...\", 'I burned my Hawaiian pizza today...', 'What did Lochte say after his teammates told the police what really happened?', 'My wife and I have an agreement. I don’t try to run her life,', 'My neighboor rang my doorbell at 5 am..', 'TIL: bumblebees can fly higher than mount Everest', \"I went to the liquor store on my bicycle and bought a bottle vodka, put it in the basket on the front and then it occurred to me that if I fall or something happens, the bottle might break, so I drank it all right there and it's a good thing I did...\", 'Why did the antivaxxers 3 year old cry', \"I'll never forget my dog's last words\", 'What does Bill say to Hillary after sex?', '99.9% of people are idiots.', \"Why can't Chinese people have white babies?\", 'My wife laughed when I said I still had the body of an 18 year old.', 'Your parents in 1996: \"Don\\'t trust ANYBODY on the internet!\"', 'Marijuana and coffee are my favorite combination.', 'What do politicians and porn stars have most in common?', 'Why does Africa never win the Olympics?', 'As I looked into her eyes across the candlelit table, I felt my knees go weak, my heart began to race and my stomach turned to butterflies...', 'The best part about being an abortionist..? [NSFW]', 'A lumberjack chopped off my teeth', '1=0', 'What do you call a reluctant potato?', 'My wife told me to stop singing \"I\\'m a believer\" or she\\'d kill me. I thought she was joking...', 'I asked my North Korean friend, “what’s it like to live in North Korea?”', 'I would like to put on record my appreciation for the guys who play the triangle in orchestras.', 'The Hindenburg is the greatest feat of aeronautical engineering in all of human history', 'I told my hot coworker how I felt and she felt the same way...', 'If smoking Marijuana causes short term memory loss,', 'I’m in favour of a bi-partisan agreement in Congress that medical marijuana should be allowed for the purpose of relieving arthritic pain. In other words,', 'Two different doctors worked together on my knee surgery', 'Why are the developers of NoMansSky called Hellogames?', 'What do you call a sad strawberry?', 'If you rearrange the letters of POSTMEN', 'Why did the chicken cross the playground?', \"why don't foot fetishists ever win anything?\", 'I really love playing chess with elderly people in the park.', 'My little daughter came to me all excited, saying, “Daddy! Daddy! Guess how old I’ll be in August!” I said, “Oh I don’t know princess, why don’t you tell me?” She gave me a huge smile and held up four fingers!', 'Racism is like Nickelback...', \"What's a police officer's favorite gaming console?\", 'As I suspected, someone has been adding soil to my garden.', 'To teach kids about democracy, I let them vote on dinner.', 'If pro is the opposite of con...', 'If you have one big shit, and divide it into 3 equal parts and throw 2 of them away. What are you left with?', 'A man walks into a bar...', 'I left my Adderall in my Ford Fiesta.', 'Farts are like children', 'A man has been shot with a starting pistol...', 'How many dance teachers does it take to change a light bulb?', 'Did you know that you can tell how smart an ant is by catching it on fire?', 'I was browsing Reddit at work the other day when my boss came by my computer', \"Now I'm not saying I'm a good businessman\", 'What do jokes and U.S. Presidents have in common?', 'Remember, If your apartment is hit by a dolphin, DO NOT GO OUT TO SEE IF THE DOLPHIN IS OKAY', 'I scared the mailman today by coming to the door naked', 'A person with an art degree walks into a bar.', 'How did Metallica get people to stop pirating their music?', 'An essay should be like a skirt.', 'I told my wife we had a pest problem.', 'I asked my Mexican friend if he will be upset if Trump manages to build the wall.', \"How do you know when you've got a high sperm count?\", '100 years ago everyone owned a horse and only the rich had cars.', 'I failed my final exam on Greek mythology.', 'A pirate goes to the doctor and say, \"I have moles on me back aaarrrghh.\"', 'What should you do if your girlfriend starts smoking?', \"I don't know why everyone is saying Cats (the movie) was bad.\", '\"There\\'s no \\'I\\' in team\"', 'My computer crashed a few hours into writing my paper', 'A guy with flame tattoo sleeves walks into a building and gets stopped by security.', 'My doctor encouraged me to masturbate more often', 'Son: \"Dad, Am I adopted\"?', 'My sister asked for me to bring her something hard to write on', '[NSFW] I got a sweater for my birthday.', 'I won my first cage fight last night...', 'No matter what they say, you matter.', 'How did the redneck find his sister in the woods?', \"What is a pirate's favorite element in the periodic table?\", 'My boss said my math skills are average.', 'Sex positions for small penises', 'If a tree falls in the forest and nobody hears it...', 'To the guy who invented zero,', 'I had to turn off my carbon monoxide detector ...', 'I heard a rumour about the Canadian Prime Minister', 'I just had a near sex experience.', \"I can't remember what 51, 6 and 500 are in Roman numerals..\", 'Slutty girls are like Wal-Marts', 'My son was kicked out of school for letting a girl in his class jerk him off. I said, \"Son, that\\'s the third school this year...\"', 'I used to work at a bank,', 'Want to see all the decimal digits of Pi?', 'I told my psychiatrist that I’ve been hearing voices.', 'To the guy who hacked my reddit account...', 'My mum used to feed my brother and I by saying ‘here comes the train’, and we always used to eat it straight away', 'Q: Why is air a lot like sex?', 'A horse walks into a bar...', 'The Pentagon is changing the nuclear codes to over 140 characters', 'When Trump announced job creations...', 'The three unwritten rules of life', 'A guy with a stutter died in prison', 'I hate people who take drugs', 'I once had a goldfish that could break-dance on a carpet,', 'My penis was in the Guinness book of world records', \"What's it called when a chameleon can't change its colors anymore?\", 'Roses are red, Cellos are brown', 'Astronaut 1: \"I can\\'t find any milk for my coffee\"', 'What do you call a man with 6,022 x 10^23 dollars?', 'Congratulations West Ham', 'What do you call a bulletproof Irishman?', 'Thanks for explaining the word \"many\" to me', 'The whole world should be worried that North Korea has a missile that can hit New York...', 'I hate people who talk behind my back.', 'Why do Java programmers need glasses?', 'I’m opening a new gay club called “Garage Sale”', 'In my spare time I help blind children.', 'By popular demand, we now have a discord server. Join this', 'If a blind girl says you have a big penis', \"Why doesn't any man need more than one rooster?\", 'This whole time yoda has never revealed his last name. but I just found out', 'Wife: I used to be a Christian.', 'Cop: who’s car is this? What do you do for a living? Where are you going?', 'What do you call a fight between an immigrant an a priest?', 'What does a pulley like the best about its position?', 'My girlfriend’s dog died, so I tried to cheer her up by getting her an identical one.', 'What’s a group of chubby newborns called?', 'A policeman stops a car...', 'English is Weird.', 'If I could rearrange the alphabet I’d move U', 'You only have enough time to say one word to Edgar Allan Poe who is about to walk into a tree. What do you say?', 'I wonder whether transparent coffins will ever catch on', 'How many mystery writers does it take to screw in a light bulb?', 'My girlfriend told me love means nothing to her', 'A man is stranded in the desert when he comes across a genie\\'s lamp. He rubs it and the genie grants him just one wish. The man said, \"I could die happy here, if I could just get...\"', 'What kind of eclipse is it when the sun moves in front of the moon?', 'How many super saiyans does it take to change a light bulb?', 'Give a man a fish and feed him for a day.', 'Fire is destroying a world famous landmark in Paris right now.', 'First thing Trump does as President...', 'I was going to make a fat joke', 'My little brother wanted to be treated like a prince...', \"When I see lovers' names carved in a tree\", \"what's the best way to instantly blend into a crowd?\", 'Will Glass Coffins Be A Success?', \"Just found out that 'aaaaarrrrggghhhh' isn't a real word\", 'This asshole thought that just because some fancy, expensive vehicle, he could go as fast as he wanted and weave inbetween cars. So I got in front of him and slowed down to 10kmph below the speed limit lmao', \"Donald Trump said in an interview that he would consider killing himself if he ever had Alzheimer's Disease.\", 'I got a vasectomy but my girlfriend still had a baby...', 'My girlfriend told me women are better at multitasking than men. So I told her to sit down and shut up. Guess what...', 'We used to have empires run by emperors, then we had kingdoms run by kings..', 'My girlfriend wanted me to be more like her ex.', 'Not all math puns are bad', 'When I was 9, I was touched by an Angel.', 'What happens when you take a joke too far?', \"I'm addicted to having money in the bank.\", 'When England had an Emperor, it was an Empire; when it had a King, it was a Kingdom; now they have Theresa May...', 'Why does a man name his penis?', 'A friend asked me if I knew anything about 1’s and 0’s', 'I asked my Wife “Am I the only one you’ve been with?”', 'I remember being a kid and my parents filling my head with nonsense, like Santa, the Easter bunny and the Tooth Fairy.', 'A man is buying a banana, an apple and two eggs. The female cashier says: \"You must be single.\"', 'I pissed off two men today because I referred to them as hipsters.', 'I told myself I should stop drinking...', 'Last night I had a dream that I weighed less than a thousandth of a gram.', 'Why do Jews get circumcised?', 'I was fucking my secretary up the arse when my wife walked in.', 'Yesterday, I was washing the car with my son.', 'What did Master Yoda say when he first saw himself on Blu Ray?', 'I saw a good looking guy at McDonalds spank his kid for throwing his fries on the ground.', 'I went trick or treating as Gandhi and kept all of my candy in a hat', \"Security officer: If you find a USB outside, don't bring it into the office\", 'Damn girl are you a reddit user?', \"What walks on 8 legs until it's one years old, 4 legs until it's twenty years old and then 2 legs for the remainder of it's life?\", 'My girlfriend told me to take the spider out instead of killing it.', \"What do you get when you put jelly into Flint, Michigan's water supply?\", 'My girlfriend asked me if I could have a threesome, which of her friends I would choose.', 'A good percentage of my friends are Nazis...', \"I had a vasectomy so my wife wouldn't get pregnant..\", 'What do you call a fight between E.T. and a man with no social life?', '[presidential test post]', 'I saw 2 guys wearing matching outfits,', 'I accused my wife of adding dirt to the garden. She denied it.', 'Where do mansplainers get their water?', 'Today a girl kissed me', \"I told god a Holocaust joke. He didn't laugh.\", 'dating me', \"If I won $900,000,000, I'd give a quarter of it to charity...\", 'I phoned the Child Abuse Hotline.', 'You can tell a lot about a woman from her ankles.', 'I hate the stigma around mental health', 'What is Chipotle most known for?', 'I have sex with my wife almost everyday!', 'How does The Rock pee?', 'I masturbate with soap...', 'I asked my mum, \"How much is a couple?\"', 'being a waiter may not be a very glamorous job', 'Why do gay people smile so much?', \"Doctor: (handing me my new born baby) I'm sorry but your wife didn't make it\", 'Hi Reddit! My name is Joseph, and I am the son of Stephen King. AMA!', 'Roy Moore is no longer interested in this year..', \"I can count on one hand the number of times I've been in Chernobyl.\", 'What do you call 2 monkeys that share an Amazon account?', 'My friends made fun of me because they found out that my girlfriend is imaginary...', 'I used to be in a band called ‘Missing Cat’', '\"Dad, look! I\\'m a 3D printer!\"', 'Why is the letter \"C\" afraid of the rest of the alphabet?', 'I always wanted to be Batman when I grew up', 'Orion’s Belt is a big waist of space!', 'What do hillbillies do on Halloween?', 'When I was a younger lad I was blessed with an 8 1/2\" penis', 'I heard 8/10 Americans are bad at math...', 'Right before surgery the surgeon says: \"Relax, Jim. It\\'s just a small scalpel incision. No reason to panic.\"', 'Which is more important to women, length or girth?', 'My friend Tommy drowned the other day...', 'A wife is like a grenade', '3 guys are on a boat and they have 4 cigarettes but nothing to light them with. What do they do?', 'What is the one type of person that will never get angry?', 'Someone called me racist for saying \"black paint\"', 'Donald Trump - \"I\\'m not orange!\"', 'How are condoms and poop bags alike?', 'So... the girl I lost my virginity to was retarded.', 'What did Sushi A say to Sushi B?', 'You know the razor blade works...', \"The misuse of users' Facebook data has caused Mark Zuckerberg significant emotional distress.\", 'Why do riot police like to go to work early?', \"I've already heard like seven cancer jokes today...\", 'I started to let Jesus take the wheel, but then I remembered...', \"New Teslas don't come with a new car smell\", 'Why is every gender equality officer female?', 'My stats professor told me that the larger the sample size the more trustworthy the data.', \"my friend told me there's a gay guy in our circle of friends\", 'Judas: C´mon Jesus we´re gonna be late for last supper', 'What do a midget and a dwarf have in common ?', '100 years ago everyone had a horse and only the rich had cars. Nowadays everyone has a car and only the rich have horses', '\"You\\'re telling me that I\\'m losing my job because Donald Trump won the election? WHY, BECAUSE I\\'M BLACK?!\"', 'What happens if someone steals uranium?', \"I suggested to my wife that she'd look sexier with her hair back\", 'Hilary Clinton could be the first F president ever elected in to office.', 'Today i was woken up with a blowjob..', 'They say you are what you eat...', 'A guy dressed as a Chicken for Halloween finds a girl dressed as an egg.', 'People keep grouping all Trump supporters with these Nazi movements recently, which I disagree with and think is quite silly.', 'My wife left me because I’m too insecure and paranoid', 'Why are mathematicians always so happy?', 'Calm down about the Net Neutrality thing...', \"I'm American, and I'm sick of hearing that America is the stupidest country in the world.\", \"I'm taking my wife for skydiving.\", 'After my prostate exam, the doctor left. The nurse came in later, with a worried look on her face, and said the three words I was dreading to hear.', '“Hey Dad, have you seen my sunglasses?”', 'I like my women like I like my microwaves...', '\"Say NO to drugs\" they say...', 'A police officer accidentally arrested a judge who was dressed like a convict for a costume party.', '\"Give it to me\" she screamed \"Give it to me I\\'m so fucking wet!\"', 'Two goldfish are sitting in a tank...', 'Every “yo mamma” joke has been done thousands of time, by thousand of people.', 'What do you get if you cross Bill Clinton and Donald Trump?', 'Why did God create the orgasm?', \"What's a horny pirate's worst nightmare?\", \"I've got a friend who is a structural engineer.\", 'If Medusa, King Midas, and Oedipus raised a child together', 'My girlfriend dressed up as a policewoman and told me I was under arrest on suspicion of being too good in bed...', \"I hate that SEPTember, OCTober, NOVember, and DECember aren't the 7th, 8th, 9th, and 10th months......\", 'I jokingly told my friend I was collecting the corpses of past emperors of Russia and dumping them into a giant ravine, but he thought I was serious and asked what was wrong with me.', \"I'm giving up alcohol for a month....\", \"They should stock ATM's better.\", \"Words can't describe how beautiful you are...\", \"When I die I'm going to donate my body to science.\", 'If a woman drinks two glasses of wine a day, it increases the chances of a stroke by 50%', 'My ex tried to embarrass me by telling her friends I have a small dick', \"One man's trash is another Man's treasure\", 'Why do only 2 Mexicans cross the border at a time?', 'Having sex with you is like playing hide and seek', 'My teenage daughter came home from school and she was blazing mad. “We had sex education today dad and you lied to me! You told me if I have sex before my sixteenth birthday, my boyfriend will die!” I put down my newspaper, looked at her and said…', \"I'm a proud anti-vaxx mother of five children!\", 'During a job interview yestarday I poured some water into a cup and it overflowed slightly', 'What do you call a pizza joint run by epileptic midgets?', '*tips fedora at mosquito*', \"If you're single and you know it\", 'Hey baby are you a Communist?', 'TIL in 1974 Russians accidentally blew up their own submarine, thinking it was an enemy', 'I got fired on the first day of my new job for asking customers if they would prefer \"Smoking or Non-Smoking.\"', 'Life is like toilet paper,', 'Why was E the only letter in the alphabet to get Christmas presents?', 'Burnt my Hawaiian pizza today..', 'Tell a man a joke, he will laugh for a day.', 'Since it started snowing, all my grandma has done is stare through the window.', 'I threw my girlfriend a surprise bukakke party.', 'Why is Ireland the richest country in the world?', 'Why is it so difficult to remodel x-rated theaters?', 'Why are black people unable to get a PhD?', 'My son was just born and another dad at the nursery congratulated me and said his daughter was born yesterday. He said; maybe they’ll marry each other.', \"Why don't Chinese kids believe in Santa Claus?\", 'I went to the library and asked if they had the book about tiny penises...', 'Do you know what really grinds my gears?', 'How many potatoes does it take to kill an Irish man?', 'What unit of measurement do you use to weigh bones?', 'What do you call security guards at a Samsung store?', 'Coronavirus has been copying the Black Death', 'Never challenge Death to a pillow fight', 'What do you call a stolen Tesla?', \"I don't always tell dad jokes\", 'Donald Trump is president. I think if George Washington were alive today, he\\'d look around and say, \"What the fuck is going on? \"', 'A stranger just came up to me and told me she was vegan...', 'Arguing with a woman is like reading a software license agreement...', \"Sir, you've got a very rare disease\", '\"No, thanks. I\\'m a vegetarian.\"', \"Braille isn't that hard to learn...\", 'Why are there so many female archaeologists?', 'I broke my finger today...', 'Why does Kylo Ren never get girls?', 'What sounds like a sneeze and is made out of leather?', \"What's the difference between a little kid and a lesbian?\", 'If someone tries to shoot the President...', \"Doctor: Sir, i'm afraid your DNA is backwards\", 'How do you call a cow with no legs?', \"Why can't you hear a pterodactyl pee?\", \"I've been prescribed anti-gloating cream.\", \"Trump has two parts of brain, 'left' and 'right'.\", \"Why can't pirates learn the alphabet?\", \"My wife sued for divorce because she said I couldn't get an erection.\", 'Edgar Allen Poe is about to walk into a tree and you only have enough time to say one word before he hits it. What should you say to him?', 'To the person who stole my glasses', 'With all the negativity in the world today...', 'A man with authority walks into a bar..', 'Having sex while camping is NOT for the faint of heart.', 'I asked to switch seats on a plane because I was sat next to a screaming baby', 'Why does Donald Trump secretly want to lose the election?', 'Why are there two D\\'s in \"Reddit?\"', 'I found a place where the recycling rate is 98%', 'Why does Japan have a low obesity rate and a low birth rate?', 'What is atheism?', 'Britain says...', 'I only believe in about 12% of the bible...', 'It turns out vaccines cause cancer.', 'I saw a poor old lady fall in the street today.', '10 Ways to disguise Click Bait!', 'My wife offered me a blowjob today.', 'A while ago I had a blind date with a Jewish girl', 'I found a wallet today and as a good Christian I thought \"what would Jesus do?\"', 'After sex I like to cook for my husband....', 'I scored a 175 on an IQ test with just 3 simple questions', 'Not to brag, but I have sychic powers.', \"My dad, a vietnam veteran, told me that there's one thing that always sticks with kids and adults no matter how old they are.\", 'I desperately needed a massive shit on the train today but there were no toilets in sight and none onboard so I just sat there and held it for about 20 minutes.', 'At the Olympics I saw an athletic guy carrying a long stick and asked him, \"Are you a pole vaulter?\"', 'Harry Potter has way too many characters...', \"When you're trying to slingshot around Jupiter but you run out of fuel and end up on a collision course with one of Jupiter's moons...\", 'Today I gave up my seat on the bus to a blind person.', 'A physicist sees a young man about to jump off the Empire State Building...', 'My wife told me, “If anything happens to me, I want you to meet someone new.”', 'What should we do with people who rely on government handouts, but refuse to work?', 'After being single for ages, my best mate said, \"Can I set you up?\"', 'Why does Ireland have the fastest growing economy in the world?', 'Are these gay cows, daddy?', 'My girlfriend yelled at me today saying, \"You weren\\'t even listening just now, were you?!\"', \"Sadly, I've lost 20% of my sight\", \"I slept with my best mate's wife last night and now I feel terrible.\", 'My girlfriend is a pornstar', 'I was going to tell a time travel joke...', 'Last night a movie theater was robbed of over $1000 dollars.', 'I just read Trump\\'s book \"The Art of the Deal\"', 'Courtesy of my 5 year old: Why did Dracula take cold medicine?', 'What do you call someone with no body and just a nose ?', 'I had to remove the battery from my carbon monoxide detector.', \"what's the difference between a black man and a box of donuts?\", \"My girlfriend asked me if I'd like a threesome, and who out of her friends I would pick\", 'Wife: I regret getting you that blender for Christmas', \"There's so much nudity on TV these days, it makes me so angry.\", 'My wife asked me how she compared to past girlfriends...', 'My wife said my stew was too salty, was far too watery and left her with a strange metallic after taste.', '\"Mommy, why does everyone at school pick on me?\"', 'What have an orgasm and a pulse in common?', 'David Hasselhoff told his agent that he wants to be known as Hoff from now on.', \"What's worse than locking your keys in your car outside of an abortion clinic?\", 'What is the difference between a Pakistani Wedding and a Taliban training camp?', 'I told my wife I lost 10 lbs in one hour', 'I used to shave my testicles with a razor blade.', 'Do you know how to avoid clickbait?', 'My grandfather personally killed 30 German aviators during WW2', \"If Jesus was real they wouldn't call it the crucifixion...\", 'Why do native Americans hate snow?', 'My penis was in the Guinness book of world records..', 'If you have a bee in your hand, what do you have in your eye?', \"Why haven't aliens visited our solar system yet?\", \"I hate when people don't leave a suicide note.\", 'After my prostate exam, the doctor left. The nurse came in later, with a worried look on her face, and said the three words I was dreading to hear.', 'I asked my wife why she never tells me when she orgasms. [NSFW]', 'Comic Sans walks into a bar', 'Atheism and religion are two sides of the same coin', 'I only knock up antivaxxers.', 'What do you call a deaf gynecologist?', 'The female janitor at my building asked if I would chill and smoke some weed with her', \"I've heard the Canadian Prime-Minister has a French last name.\", 'Voldemort:so I just have to lie?', 'Me: I’m scared of the Backstreet Boys', 'Yeah, I lost to my computer at chess.', \"What's the similarity between a woman living in Saudi Arabia and Amsterdam?\", 'My friend said, \"Congratulations on your new job. How did you get it?\" I replied, \"The same way the Virgin Mary got Jesus.\" He laughed, \"A miracle?!\"', 'A North Korean Soldier Walks Into A Bar', 'Two deer walks out of a gay bar...', 'My older brother always tore the last pages of my comic books, and never told me why.', 'When my girlfriend told me she was pregnant I started crying.', 'My first day as a car salesman...', 'If I had a dollar every time a woman called me handsome...', 'I like my slaves just like I like my coffee', '99 bugs in the code...', 'She asked me if I’m a breast or legs man...', 'The worst thing about celebrity deaths is the inevitable torrent of jokes referencing them from people trying to be witty when really it should be a time of mourning and respect. I won’t take any part in it.', 'A Norweigan robot analyzed a bird.', 'Tripped over my friends bra...', 'A guy was wondering what being a suicide bomber was like..', 'A girl with 12 boobs sounds weird.', 'What did Jesus say after he resurrected on the third day?', \"White people don't shoot each other in the streets like black people do.\", \"My teacher didn't believe me when I said I had 36 pets so I showed her a picture of my fish tank.\", 'People who are afraid of pedophiles', 'A guy was screaming at the TV “Run idiot, run!”', 'I went to a prostitute and asked her if I could do her Greek style. \"Sure\" she said', 'I hope Death is a woman', 'Today I saw a little boy wearing rags sitting on a curb', 'TIL unvaccinated children are less likely to be autistic', 'Why is it so difficult for a T-Rex to masturbate?', 'My physics teacher told me I had a lot of potential,', 'I just got over my addiction to chocolate, marshmallows and nuts', 'Dentist always dumb questions like “when’s the last time you flossed?”', 'What gets longer if pulled, fits snugly between breasts, slides neatly into a hole, chokes people when used incorrectly, and works well when jerked?', 'Im sick and tired of people calling America the stupidest country in the world', 'What did one Egyptian say to the other when they farted at the same time?', 'If I spank Dwayne Johnson...', \"I didn't know what to wear to the Premature Ejaculation Anonymous meeting...\", \"What's black and never works?\", '\"Sorry Moses, but you can\\'t join Greenpeace...\"', 'Why did the pilot blush?', 'Why did the wizards wife have hickeys on her neck?', 'A girl told me her pussy tasted like a rainbow', 'I slept with a girl who works at Netflix last night', 'Why do french tanks have rear view mirrors?', 'My buddy said, \"What rhymes with orange?\"', \"You can't run through a camp ground.\", \"There's no reason to be tailgating me when I'm doing 50 in a 35...\", 'I asked to switch seats on a plane because I was sat next to a screaming baby.', 'What do you call 4 Mexicans in quicksand?', 'I asked my girlfriend how she avoids click-bait..', 'Teach a man a joke, and he will laugh for a day', \"Thanos' finger snap would have a greater impact if they found a way to make it seem like half the audience disappeared.\", 'Normally I hate those trashy, fake, rigged reality TV shows...', 'I may be bad at telling jokes, but...', 'I like my women like I like my toasters,', 'Secret Service no longer yells “Get down, Mr President” any more when the President is under attack', 'A blonde, brunette, and a redhead are all in the 9th Grade. Which one is the sexiest?', 'The only thing that Trump and I can agree on...', 'What has 15 actors, four settings, two writers, and one plot?', '3.14% of sailors are....', \"Yo mama's so fat\", \"TIL After Nigeria was unable to win any medals in this year's Olympics, the Nigerian Sports Minister personally offered to refund all the expenses of fans that traveled to Brazil.\", 'Why do Native Americans hate snow?', 'Why is the Great Wall of China considered one of the seven wonders of the world?', 'Court decision: \"I hereby find you guilty of clickbait, and sentence you to death by electric chair......', '\"Hey Dad, why is my sister called Teresa?\"', 'Obama smoked weed growing up, and now look where he is today', 'Why do Americans rarely tell jokes about mass shootings?', 'I just realized my wife left me because of my obsession with simplifying fractions.', 'I just got back from Dubai where I was offered 40 camels for my wife.', 'I knew a girl in college who would sleep with guys for free Adderall.', 'My girlfriend dressed up as a policewoman for halloween, told me that I was under arrest on suspicion of being good in bed.', 'Roses are red, cellos are brown', \"Give a man a plane ticket and he'll fly for a day.\", 'As a german I have to ask: You know what really grinds my gears?', 'I bought my wife a dildo and a book for her birthday..', \"What's the difference between an Immortal Goddess and a Hooker?\", 'How do you seduce a farm girl?', \"I'm gonna be turning my lights off this Halloween and pretending I'm not in.\", 'I walked in on my girlfriend having sex with her personal trainer', 'I can’t see an end, I have no control and I don’t think there’s any escape – I don’t even have a home anymore...', 'I asked my wife what she wanted for christmas she told me \"nothing would make her happier than a diamond necklace\"', 'Jokes on reddit are like US presidents.', \"Jesus can walk on water. Babies are 72% water. I can walk on babies. Therefore I'm 72% jesus.\", 'KID : What are condoms used for?', \"I'm sick and tired of people telling me to turn off lights to save the environment.\", 'Here\\'s a tip! If your phone autocorrects \"fuck\" to \"duck\", don\\'t bother correcting it...', \"If a blind girl tells you your dick is the biggest she's ever felt...\", 'When I become a lawyer I want to defend a penguin.', 'I told my wife she was drawing her eyebrows too high.', 'I decided to switch to a knife to preserve my ammo.', 'I called my son a bloody disappointment and my girlfriend burst out into tears', '99 little bugs in the code, 99 little bugs.', 'Someone told me my clothes were gay', 'My friends say there is a gay guy in our circle of friends...', 'What do you call it when two transgender midgets have sex?', 'Donald Trump and Hillary Clinton are in a plane crash. Who survives?', 'Why were the star wars movies released 4,5,6,1,2,3,7,8', 'I always shave my beard after having sex', 'I saw a guy this morning injecting himself with brake fluid. Stunned, I asked him if he had lost his mind?!', \"I'm reading a horror book written in braille.\", 'These damn millennials...', '\"Forget everything you learned in college, you won\\'t need it working here\"', \"It's 80 degrees in San Francisco today.\", \"It's my cake day today, so I'll give you one of my favourite jokes.\", 'There was a prison break and I saw a midget climb up the fence.', 'Oral sex using telekinesis', \"Without Arabs we wouldn't have 9/11.\", 'Because of my dyslexia, sometimes I get lost when I use public transportation.', 'My teacher always starts her class by reading one of the posts from r/jokes, but today she’s absent.', 'My girlfriend is absolutely beautiful. Body like a Greek statue...', \"I bet you can't name a useless, non functioning member of society.\", 'My wife told me to take the spider out instead of killing it', '2 blind guys were about to fight', 'My neighbor knocked on my door this morning at 2:30 AM!', 'Why did 10 die?', \"Steve Jobs would've been a better president than Trump.\", 'I received a flier on anger management the other day', \"What's a horny pirate's worst nightmare?\", '\"Tell me what you want.\" I whispered as I slid my finger up and down her G string. She moaned...', 'Two men walk into a bar. One man orders H2O. The other says,\"I\\'ll have H2O, too.\"', 'An Apple store near where I live got robbed', \"TIL England doesn't have a kidney bank\", 'Genie: What will your first wish be?', 'Tesla’s don’t have that new car smell.', '85% of all Fords made are still on the road today...', 'The neighborhood barber just got arrested for selling drugs...', 'On Monday we start Diarrhea Awareness Week.', 'A lion would never drive while drunk.', 'A house of cards is really fragile', \"What's the difference between your mom and a mosquito?\", 'Leave a man on a plane and he flies for a day.', \"A man bets his wife she can't tell him something that will make him happy and sad at the same time.\", \"If a woman sleeps with 10 men she's a slut, but if a man does it…\", 'An 18 y/o boy getting a BJ from and 80 y/o woman and a tightrope walker have the same thought...What is it?', 'My friend shouted, “You have a BA, a Masters and a Ph.D., but you still act like an idiot!”', \"An r/classicialmusic mod removed this one when I posted it. What's the difference between a bull and a symphony orchestra?\", 'Shout out to those who don’t know the opposite of in.', 'What happened when the semicolon broke grammar laws?', 'I think I banged a Chinese celebrity.', 'What makes an ISIS joke funny?', 'Why did Earth Day not affect /r/jokes?', 'My dad always said, \"Work until your bank account looks like a phone number\" so I did.', 'A man tried to sell me a coffin today...', 'What do Jeffrey Epstein and Halloween decorations having common?', 'I gave away all my dead batteries today..', 'Whoever coined the phrase \"dad-bod\" missed a golden opportunity...', 'Please becareful on the roads', 'If I had a dollar for every time someone over 40 told me my generation sucks.', 'My first time having sex was like a 100m sprint..', 'Thanks for explaining the word \"many\" to me.', 'Two introverts walk into a room...', 'Today I learned that humans eat more bananas than monkeys,', 'Being happy is like pissing your pants', 'I received a thesaurus in the mail today, but when I opened it all the pages were blank.', 'What do you call a tire made out of 365 recycled condoms?', 'What are the two problems with the French flag?', 'The doctor gave me six months to live, so I shot him.', 'In my spare time I help blind children.', 'I saw my dad chopping up onions today and I cried', 'My wife told me that \"sex is better on holiday\".', 'What do you call a lesbian dinosaur?', 'Got a parking ticket the other day for being parked illegally.', \"Braile isn't that hard to learn.\", \"I didn't know what to wear to my Premature Ejaculation Society meeting...\", 'Awful pun I came up with whilst drunk last night.', 'Why was the piano teacher arrested?', 'My gf is like the square root of negative one hundred', 'I was once taught that nothing rhymes with silver...', 'So my twin brother called me from prison', 'What does smoking a cigarette and eating a pussy have in common? [NSFW]', 'I have bathed in the blood of virgins!', 'What is the difference between North Korea and EA (Not repost)', 'My dad always told me that I am special, that I am the 1%...', 'My wife said she is leaving me because of my addiction to anti-depressants...', 'Light travels faster than sound!', 'Is my Thai girlfriend really a guy?', 'What’s the difference between Kim jong un and dominoes ?', 'LPT: If you commit 90 sins, you only get caught half the time.', 'My wife says if this post gets over 1000 upvotes, I can get anal.', \"I don't always tell dad jokes\", 'Just got back from a job interview, where I was asked if can perform under pressure.', 'A boy was born of an Indian, Chinese, Irish, and Italian grandmother...', 'Dad: [grabs chest] Quick! Call me an ambulance.', 'After you die, what part of the human body is the last to stop working?', 'I told my wife I was so stressed that only a blowjob would help.', 'Many people are surprised by the engagement of Serena Williams and Alexis Ohanian, but not me.', 'Bullets are so weird', \"I said to my girlfriend that I think she'd look sexier with her hair back…\", 'Yesterday I spotted an albino Dalmatian', 'How many French soldiers does it take to defend Paris?', \"Jobs that don't exist anymore\", \"TIL that Kim Kardashian's giant ass has it's own birth certificate, and even has a legal name:\", 'Statistics show that the average person has sex 89 times per year.', 'I got into an accident, but I managed to save a bunch of money on my car insurance by switching...', 'I bought a dog from a blacksmith this morning...', 'The use of capitals can really change the meaning of a sentence', 'If I got $1 every time somebody called me a racist', 'I knew a guy who survived mustard gas and pepper spray', '\"Dad, why is my sister called Paris?\"', \"I didn't know what to wear to the premature ejaculation club\", 'Water can solve all your issues. Want to lose weight? Drink water. Need to wake up? Splash water on your face. Someone annoying you?', \"When a girl changes her clothes in front of you, she's either really interested or you're level 99 friend-zoned\", \"I spent four years at college and didn't learn anything...\", 'We should send sex offenders to storm Area 51', 'What do you get if you cross Islam with Capitalism?', 'I named my eraser Confidence...', 'My doctor wrote me a prescription for daily sex.', 'Elon Musk: Did you move my car?', 'Why did the blind lady fall into the well?', \"As of today, I'm finally not a 25 year old virgin anymore.\", 'Soon, the only way to abort a kid in the US...', 'Dating is a lot like fishing', 'If I saw a man in a suit, jump into a phone booth and then Superman jump out. I’d be like “Holy shit!”', 'How was the Roman Empire cut in half?', 'Do you have a USB wire thingy so I can charge my phone in my honda?', \"I hate when you're over someone's house and they start asking you stupid questions.\", 'Why did the console player cross the road?', 'When I meet a girl for the first time I shake hands with my left.', 'Why do norwegians put barcodes on their ships?', 'Why do women talk less in february?', 'When cops arrest a clinically insane person...', 'A guy and his girlfriend are talking', 'I broke up with my girlfriend when she told me she used to be Christian.', 'My kids tell me that they want a cat for Chrismas this year.', 'No matter how kind you are...', 'Daughter: Mom, I have a new boyfriend, our neighbor Joe. Mom: But he could be your father!', 'Did you know that a group of crows is called a murder?', 'I caught my wife using Tinder last night.', 'If we all email the constitution to each other', 'Breaking News: In a press media briefing, United Airlines CEO Oscar Munoz has stated...', 'My friend, Karen, and I visited a place you can stand in three states at once: Oklahoma, Kansas and Missouri. Karen opened up that she was actually in a fourth state: crippling depression. I said, \"I\\'m so sorry\"', 'I scared the postman today by going to the door completely naked...', 'My girlfriend was down with the flu, but still insisted on having sex.', 'Mom, am I ugly?', '(Nsfw)What must a vampire ask before he has sex?', \"My boyfriend doesn't know this, but I put a dollar in an envelope every time I orgasm during sex. That's all I'm spending on him for Christmas.\", 'Did you know there are no Walmarts in Syria?', 'I love Harry Potter but after re-reading the chapter the death-day party I realized something about nearly headless nick', 'What sound does a 747 make when it bounces?', 'Yo mama so fat', 'Anti-vaxxers are the biggest hypocrites. How?', 'The bartender says \"Sorry, we don\\'t serve time travellers here.\"', 'Steve Jobs would have been a better president than Trump', \"I couldn't join the KKK, apparently my bloodline isn't pure enough\", 'If I had a crystal ball...', 'What do you call an emo a capella group?', 'I stayed up all night trying to think of a joke.', 'I used to sell security alarms door to door, and I was really good at it.', 'Once I was a male trapped in a female body..', \"If pronouncing my b's as v's makes me sound Russian...\", 'Where do pirates get their hooks?', 'Why did the guy hate his job at the can crushing factory?', 'I can sympathise with batteries.', \"I met Matthew McConaughey and asked him to sign a photo for me. I told him to make sure he doesn't write anything in the left side of the picture though.\", \"Call me a racist if you want, but south of the border is a sea of violence, corruption and stupidity I wouldn't touch with a ten foot pole.\", 'Why are Americans bad at League of Legends ?', 'I held a door for an elderly Japanese man.', \"I won't control what you do on the internet\", 'Tried changing my password to \"14days\"', 'I keep asking what LGBTQ+ stands for', 'Never try to hi-five Logan Paul', 'Husband to wife. ”Why don’t you tell me when you orgasm.”', 'Why is the hipster sweating?', 'I just bought a thesaurus and when I got it home, all the pages were blank.', 'If Ironman and Silver Surfer teamed up', 'Why couldn’t the sailor play cards?', 'My Wife needed something to cheer her up...', 'My girlfriend asked me if I could have a threesome, which of her friends I would choose...', 'Guy: Can I buy you a drink?', 'How is a trans 4-year old like a vegan cat?', 'Why are students prohibited from playing Fortnite during school?', 'If a rich man dies from a drug overdose, the headline should read \"Pills bury dough boy\"', 'My mum suffers with short term memory loss', 'George Foreman named all his kids George Foreman.', 'Why is Bernie Sanders challenging his 49 vs 50% loss in Iowa?', 'How many Freudian analysts does it take to change a light bulb?', \"If the Ku Klux Klan leaders are wizards, why don't they cast a spell to kill all those that oppose them?\", 'I predict, in years to come there’ll be a nuclear war in the Middle East, which’ll leave only one country and the Persian Gulf .', \"My girlfriend said if this get 100 upvotes , we'll try anal.\", 'I call my weed The Quran.', 'My wife left me because I am insecure', 'Soo we’re going to the Autopsy club tonight huh? What’s happening there?', 'Why are reposts always upvoted more than original jokes?', 'As a young boy my mom would always tuck me in at night', 'If I had a dollar for every gender', 'I have two conditions in my will...', 'The salt packet says it was created from a 250 million year old Himalayan rock salt bed', \"If comedy = tragedy + time, what's comedy + time?\", 'The Quran is like weed', '\"I\\'m sorry but your wife didn\\'t make it,\" A doctor said as he handed a man his newborn baby.', 'My wife left me because I am too insecure.', 'My family is furious at me for implying my Sister in an idiot for not vaccinating her child...', 'My wife called me at work and asked, \"Do you ever get a shooting pain across your body, like someone\\'s got a voodoo doll of you and they\\'re stabbing it?\" Sounding concerned, I replied, \"No...\"', 'Snake walks into a bar.', 'Why was the blonde snorting Sweet and Low?', 'If i got 50 cents for every failed math exam,', 'Statistics say that 1 out of 3 people in a relationship is unfaithful.', 'In my spare time I like to help blind people.', 'At the end of our first date, I sheepishly asked, \"So, how do you feel about sex?\" Giggling and blushing, she whispered, \"I like it infrequently.\"', 'I almost got raped in jail', 'King: How many volunteers do we have for my evil army?', 'I downloaded all the music to the movie Titanic.', 'To whoever stole my copy of Microsoft Office: I will find you..', 'Women have eggs and milk in them...', 'I’m addicted to seaweed.', \"My new year's resolution is to stay out of shape\", 'Mommy! I found a $10 bill today, but I threw it away, cus it was fake.', 'A man noted for telling puns was locked into a dark closet, and told he would not be released until he made up a pun about the situation. He immediately shouted,', 'What’s a horse’s primary concern when voting?', 'I was thinking the other day ...', '“Son, I found a condom in your room.”', 'Two clowns are eating a cannibal.', \"I'm giving up spreadsheets for forty days\", 'Twenty years from now, kids are gonna think \"Baby it\\'s cold outside\" is really weird, and we\\'re gonna have to explain that it has to be understood as a product of time', \"Why doesn't Jesus trust mankind?\", 'I just took an online IQ test...', 'I started carrying a knife after an attempted mugging few years ago.', 'What do you call a person without a son?', 'My wife said she wanted just one child of each gender', 'What’s the difference between me and cancer?', 'The other day I held a seminar on how to withhold orgasms.', 'Astronaut 1: \"I can\\'t find any milk for my coffee.\"', \"What's the difference between Jesus and a picture of Jesus?\", \"Where's the best place to hide after committing murder?\", 'Why do the French like to eat snails so much?', \"What's it called when a chameleon can't change its colors anymore?\", 'Why is free Wi-Fi never seen in churches?', 'A slice of pie costs $3.50 in Barbados,', 'My parents treat me like a god...', \"A guy asked his wife, honey, why do I always get a boner when I'm looking in the mirror.\", 'What do vaginas and the mafia have in common?', 'My wife is upset because I had “I Love You” tattoo’d on my penis', '“I love my job!” exclaimed the farmer. “All you do is boss me around all day!” complained one of his sheep. “What did you say?” challenged the farmer. The sheep glared back and growled...', 'My daughter demanded she be treated like a princess...', 'Russian history in 5 words:', 'What do you get if you cross a pirate and a paedophile?', 'How do you tickle a rich girl?', 'My physics teacher said i have potential', \"My son is now at that age where he's curious about the human body.\", 'When I see a girl, I first look at her hair. Then at her eyes, lips, neck...', 'My local drug dealer started dressing up as a Jehovah’s Witness so he wouldn’t arouse suspicion.', 'What is it called when you die and come back as a hillbilly?', 'Every 4th of July, America sends Britain a locket with a little tiny picture of the United States in it. They want to remind the crown that America is still...', 'I almost got raped in jail ...', 'I live under a 4 million dollar roof.', 'Just saw a guy wearing t-shirt that read \"truth+God=life\"', \"Let's play the Oscar Pistorius drinking game\", \"I remember my pops once saying 'son, wanking will make you blind.'\", 'Women are the only creatures to defy the laws of gravity.', 'I used to miss Mitch Hedburg', 'From my dad: What do you get when a topless blonde rubs sun tanning oil on a topless brunette?', 'What do you call a wife that knows where her husband is all the time?', \"Met a prostitute who said she'll do anything for $50...\", '4 Norse god, 1 Roman god, and 2 astronomical bodies walk into a bar', 'What Asian stereo type do you hear the most?', \"Isn't it weird when sometimes you're thinking about someone and then they suddenly appear?\", 'I asked my North Korean friend how it was there.', 'I told my wife I wanted to try anal sex', \"Without the Arabs we wouldn't have 9/11.\", 'My gay friend got stoned today.', 'A blonde woman visits her husband in prison Before leaving, she tells a correction officer: \"You shouldn\\'t make my husband work like that. He\\'s exhausted!\" officer laughs, saying: Are you kidding? He just eats and sleeps and stays in his cell!\"', 'My wife told me to take the spider out instead of killing it....', 'I had an idea for a fighting game..', 'I farted in the Apple store and everyone got pissed at me.', \"A prisoner was told how he'll be executed\", \"Thanos' finger snap would have a greater impact if they found a way to make it seem like half the audience disappeared.\", 'I believe a lot of conflict in the Wild West could have been avoided completely', \"My girlfriend left me because I'm too insecure...\", \"I don't know what the big deal is about Black Friday.\", 'I went to the doctor with hearing problems..', 'My friend once said, \"If I wasn\\'t making cocktails, I\\'d be a criminal.\"', \"I'm glad the cave rescue is complete....\", 'What do you call an IT teacher who touches up his students?', 'I saw a sign that made me shit myself', \"Why can't you hear pterodactyls go to the bathroom?\", 'Dads are like boomerangs.', 'Trump is blaming Sanders for the violence at his rally...', 'Did you hear the government is banning participation trophies?', 'How do you get an art major off your front porch?', 'I’m a tour guide at a museum, and when I told a group that the fossil they were looking at was 65 million years and 3 weeks old, they asked me where the 3 weeks came from.', 'My lesbian neighbors asked me what I wanted for my birthday. They gave me a Rolex.', 'The oldest computer can be traced to Adam and Eve.', 'As I suspected, someone has been adding soil to my garden.', 'These fucking Pi jokes today', '6:30 is the best time on a clock', 'You have a green ball in your left hand and a green ball in your right hand, so what do you have?', 'What did the blonde say when asked if her turn signal worked?', 'I was changing some fuses at Buzzfeed...', \"A joke my 8-year old made up: What do you call a chicken that's afraid of the dark?\", 'I googled \"Rorschach Test\"', \"Funny when a guy sleeps with tons of girls, he's a stud...\", 'How many dead babies does it take to screw in a lightbulb?', 'My brother got fired from his job because he had sex with one of his patients...', 'Girls can’t stop talking about my huge dick', 'A man walked into a bar', 'A white guy, a black guy, an Indian, an Asian women and a girl in a wheel chair walk into a bar', 'What do you call an evil wizard who gives good hickeys?', 'Husband: Why are there broken condoms on the couch?', \"People make such a big deal about vegans, but I don't get it.\", 'Today a girl kissed me', 'I buy all my guns from a guy named \"T-Rex\"', 'I got an e-mail saying “At Google Earth, we can even read maps backwards”, and I thought...', 'Why did Obama get two terms?', 'Instructions how to fall down stairs:', 'I bought a box of condoms earlier today', 'Today a girl kissed me', 'My son asked me, \"Daddy, why do bees stay in the hive in the winter?\" I smiled and answered...', 'A lost hiker is on one side of a raging river when he sees a buddhist monk on the other side. There are no bridges. He has no boat. He shouts out to the monk on the opposite bank. “How do I get to the other side?”', 'When do S and C sound the same?', 'Adblock makes you unattractive to women...', 'A man went into a library and asked for a book on how to commit suicide.', \"What's the difference between a good joke and\", 'Every day we have hundreds of people coming into this country with no skill, no grasp of the language and a total drain on our resources...', \"One day I'll pretend to be gay. I'll make lots of female friends, gain their trust. Become their confidant, and when they least expected...BAAM!!!\", '\"Jesus loves you\" is a wonderful thing to hear in church.', 'I asked my North Korean pen pal how it was like living in North Korea', \"I don't normally see eye to eye with most Trump supporters, but if there's one thing we do agree on...\", \"I asked my girlfriend if she'd like a day of eating ice cream and hanging with her girl friends.\", 'I saw a documentary about a submarine that recycles 87% of its garbage', 'My boss said to me, \"you\\'re the worst train driver ever. How many have you derailed this year?\"', 'Why does Greta Thunberg like r/jokes so much?', 'What do you call a game where Germans throw bread at each other', 'I signed up for a gym membership this year.', 'I heard there was an homosexual in my football team.', '[NSFW] Yesterday I gave a surprise bukkake party to my roommate...', \"What do you call a book club that's been stuck on one book for years?\", \"I don't like the term 'Anal Bleaching'.\", 'I used to sell security alarms door to door, and I was really good at it.', 'My daughter told me to treat her like a princess...', 'Apparently there is bi-partisan agreement in Congress that medicinal marijuana should be allowed for the purpose of relieving arthritis pain...', 'Who decided to call it “marijuana possession\"', 'Last night, my Girlfriend told me to “Turn the light off and stick it in my ass”', 'I bought a porn DVD today and all I could see was a dark image of some fat cunt sitting there holding his cock.', 'How many dead prostitutes does it take to change a lightbulb?', 'I bought a new deodorant yesterday. The instructions said \"Remove cap and push up bottom\"', 'How do you piss off a female archeologist?', 'My doctor wrote me a prescription for \"dailysex\".', 'Jokes are like U.S. Presidents', \"My sister bet me $15 that I couldn't build a car out of spaghetti.\", 'My girlfriend told me to fuck her like a man', 'If someone who speaks 2 languages is Bilingual, whats someone who speaks 1 called?', \"A man says to the doctor: 'What's the good news?' 'You've got 24 hours to live. He says: 'What's the bad news?\", 'How does Bill Gates count to ten?', '3 guys are on a boat with 4 cigarettes but nothing to light them with', 'I used to illegally give weed to my prize winning cows, but I had to stop.', \"I'm optimistically single.\", 'If having sex for money makes you a whore...', \"I can't remember how to write 1, 1000, 51, 6 and 500 in Roman numerals\", \"Why were the 'Dark Ages' so dark?\", 'What did the pirate say on his 80th birthday?', 'They say you should test your fire alarm once a month...', 'Organised a threesome last night', 'Ajit Pai.', 'When my girlfriend got pregnant everything changed...', '4th of July,', \"I think I'm failing my marine biology class\", 'In high school some kids told me they’d give me $20 to hang out with them.', 'why is everyone posting about 9/11?', 'I ordered giant duck at a fancy restaurant last night', 'How did Mace die?', 'Coronavirus', '\"Dad, can you tell me what a solar eclipse is?\"', 'How many fuq bois does it take to screw in a light bulb?', 'Why is it so easy to track Santa on Christmas Eve?', \"What's similar between a pregnant 14 year old and the fetus inside her?\", 'What does a church in Helsinki have in common with Mortal Kombat?', 'When i was a boy, i had a disease that required me to eat dirt three times a day in order to stay alive...', \"I've been taking Viagra for my sunburn\", \"What's the difference between a rimshot and a rimjob?\", 'What are porn stars paid?', 'Today i taught my son a lesson by eating his homework.', 'Apparently you can\\'t use \"beefstew\" as a password', 'Why did the chicken commit suicide?', 'Husband: I have cheated once', 'My son identifies as a crescent moon.', 'Communism was bound to fail.', \"I've been doing yoga for 5 years.\", \"I'm starting to think this country really is run by Jews\", 'After long consideration, my wife and I have decided we do not want to have children.', \"Why can't you hear a pterodactyl urinate?\", 'Hindus are so chilled out.', 'My friend said to me, “Do you want to hear a really good Batman impression!?” I said, “Go on, then.” He shouted, “NOT THE KRYPTONITE!” I said, “That’s Superman.”', 'Elon Musk Announces Odd location for New Tesla Factory in the Country of........', 'Arnold Schwarzenegger was asked if he wanted to upgrade to Windows 10.', 'Just found out the local barber has been arrested for selling drugs.', 'Give a man a jacket', 'Host: What are you?', 'My girl keeps having disturbed dreams, shouting things like \"Hobbit!\", \"Gandalf!\", and \"Mordor!\".', 'Dads are like boomerangs', 'A guy in school said that my clothes were gay', 'I’m seriously thinking about re-marrying my ex-wife…', 'Unfortunately I lost my Korean friend the other day.', 'I thought my son would like that I bought him a trampoline, but oh no.', '3.14% of sailors...', 'I trapped a couple of vegans in my basement.', 'What video game would Adolf Hitler play?', 'Why do Native Americans hate snow?', \"What's the difference between an actress and a hooker.\", 'Please stop the hate on the lazy people', \"What's it called when an illegal immigrant and a child molester get in a fist fight?\", 'If I don’t perfect Human Cloning...', 'Star wars joke', 'Son: Dad why is our food so cold and bland?', 'Some bloke just told me he was gonna smack me with the neck of his guitar....', 'An atheist, a crossfitter, and a vegan are all sitting at a bar...', \"What's that Italian dessert called where you pour espresso coffee over ice cream?\", \"Why don't churches have WiFi?\", \"Why can't you fool an aborted baby?\", 'If your phone auto corrects \"fuck\" to \"duck,\" it\\'s okay to keep it...', \"In the original 'Good Will Hunting' script, there is a surprise gay sex scene between the two straight leads. It was purposely put there as a test to see if studios actually read the script. Harvey Weinstein was the only producer who mentioned the scene\", 'Alligators can live up to 100 years...', \"What's the difference between everybody and bullets?\", 'Yo mama so fat', 'I found a wallet today and as a good Christian I thought, \"what would Jesus do?\"', 'Why did Pavlov have extra soft hair?', 'I asked my Aunt\"How much is a couple?\"', 'Why does Stephen Hawking do one-liners?', 'eBay is so pointless', 'A couple of Thai girls asked if I wanted to sleep with them. They said it would be like winning the lottery.', 'What do you call a necrophiliac gangbang?', 'Everybody laughed at me when I said I was going to be a standup comedian.', 'Which word has 6 letters, starts with an N and ends with an R and is related to a Race', 'Why are catholic priests called father?', 'My friend is spreading rumours about me being schizophrenic.', \"If a woman sleeps with a bunch of guys, she's a slut.\", 'A man walks into a bar', \"What's long, hard and bendable and contains the letters p, e, n, i, s?\", 'Louis CK might not physically have had sex with any women', 'I walked into a room full of men masturbating', \"I think I've been hacked by Russia\", 'How many Feminists does it take to screw in a lightbulb?', 'What type of joke is the best joke?', 'I heard Reddit likes puns so I posted 10 of them hoping at least one would reach the front page', 'Anyone notice the irony behind “hyphenated”', 'I like my women how I like my Coronavirus', \"Do you know why libraries don't have books about suicide?\", 'My brother just updated his status to \"I love my girlfriend &lt;3\".', 'How much room is needed for fungi to grow?', 'A girl in a restaurant asked me \"Are you single?\". I happily replied \"Yes\"', 'When she screams \"deeper!\"...', 'Girl: “Come over”', 'I recently found out my mom has a disturbing fetish. She has slept with several underage teenagers and I am really concerned about their well being.', 'Does anyone know how to avoid click bait?', 'Socialist jokes are not funny', 'Girl: \"Come over\"', 'The Quran is like weed', \"Don't you hate it when you're driving along smoking a cigarette, you flick it out the window and you drive for a couple more miles and smell something funny and you look over onto the back seat and sure enough..\", \"My wife's birthday is in two days, and she told me that she would be happy as long as I get her something with a lot of diamonds in it.\", 'I was feeling lonely, so i bought some shares.', 'I asked 100 women which shampoo they preferred.', \"I couldn't accept that I was both gay and dyslexic\", 'Have you heard of the sexual maneuver called the \"Reverse Hitler\"?', 'Someone broke into my house last night and stole my Limbo stick..', 'A dad is given bad news by a doctor', \"Hi, I'm black, and I can't stand it when people assume we're all criminals\", 'Why did Elon Musk choose SpaceX to land on mars?', 'The first time I had sex, it was in my parent’s bedroom and my girlfriend said, “This is a bit awkward.”', 'I only believe in 12.5% of everything the Bible says.', 'If your girlfriend starts smoking', 'Why do Americans have good computers?', 'I lent my umbrella to a hot girl yesterday.', 'I got fired from the unemployment office on Friday.', 'Propellers on small planes are actually used to keep the pilot cool.', 'Is it all black people that have a problem with slavery?', 'What do you call a soldier who survived mustard gas and pepper spray?', 'I asked my wife what she will do when I won the lottery.', \"What's the difference between tuna, glue and a piano?\", 'I asked my girlfriend to 68 today', 'I read a joke about Oedipus and Midas.', 'The lesbian neighbours were having sex last night, so I knocked on their door and complained about the noise.', 'I tried to re-marry my ex-wife.', 'When I was a teen, my dad showed me a 15 minute PowerPoint presentation on why one should always wear a condom during sex.', 'I know global warming is bad', 'A black guy in an library asked me where the colored printer was', 'How many super saiyans does it take to change a light bulb?', 'Shame about the Tesla driver that crashed while watching a movie.', 'Made love to my wife for an hour and four minutes tonight', 'What’s the difference between a tire and 365 used condoms?', 'What do you call a witch that only eats sand?', 'Why was Six afraid of Seven?', 'I was playing chess with my friend', 'I used to really enjoy political jokes...', 'What kind of fish is made of only two sodium atoms?', 'V', 'We had a band in High School called 1023 Megabytes.', \"Why wasn't 6 excited that 7 won a prize for her?\", 'Son: Why is my sister called Teresa?', 'Just called the tinnitus hotline', 'My son got kicked out of school for letting a girl in his class jerk him off...', \"I have a condition that makes me eat when I can't sleep\", 'Sometimes I just wish I was black.', \"My wife: You didn't hear a word I said, did you?\", 'Girl: come over', 'If a blind girl ever tells you that', 'When I get naked in the bathroom..', 'How to Fall Down the Stairs', 'Why are women and children evacuated first in a disaster?', 'Girl: \"Come over\"', 'A black guy in an library asked me where the colored printer was', 'I met a drunk ventriloquist who said she wanted to sleep with me...', 'We had an open position with 60 applicants. I said, \"I don\\'t have time to review all these resumes. Just hire the one with the biggest tits!\"', \"EA's microtransaction policy is so bad that...\", 'If u sit in the toilet to take a poop at 11:58pm and your still there till 12:03 am', 'Why does The Little Mermaid wear seashells?', 'I know every single digit of pi!', 'I used to sell security alarms door to door, and I was really good at it.', 'My wife has kicked me out of the house because of my bad Arnold Schwarzenegger impressions. But don’t worry.', 'Why was 2019 afraid of 2020?', 'My girlfriend admitted she used to be a Christian, so I broke up with her.', \"I've come to the realization that suicide would solve all my problems...\", 'Three tampons are walking down the road. A thin, a regular, and a super. Which one says hi first?', 'Today I am celebrating 100 days without alcohol!', \"What's the difference between an iPhone X and one ounce of gold?\", 'Bill Gates teaches a kindergarten class to count to ten.', 'I sold some baby laxative to a junkie and told him it was cocaine...', \"Remember back in the day, when your TV wouldn't work, you'd bang it a few times?\", 'What do you call the cleavage between breast implants?', 'What do Bernie Sanders supporters call their roommates?', \"What's the difference between a diameter and radius?\", 'Why are redneck murders so hard to solve?', 'I was mugged by 6 dwarves last night', 'To avoid being raped when I am in jail...', 'What do boobs and Christmas trees have in common?', 'I joined ISIS to help my self esteem issues.', 'My wife is really mad at the fact that I have no sense of direction', 'What do you call an Emo A capella group?', 'I own the chewed pencil that Shakespeare used to write his famous works.', 'Snake: *hissssssssss*', \"My girlfriend's father called me a pedophile just because she's 22 and I'm 36.\", 'Two cannibals are eating Amy Schumer', 'Is it OK to hate certain races?', 'My neighborhood barber just got arrested for selling drugs...', \"Did you hear what NASA's new slogan will be once their budget is cut?\", 'What is the worst part about locking your keys inside your car outside an abortion clinic?', 'Cashier: Scans Condoms', 'My dad asked me the other day: \"Are you even listening to me?\"', 'I’ve been saying “mucho” to all of my Mexican friends.', \"Do you ever wake up, kiss the person sleeping beside you and feel glad that you're alive?\", 'While driving to work, robbers jumped into my car and stole everything.', 'Purple is my favorite color!', 'Where did Noah keep the Bees?', 'How can you tell someone hates vegans, cross fitters, and atheists?', 'I went to an Oasis gig with my sister in 1995.', 'My dad always told me he never made the same mistake twice', 'What do you call a fat psychic?', 'How do you measure the heaviness of a red hot chili pepper?', '90 degrees is pretty hot for most people,', 'I refused to believe I was gay and dyslexic.....', \"What's the difference between Usain Bolt and Hitler?\", 'Why does Michael J. Fox make really good milkshakes?', \"What's the difference between America and cheese?\", 'If you are on a blind date, try opening with a joke you found here on this sub.', 'The cocaine that I bought is so white..', \"What's the difference between communism and a pencil?\", \"How does an Apple Watch owner know that it's midday?\", \"What has five fingers and isn't your hand?\", 'My wife said there’s no way in hell she’d ever allow me do doggie style.', 'Just got back from the Transformers convention', 'I got fired from my job as a taxi driver.', 'As God created this human child, God asked him...', 'Puns are the only form of humor where a groan is high praise and a laugh is a fair attempt.', 'Why is \"Dick\" short for Richard?', 'My girlfriend is the square root of -100', 'I started carrying a knife after an attempted mugging few year ago.', 'I have the eye of a tiger, the heart of a lion...', 'Not everything Donald Trump says is stupid.', 'IamA Bing search engine AMA', 'I accidentally referred to my wife as my girlfriend today', 'I used to be addicted to soap....', \"I just made this one up and it's really stupid. What do you call a resistor that can't afford rent?\", 'I was applying for Australian citizenship and the interviewer asked, “Do you have a criminal record?”', 'All my friends keep saying that my new girlfriend is imaginary...', 'Why did America remove the U from colour?', 'I recently quit my job at the orange juice factory......', 'Where did Captain Hook buy his hook at?', \"I still remember my Grandfather's last ever joke...\", \"I'm not an expert in masturbation\", 'Everyone is a fan of Stephen Hawking now that he died.', 'There are only two types of people worse than racists', 'Anal sex is just like your first car', \"I'm a scientist that's researching beastiality between humans and dogs\", \"What's the process of applying for a job at Hooters?\", \"I bet Ted Cruz has two twitter accounts now. one for porn, and one to talk about the laws he's passing...\", 'I accidently sprayed deodorant in my mouth today', \"I really wish they'd taught sex in schools.\", 'I named my dog “5 miles” so I could say “I walked 5 miles”', 'Why did the Star Wars movies come out in the sequence 4, 5, 6, 1, 2, 3?', '\"I won\\'t use stores that gender kids\\' beds\"', 'To teach kids about democracy, I let them vote on dinner.', 'What sound does Reddit make when it blows up?', 'A penis walks into a bar', \"What's the rudest kind of elf?\", \"Since Vampires are supposedly hurt by holy water, I always wondered why priests don't just say a prayer over every storm cloud, kill the vampires from above. Then I realized why so many Vampires are from Europe...\", 'A Cable repairman was on my street today and he asked me what time it was.', 'Isaac Newton: *slaps roof of car*', \"I have just started a sexual relationship with a blind woman. It's very rewarding, but quite challenging.\", \"Why don't churches have WiFi?\", 'If you find $60-80 to be too expensive for ancestry DNA kits, I have a cheap alternative...', \"You're riding a horse full speed. There's a giraffe next to you and a lion chasing you, what do you do?\", \"Australians don't have sex...\", 'The wife asked if she could wear one of my wife beaters today...', 'What did our parents do to kill boredom before the internet?', 'How many cops does it take to push a black man off the stairs?', 'Why does the Mexican guy take xanax?', 'Doctor wrote me a prescription for daily sex', 'My friend says to me: \"What rhymes with orange\"', \"I should've known my boyfriend was a communist.\", 'What does a pedophile and a turtle have in common?', 'Did you know the first French Fries weren’t actually cooked in France?', 'I just got the new iPhone for my wife', 'Got an IPad from my chinese friend...', 'I called two girls hipsters and got slapped', 'Why is the KKK against triathlons?', 'During a job interview yestarday I poured some water into a cup and it overflowed slightly', \"What's the proper name for a gay couch?\", 'If I see one more fucking post about Net Neutrality', 'If you’re dating someone who doesn’t enjoy Star Wars puns...', 'If Hermione was a mathematician what would her kids be named?', 'The way to a man’s heart is through his stomach', 'How fast was Thor’s hammer destroyed?', \"My wife doesn't know this, but I put a dollar in an envelope every time we have sex. This is all I'm spending for her Christmas present.\", 'What costs hundreds of millions of dollars but is worthless?', \"My son is a man trapped in a woman's body\", 'On January 1st I joked to my girlfriend we haven’t had sex all year.', 'I called two girls hipsters and got slapped.', 'I got fired from my last job for arranging the vegetables into sexual position', 'Homosexuality is found in over 150 different species, homophobia is only found in two.', 'I just got fired from my job as a taxi driver.', 'If i had a nickel for every existential crisis', 'Guy walks into a bar with a gun and snarls “who had sex with my wife!!!”', \"A swastika has been spray painted over Donald Trump's star on the Hollywood Walk of Fame...\", 'Do you guys remember when I told you about my spine issue?', 'My math teacher called me average...', 'My wife told me: \"Sex is better on vacation.\"', 'I was browsing in a liquor store when an employee asked me “Do you need help?”', 'English is weird..', 'The vagina has more than 8000 nerve endings', 'Dark Humour is like anti-vax families', \"I've decided to marry a pencil\", 'She told me if I turned the light off I could put it in her butt.', 'Will glass coffins be a success?', '\"Bite me, asshole\"', 'My ex-girlfriend just told me she wants us to get back together again. MAN! I sure am LUCKY!', 'Why does the military use acid?', 'I called the doctor \"My wife is going into labor! What should I do?\" \"Is this her first child?\" he asked.', 'The best thing about Japanese porn', \"I'm not saying it's a mistake letting my girlfriend control the thermostat...\", \"I personally don't believe in bros before hoes or hoes before hoes..\", 'It’s a five minute walk from my house to the pub.', '\"Diana!\" I said greeting my mother-in-law as she walked through the door...', \"A mathematician couldn't remember if he had been with his girlfriend for 1 year or 2.\", 'If you are a man explaining something, you are \"mansplaining.\" If you are a woman explaining something, you are...', 'If Dodge made an electric car...', 'America is sure having some bad luck these days.', 'Somebody told me my clothes were gay.', 'My girlfriend accused me of cheating', \"[Politics] Trump: 'The less immigrants we bring in the better'\", 'Scientists have discovered a way to milk sheep.', 'Dads are just like boomerangs..', 'Self-deprecating jokes are great.', \"I'm looking to sell my Delorean. Good shape, low mileage...\", 'People often say \"icy\" is the easiest word to spell.', 'I asked 100 women which shampoo they preferred....', 'I don’t believe in bros before hoes or hoes before bros. There just needs to be balance.', 'My friend found out recently that he is both gay and dyslexic.', 'What would Santa Claus be called if he had no hands?', 'What do you call a woman who knows where her husband is all the time?', 'My doctor advised me to stay away from trans fats.', 'My Tinder match said she’d talk to me again when she got home...', \"My boyfriend is getting me a dildo cast from his own penis for Valentine's day...\", 'My family treats me like a God', \"Do you know why I don't do threesomes?\", 'An atom loses an electron...', 'My family insists i am addicted to drinking brake fluid.', \"I've just bought a thesaurus but all the pages are blank\", 'Humans can catch diseases from monkeys and bats, but why not anteaters?', \"What's blue and not very heavy?\", 'Unfortunately my dad lost his job at the cemetery yesterday', \"I asked the librarian for a book about Pavlov's dog and Schroedinger's cat.\", \"If I got $1 every time a woman said I was't her type,\", '\"How much to buy a singing ensemble?\"', \"Jobs that don't exist anymore;\", 'I was in a Uber today and the driver said,', 'If any of you are sad about being alone on valentines day, just remember...', 'This morning I was beaten up by a busty woman in an elevator.', '/r/Jokes/ wins Friend of the Planet award!', 'My grandad was a WWII veteran. In just one day during the Battle of Britain, he destroyed 8 German aircraft killing a total of 32 Nazi aviators.', 'Why the crab cross the road?', \"What's the best part about fingering a gypsy on her period?\", \"My dad died last year when my family couldn't remember his blood type in time for paramedics to save him\", 'So I almost talked my way out of a speeding ticket by telling the women officer she looked stunning..', 'My girlfriend is fed up of my constant wordplay jokes, so I asked her, \"How can I stop my addiction?\"', '“So how long are you in for? ” I asked my cell mate.', 'What do you call a stolen Tesla?', 'Today i asked the hot girl at my gym what her new year resolutions were.', 'Sure, white people can\\'t say the \"N word\" but.', \"The Bible says being gay is fine, as long as you're high.\", 'How do you get a nun pregnant?', 'A man goes to do the doctor for a physical. He tells the not to be alarmed but he has 5 penises.', 'My 13 year old son was attacked for being white and a Donald Trump supporter.', 'A hungry traveler stopped at a monastery and was taken to the kitchen where a brother was frying chips...', 'A man lost his luggage so he took the airline company to court', \"What's the best thing about being black?\", 'Why are the twin towers and genders so similar?', 'A drunk wakes up in jail and asks the first police officer he sees, \"Why am I here?\" \"For drinking.\" replies the officer.', \"Mark Zuckerberg says he wears a grey t-shirt everyday because he doesn't want to waste time on things that don't matter.\", 'Last night my wife started calling me Jeb Bush.', 'I just yelled \"Cow\" to a girl in a bike, she then turned around and called me \" Fucking idiot\".', 'The first thing I notice about a woman is always her eyes.', 'The average person has sex 89 times a year', 'I went to the Reddit restaurant', 'A Joke from my little cousin', 'Men think about sex every 7 seconds...', 'What did the CEO of Reddit say to its users', 'What do Daredevil and Scarlet Which have in common?', 'What is E.T. short for?', \"What do you call a hippies' wife?\", 'My girlfriend said to me \"sex is better on holiday\"...', 'Jesus once said \"He who lives by the sword, will die by the sword\"', 'I give to you a joke I made up when I was seven: Why did the computer crash?', \"I'm bad at two things: telling jokes, and not getting angry while waiting in queue at orgies...\", 'If a tree falls in the forest and no one is around to hear it...', '1 out of 5 people suffer from loneliness.', \"When counting down, I can't stand negative numbers\", 'I used to steal Mitch Hedberg jokes...', 'Dad puts the car in reverse, looks in the rearview mirror and says...', 'I was watching a porno the other day and it was just a guy crying and wanking', \"I'm 60 days clean.\", 'You know what has 8 legs 8 hands and 8 eyes?', 'My black friend and I were in the library when he asked where the coloured printer was.', \"I can't take my dog to the pond anymore because the ducks keep attacking him..\", 'Hey baby, forget Netflix and chill', 'Girls used to call me ugly until they found out how much money I make.', '\"If women ruled the world,\" said my wife, \"there\\'d be no wars.\"', 'What do a cell phone and anal bleach have in common?', \"We'll We'll We'll\", 'What do you call the combination of Tesla, SpaceX, and The Boring Company?', \"Jesus' life told by the bible\", 'How many cops does it take to change a light bulb?', 'During sex, I accidentally called my wife by my ex-wife name.', 'I cry every time after sex.', 'Say what you want about Floyd Mayweather', 'People treat me like a god', 'I wanted to post a joke about Sodium but I was like Na, people won’t Understand.', 'If you Google \"lost mediaeval servant boy\"', \"I don't see why in this day and age there aren't marches against fat shaming\", 'I asked a homeless girl if I could take her home.', \"How do you know a joke isn't a repost?\", 'My landlord says he needs to come talk to me about how high my heating bill is', 'What’s the difference between a drug dealer and a hooker?', 'I know every single digit of pi!', \"I'm writing a book called 'Stop Overreacting.'\", \"My wife asked me what I'm posting on Reddit...\", 'Had to explain what irony was to someone at church.', 'I have a Polish friend who is an audio engineer', 'When I saw the letters \"HI\" in the alphabet, I thought someone wanted to be my friend.', 'Today, when my son asked, \"Can I have a book mark?\" I burst into tears...', \"I asked a friend of mine from New Zealand how many sexual partners he'd had.\", 'The other day I got pulled over, and when the cop walked up I pulled out my 9mm', 'Thank you, student loans, for helping me get through college', 'Why does McGregor love springtime so much?', \"It's easy to convince ladies not to eat tide pods.\", 'One day I changed a lightbulb, crossed the road, and walked into a bar.', 'I only believe in about 12.5% of the bible', 'What has one finger and is very demanding?', \"Hillary's emails would make the perfect construction material for building the great Trump Wall...\", 'My teacher told me I would never be good at poetry because of my dyslexia', 'A good romance starts with a foundation of trust and friendship.', \"What's Gordon Ramsay's favorite subreddit?\", 'Damn, girl, are you a math book?', 'Why did Jon Snow stand in line for 6 hours at the Apple Store?', 'Stats show the average person has sex 89 times per year', \"If pronouncing my b's as v's makes me sound Russian,\", 'A man goes to the doctors as he thinks he’s going deaf', 'What noise does a subatomic duck make?', 'I started a club for guys with erectile dysfuntion', 'A pregnant teen and her baby is thinking the same thing...', 'I was given MDMA and LSD tonight...', 'My neighbors listen to awesome music', 'Guess who just woke up to 19 missed calls and 30 messages from his ex', 'You can tell Monopoly is an old game...', 'I felt like a fool when I bought David Bowie tickets for my son and then remembered that he died last year...', 'What does an English pimp do, after having tea and crumpets?', 'I was raised as an only child', '\"When one door closes another door opens\" he said', 'Caveman discovers weed', \"If I had a dime for every time I didn't understand what's going on,\", \"Just spent $300 on a limousine and discovered that the fee doesn't include a driver\", 'The person who invented autocorrect walks into a barn.', 'Jesus walks into a bar', 'My son is sort of like rapunzel', 'I am thinking about pursuing a job as a crowd estimator', 'Apparently, someone has been shot with a starter pistol at the athletics track.', 'My 7 year old nephew showed me with pride the \"telephone\" he had just made from a string and two tin cans...', 'Did you know: If you say a number loud enough, you increase its value?', 'I killed four people by looking them yesterday.', 'Why do French people eat snails?', 'I was awakened with a blowjob today', 'Some day, canada will take over the world.', 'I like my girls like I like my Dumbledore', 'I got arrested at the airport last week...', \"Breaking News: Bill Gates has agreed to pay for Trump's wall\", 'Why is North Korea worse than South Korea?', 'What is 6.9?', 'Why does Kim Jong Un love books?', 'How many Buzzfeed writers does it take to start an electric chair?', 'Trump wants to ban the sale of pre-shredded cheese.', 'Scientist: \"My findings are meaningless if taken out of context\"', 'I was arrested for killing a black man', 'What does the apple user do when he wants to customize his device?', 'What kind of weed do reptiles smoke?', \"As I'm sure you're all aware, the Notre Dame Cathedral is on fire.\", 'My neighbor got busted for growing weed today', 'Do you know where I can rent a church singing group?', 'How many kids with ADD does it take to change a light bulb?', 'my son is a male trapped in a female body', 'Two blondes walk into a bar', 'What would happen if Snoop Dogg dies before pot becomes legal in the US?', \"What's the difference between an American teenage girl and an Arabian teenage girl?\", 'TIL: After Pearl Harbor, US warships fired upon friendly u boats heading back to port.', 'What do hamsters and cigarettes have in common?', \"What's a Communist's favorite video game?\", \"The woman next to me on this rollercoaster won't stop screaming.\", 'I was crossing the street when I suddenly noticed my ex getting run over by a bus. I thought to myself, “Wow! That could have been me!”', 'A girl asked her boyfriend \"Which do you love more, my pretty face more or my sexy body?\"', 'A man arrived to a Duel with only a pen and a piece of paper', \"My 8 year old sister's joke: There were 12 fish in a pond. One of the dies. Why did the water level in the pond rise?\", 'Do Transformers get car insurance or life insurance?', 'Have you heard of the Saudi Arabia gay pride anthem?', 'Recent study has revealed that masturbation might help curing the common cold.', 'Nobody believes me, but I only have sex standing up.', 'My 18 carat gold butt plug business was sued by Apple', 'What do you call a girl with an hourglass figure?', 'How do you stop a Mormon from drinking all the beer at your party?', 'Did you hear about Prince?', 'I accidentally drank holy water with my laxatives.', 'What do you call 6.02*10^23 butts?', 'If big feet means big dick and big car means small dick...', 'A naked woman robbed a bank', 'How many police officers does it take to push a black man down the stairs?', 'When you pull the pin on a grenade, how do you put it back in?', 'Dammmn girl, are you a smoke detector?', \"Trump's wives were immigrants, proving the adage true...\", 'I asked my boss \"what\\'s the difference between your wife and tomorrow?\"', 'Why didn’t aliens visit our Solar system yet?', 'Yesterday I took laxatives and laughing gas at the same time', \"People always told me my dyslexia would hold me back and I'd never be any good at poetry.\", 'I hate when Mommy and Daddy get drunk and start fights.', 'Why do police officers wear blue?', 'arnold schwarzenegger was asked to update his laptop to windows 10 but he said...', 'My boss is threatening to fire the employee with the worst posture.', 'Joke my 8 year old made up: \" How do you make two C\\'s out of one C?\"', 'Why do French tanks have a rear-view mirror?', \"I went to the liquor store on my bicycle and bought a bottle vodka, put it in the basket on the front and then it occurred to me that if I fall or something happens, the bottle might break, so I drank it all right there and it's a good thing I did...\", 'So much has changed ever since my girlfriend told me we were having a baby!', 'Why did the blind woman fall into the well?', 'Donald J. Trump has been impeached', 'How do fortune tellers greet each other?', '\"Waitress, can I ask you something about the menu please?\"', 'Did you know that you can get a slice of lemon pie in cuba for $1.50 and in jamaica you can get key lime pie for $1.00?', 'What did Sparticus do to the cannibal who ate his nagging wife?', 'Personally, I don\\'t believe in \"bros before hoes\" or \"hoes before bros\"', 'According to my doctor it should be ok for me to ignore social distancing on Saturdays and Sundays.', 'My buddy gave me a terrible thesaurus.', 'Why do you never see a church with free Wi-Fi?', 'How are dog catchers paid?', \"I'm kinda scrawny, so I had to quit my job as a personal trainer\", 'Where do Suicide Bombers go when they die', \"I'm taking Viagra for my sunburn\", 'my wife asked me if I wish she had been born with big tits.', 'What did 0 say to 8?', 'When I noticed “HI” in the alphabet, I thought someone was actually going to be my friend...', 'If you ever feel like your job is meaningless, remember', 'I like jokes. But jokes about air conditioners?', \"I've only been in jail for 5 minutes and I've already been raped twice.\", \"I asked a Scottish friend of mine how many sexual partners he'd had.\", 'I was walking with my girlfriend when a random guy whistled at her and said \"nice ass\". She was clearly annoyed and demanded I say something.', \"My wife asked me what I'm posting on Reddit...\", 'The saying \"say no to drugs\" has always made me laugh.', 'What does the antisocial, know-it-all frog say?', 'As an Aussie, Americans are always asking me where in Australia there *isn’t* something trying to kill you...', \"I've been told I'm condescending.\", 'I told a girl at work she drew on her eyebrows too high.', 'As a German, you know what really grinds my gears?', 'I was holding a door open for this asian guy and he said \"sank you\".', 'I loaned my girlfriend $100 sometime soon after we met. After 3 years, when I broke up with her, she returned exactly $100.', 'How many narcissists does it take to change a lightbulb?', 'You shouldn’t make fun of fat people', 'I walked into a room full of men masturbating', 'My wife left me for an Indian guy', 'My sexual desires have been getting out of control, but it wasn’t until I spanked a statue...', 'Jesus Christ fed 2,000 people with 5 loaves of bread and 2 fish', 'I’m planning a charity event for people who struggle to achieve an orgasm', 'Why do gay dudes always check out of their hotel on time?', 'Hey girl, are you the Bible?', 'What does a redneck and yeast have in common?', \"Statistics say there's a gay guy in every group of friends. I think it's Tim...\", 'I recently entered a competition to see who had gained the most weight and lost the most hair.', 'I almost got caught stealing a board game today...', 'Where do little jokes come from?', \"I was kicked out of the house for my bad impressions of Arnold Schwarzenegger. But that didn't faze me. As I left, I told 'em...\", 'I saw a sign that made me shit my pants', 'What does a mechanic do for a one night stand?', 'What’s long and hard that a Polish bride gets on her wedding night ?', 'My next door neighbor is Bulimic and she was making so much noise last night, that I banged on the wall and shouted...', \"Why don't witches wear panties?\", 'I wasn’t allowed in a fraternity in college because I was circumcised.', \"The easiest abortion I've ever performed was on a stripper.\", '\"This trampoline is for men only.\"', 'Today my stoner friend used my to-do list as a blunt wrap', 'People use to laugh at me when I said I wanted to be a comedian', 'Son asks his father', 'My girlfriend tried to make me have sex on the hood of her Honda Civic…', 'A lot of woman actually turn into good drivers', \"I'm a scientist that's researching beastiality between humans and dogs\", '[OC] Why are hairdressers suicidal', 'Why is the white guy the scariest guy in prison?', 'How many optometrist does it take to screw in a light bulb?', 'Recently got a second job as a bartender at a stripclub.', 'What was Icarus’ least favorite food?', 'Bill Gates and Elon Musk should team up and make a medicine to cure erectile dysfunction', 'One day after sex, my girl told me she used to be a Christian.', '\"Do you tell your husband when you have an orgasm\"?', 'What prize does someone get if they haven’t moved a muscle in over a year?', 'Life is like a box of chocolates', 'I was feeling really lonely recently, so I bought some shares...', 'Interesting facts about myself: (1) my penis is not as long as a footlong sub', 'I dated a dentist a while back,', 'TIL humans eat more bananas than monkeys.', 'My girlfriend has the same first name as my sister', 'My mother always used to say \"The way to a man\\'s heart is through his stomach\"', 'A boob, a vagina and an asshole are debating as to who is the greatest of them all. Boob: I give milk to new born babies and I’m attractive to the opposite sex, that’s why I’m the greatest. Vagina: I give birth to babies and I accommodate the opposite sex, that’s why I’m the greatest.', 'On a first date last night my date asked, ‘So, what do you do?’', 'I only believe in 12.5% of everything the Bible says.', 'Today I discovered someone had stolen my activation for Microsoft Office...', 'Genders are just like the twin towers...', \"I get the words 'Jacuzzi' and 'Yakuza' mixed up.\", 'Monday: Greg Tuesday: Ian Wednesday: Greg Thursday: Ian Friday: Greg', \"I've never really understood it why would you become an Islamic suicide bomber on the off-chance you might get 72 virgins when you die.\", 'For our chemistry exam we had to write a thousand words on acid.', 'Studies have shown that smoking weed causes short term memory loss.', 'Me: “Squirting isn’t real, right? It’s just urine, right?”', 'What are the pros and cons of wearing two watches?', 'People who are offended when I breastfeed in public need to shut the fuck up', 'My black friend asked me where to find the color copier', \"I like to stand in the corner of my psychiatrist's waiting room and blow on anyone who walks by...\", 'I saw the girl i had sex with on Halloween yesterday', 'How do you know that an introvert likes you?', 'Why did the mermaid rush out of her maths exam, red faced and embarrassed?', 'Where is happiness made?', 'Just lost my job as a zookeeper', 'I once tried to make a square but I ended up with an octagon', 'The furniture store keeps calling me back.', 'My buddy set me up on a blind date and he said, \"I\\'d better warn you, she\\'s expecting a baby.\"', 'Apparently there is bi-partisan agreement in Congress that medicinal marijuana should be allowed for the purpose of relieving arthritic pain.', 'If farmer A sells apples, farmer B sells bananas, what does farmer C sell?', 'My wife says if this post gets over 1000 upvotes than I can get anal.', 'I saw 2 guys wearing matching outfits and asked if they were gay.', 'Life lesson', \"IDK what's so hard about cancer\", \"I don't trust people with graph paper...\", \"What's the difference between my jokes and my weiner?\", \"What's Gordon Ramsay's favorite movie?\", 'I just read through six pages in a dictionary.', 'Stevie Wonder was once asked if there could be anything worse then being blind.', 'Why should you never fight a dinosaur?', \"Orion's Belt is a big waist of space.\", 'Cigarette after sex helped me...', \"I asked my cellmate how long he's in for.\", 'I don’t often tell Dad jokes.', 'When I was a kid I thought I had a Chinese friend', 'Dear Satan...', 'My friend has been a limo driver for 20 years and has never had a customer.', 'My son (who is into astronomy) asked me “How do stars die?”', 'Why do Native Americans hate snow?', 'Why did the Mexican man take Xanax?', 'What did grandma and grandpa do before there was Internet?', 'Break a mirror, 7 years of bad luck.', '\"Timmy, what\\'s 119+1?\" Asked the teacher.', 'What begins with a \" C\" ends with a \"T\" has a \"U and a \"N\" in it, is hairy on the outside and wet in the middle.', 'Whoever coined the phrase “dad bod” missed a golden opportunity...', 'There would be less pollution in the world if everyone joined reddit.', 'why did the feminist fail algebra?', 'Do all black people have a problem with slavery ?', \"So my brother's girlfriend was recently diagnosed with cancer, and when she told him, he proposed to her on the spot!\", 'How do you get an old lady to say the f word?', \"Tell a man a joke and he'll laugh for a day.\", \"Robin: The batmobile won't start. Batman: Check the battery\", 'For sale:', 'My grandfather died because the report said he had Type-A blood', 'I got fired from my job at the library...', 'My wife just left me because I spent our life savings on a penis enlargement...', 'Damn girl are you a smoke detector?', 'How does a werewolf make bechamel sauce?', 'Why did they release Star Wars episodes 4, 5 &amp; 6 before episodes 1, 2 &amp; 3?', 'How many conspiracy theorists does it take to screw in a light bulb?', 'Life is like a penis. Simple, relaxed and hanging around freely.', 'Why did the Muslim take his Note 7 onto an airplane?', 'Wife: Does this dress make me look fat? Me: You promise not to get mad no matter what I say? Wife: Yes', \"Do you want to know why the republicans won't impeach Trump?\", 'I’m pleased to announce reddit has achieved its goal in becoming one of the top 10 green companies in the world.', 'I don’t want to sound racist but...', 'Will glass coffins be a success???', 'I asked my wife why she never tells me when she orgasms', 'Just found out that cock fighting is done with chickens!', \"Guys I just recently bought a 256GB iPhone 7 Plus, my son dropped it and the screen shattered. Anyways I'm doing a giveaway!\", 'How many dead hookers does it take to change a lightbulb?', 'Just been banned from a Christian dating website.', 'How does a Jewish person make tea?', \"If a girl changes her clothes in front of you, she's either really interested you or you're level 99 friend-zoned.\", 'I gave my friend an elephant for his room.', '\"I\\'m sorry\" and \"I apologise\" usually mean the same thing', 'Will glass coffins be a success?', 'A man screams at his tv: “You fucking idiot don’t walk into that church!!”', '“Poor old fool.” thought the well-dressed gentleman as he watched an old man fish in a puddle outside a pub. So he invited the old man inside for a drink. As they sipped their whiskeys, the gentleman thought he’d humor the old man and asked, “So how many have you caught today?”', 'A redneck sees another carrying a sheep under each arm.', 'What do you call a dictionary on drugs?', 'I promised my wife, I’d love her 24/7', 'A new drug has been developed for lesbians with depression.', 'My ex wife died so I went to the cemetery and to honor her, I poured a fine, 12 year old bottle of scotch on her grave.', \"Catholics fail trigonometry because they're afraid of sin\", \"What's the difference between america and a bottle of milk?\", '[At the chameleon store]', 'My friend Dave drowned yesterday, we placed a life jacket on his coffin', 'A thief broke into my house last night...', 'I told my son to stop playing Russian roulette, but you know how it is with kids...', 'I have a fear of over-designed buildings.', 'How many Alzheimer’s patients does it take to tell a joke?', 'Me: When i donate blood i do not extract it myself. A nurse does it for me', \"I was furious when I found my wife's profile on an on-line dating website.\", 'Will glass coffins be a success?', 'NSFW my dick might not be 12 inches', 'How many brexitiers does it take to replace a light bulb?', 'I asked the librarian if they had any books on paranoia.', 'My sexual desires have been getting out of control…', 'The sweater my wife gave me was picking up static electricity, so I went to the store to change it.', 'White people don’t shoot each other in the streets like black people do.', 'You know, if I had a dollar for every time someone over fifty told me my generation sucks...', 'I don\\'t understand why dogs are called \"Man\\'s best friend.\"', \"What do you call cows that don't have a sense of humor?\", 'Police officer: \"I\\'m here to inform you that your son burned down the school\"', \"I've calculated the name for the next Fast &amp; Furious movie...\", '\"Hey son, what has 4 legs and doesn’t breathe?”', 'I hate it when homeless people shake their cups of coins at me', 'Give a man a fish, and he eats for a day', 'How did Harry Potter make it to the bottom of the hill?', 'How do all black jokes begin?', 'I can’t remember how to write 1, 1000, 51, 6, and 500 in Roman numerals', 'I ordered a chicken and an egg from Amazon.', 'I told my Asian parents that I am Asexual.', 'The police say that they burn all the weed they confiscate...', 'I just joined a gym for religious minorities.', 'As the animals left the ark, Noah told them to go forth and multiply. After some time, Noah came upon two snakes who were just lying there sunning themselves...', 'How can you tell if an astronaut is gay?', 'Astronaut 1: I can’t find any milk for my coffee', 'My wife and I decided not to have kids...', 'What do the twin towers and gender have in common?', 'How many dead people does it take to screw in a lightbulb?', 'My girlfriend just admitted she used to be a Christian, so I broke up with her.', 'Jeff Bezos is getting divorced', 'Why did 10 die?', 'What do you call a Communist sniper?', \"What do you call a werewolf that doesn't know he's a werewolf?\", 'If I ever go to prison, I’m gonna change my name to mitochondria...', 'My first time having sex was like my first time riding a bike', 'Did you hear that NYC paid Hillary Clinton $2,000,000 as a consultant for New Years Eve?', 'My neighbor came at me really aggressively, asking if I knew anything about her underwear disappearing from her clothes line.', \"Did you hear about the mathematician who's afraid of negative numbers?\", 'If prisoners could take their own mugshots...', '5 out of 6 scientists say…', 'Every year for Valentine’s Day I used to always get a card from a secret admirer. This is the first year where I haven’t received anything.', 'What do you call 2 people with identical penises?', \"I told my psychiatrist that I've been hearing voices in my head.\", 'Wanna hear a joke about the ozone layer?', 'Someone made a post offending handicapped people, but I didn’t reply.', 'Why did the blind lady fall into the well?', 'Make sure your viagra says \"Made in the USA\"...', 'How many shots can an Irish man handle?', 'They played the Macarena, I did the Macarena. They played the Twist, I did the twist. They played Come On Eileen…', \"I've just been fired from the clock making factory\", 'A Man walks into a bar with a newt on his shoulder. The bartender says “What an interesting pet, whats his name?” “Tiny” the man replies. “What an odd name, why do you call him Tiny?”', 'When no one answers your r/AskOuija', 'Why are redneck murders the hardest to solve?', 'How many kids with ADHD does it take to change a light bulb?', 'It\\'s quite ironic that \"strap on\"…', \"I thought a vasectomy wouldn't get my wife pregnant..\", 'I have a horse named Mayo.', 'Genders are like the Twin Towers', 'I bought a fleshlight today', 'North Koreans believe they live in the best country in the world because they’re brainwashed by the government and the media.', 'My penis was in the Guinness Book of World Records', \"My dentist reminded me of my wife's sensitive gag reflex. We laughed &amp; laughed.\", \"Q: Why can't orphans play baseball?\", 'Doctor: You might have a phobia of marriage. Do you think you have the symptoms?', \"The front page is filled with memes in reference to that guy being dragged off of a plane. I can't remember the last time the entire reddit user base was so...\", 'Losing my virginity was like my first football game.', \"NSFW What word starts with a 'C' and then ends with 'U-N-T'?\", \"As a male, if a girl gets undressed in front of you, she is either interested in you or you're level 100 friendzoned\", 'A kiss can make your day', 'I wanted to marry my English teacher when she got out of jail…', 'The sky above looked ominous, so I asked Siri, \"Surely, it\\'s not going to rain again today?!\"', 'When you say \"poop\" your mouth moves the same way your anus does when you poop.', 'I would never cheat in a relationship,', 'What did one orphan say to the other?', 'At 23:59 31.12.2015 I raised my left foot off the ground', \"My child doesn't eat meat, what to substitute it with?\", \"Hey, I'm not saying Hitler was a great guy.\", 'I was laying in bed last night looking up at the stars in the sky when I thought to myself', 'My girlfriend tried to take a selfie in the shower, but it was too blurry.', 'A man is washing his car with his son. The son asks:', \"So I told my wife she'd look sexier with her hair back\", 'My girlfriend yelled at me today saying, \"You weren\\'t even listening just now, were you?!\"', 'Light travels faster than sound!', 'I just asked my husband if he remembers what today is...', 'Why hasn’t Kim Kardashian seen her asshole lately?', 'Just found the absolute worst page in the dictionary', \"How warm is a janitor's closet?\", 'Today, I shocked the hell out of the postman by opening the door completely naked.', 'What’s ET short for?', 'Kids are like farts...', 'How many Germans does it take to change a light bulb?', 'Why is 6.9 the worst number？', 'What did one lesbian vampire say to the other lesbian vampire ?', 'My wife left me, so I posted all the nudes she ever sent me onto r/gonewild.', 'What do you call a Soviet Sniper?', 'After God created 24 hours of alternating darkness and light, one of the angels asked him, \"what are you going to do now?\"', \"My sister bet me I couldn't make a car out of spaghetti...\", 'I decided to use my knife to save ammo', 'I tried to sue the airport for losing my luggage.', 'At the end of the physics lecture, I asked my professor, “Can you tell me what happened before The Big Bang?”', 'Got my dream job today. I get my own 200 thousand dollar company car and a corner window with a view of the city..', 'Today my stoner friend used my to-do list as a blunt wrap', 'Why do baby boomers like fracking so much?', 'Thank you, student loans, for helping me get through college.', 'Someone once told me that taking money out of your savings account is stealing from your future self.', 'What happened in Hong Kong this week?', 'Never give a Roman a high five.', 'It’s a five minute walk from my house to the pub. It’s a 35 minute walk from the pub to my house.', 'A guy calls the hospital. He says, \"You gotta send help! My wife\\'s going into labor!\"', \"Marijuana should've been legalized at the same time as same sex-marriage\", 'Some species of frog can jump higher than a 3-story office building.', 'I wish I had Trump as a teacher.', 'How many introverts does it take to change a light bulb?', 'My penis is a gentleman.', 'Ben Shapiro dies in a plane crash. Wanna know why it crashes?', 'Life is like a hardcore drug.', 'Why do people with foot fetishes never win?', 'Have you ever played quiet tennis?', 'Nothing beats a beautiful girl with a great singing voice!', 'My brother always lies, today he finally admitted to being a pathological liar', \"After years of marriage, I've finally learned the ultimate secret to keep a woman satisfied in bed...\", 'Why did the console peasant cross the road?', \"I decided to kill off a few characters in the book I'm writing\", \"What is a nice guys' favorite cooking utensil?\", 'If you rearrange the letters of MAILMEN', \"Yesterday I saw a police officer wearing a pilot's uniform,\", 'What did the robber say after detonating a bomb inside a bank?', 'I love the smell of my F5 key.', 'The invention of the shovel was groundbreaking,', 'What did our parents do to kill boredom before the internet?', 'In Canada, you are more likely to die of a kick of a moose than a terrorist attack.', 'What do you call a butt plug being used by a guy?', 'I’m a scientist who’s researching bestiality between humans and dogs…', 'What’s the difference between a politician and a flying pig?', 'Gabe Newell should be president', 'Smoking will kill you... Bacon will kill you...', 'My wife put on a sexy cop outfit and arrested me on suspicion of being good in bed.', 'My neighborhood barber just got arrested for selling drugs..', 'My husband asked why I never blink during sex.', 'If I had a penny for every time someone said they think I have OCD...', 'An IQ below 70 qualifies you for having an intellectual disability', \"If a man talks dirty to a woman, that's sexual harrassment.\", 'Recent studies have shown that 67% of women have used vibrators', 'I just saw my wife walk around with her sexiest underwear on, which can only mean one thing.', \"My wife said if this post gets 1000 upvotes she'll give up her anal virginity tonight!\", 'Just burned 2,000 calories.', 'My boss touched me inappropriately at work today', 'What do Donald Trump and a pumpkin have in common?', 'I am a man trapped inside the body of a woman.', 'My Chinese waiter thinks all white people look alike and gave my food to the wrong customer', 'I once tried to kill a spider with axe bodyspray', \"My wife has left me because I'm a gambler.\", 'What is the capital of Greece?', 'My parents treat me like a god.', \"What's Mozart up to these days?\", 'My best mate told me he was totally into Beyonce.', 'My son was thrown out of school today for letting a girl in his class wank him off. I said,\"Son that\\'s three schools this year.', 'As I looked at my naked body in the mirror...', 'My wife said if I bought her one more stupid present, she would burn it', 'A drug dealer sold me his shoes today', 'You should always bring two pairs of pants golfing.', 'My wife just called me and said, \"Three of the girls in the office have just received some flowers for Valentines Day. They are absolutely gorgeous!\"', 'I told my girlfriend I was named after Thomas Jefferson.', 'Yo momma is so fat ...', 'By previously legalizing same-sex marriage and now Marijuana, Canada have finally interpreted the bible correctly:', 'Did you hear about the Anorexic Jedi?', \"I'm not passive aggressive,\", 'My last time having sex was like the 100m dash', 'A sperm cell contains about 37.5 MB of information. There are about 100 million sperm cells per ml; the average ejaculation is about 2.25ml, and takes about 5 seconds. This makes the average bandwidth of the human penis 1687 TB/sec', 'In US Presidential History: Washington could not tell a lie, Nixon could not tell a truth...', 'Lazy people fact #4564321564', 'How do you know a blonde has been trying to commit suicide?', 'My wife and I are both feminists', 'My brother got kicked out of his house by his wife for measuring his penis.', 'It turns out my high school Chemistry teacher was right.', 'Never challenge death to a pillow fight', 'Yoda and Obi Wan in a space ship', 'What did the letter O say to the letter Q?', 'I called a dwarf by the wrong name.', 'Today I saw a poor, old woman trip and fall.', \"What's the difference between a radius and a diameter?\", \"How to find out if you're old or not:\", \"That's a nice ham you've got there...\", 'The stork is the bird that helps deliver babies. What bird helps prevent pregnancy?', 'Having gay parents must be horrible ...', 'They used to laugh when I said I wanted to be a comedian.', 'Did you know that if you rearrange the letters of \"Postmen\"', 'What did one lesbian vampire say to the other?', 'A colleague of mine fell into a vat of chemicals.', '\"How can this idiot possibly be elected as president?\"', 'If Donald Trump and Mike Pence were on a stranded island, who would survive?', 'I used to be good at telling jokes', 'A sperm donor, a carpenter and Julius Caesar Walked into a bar.', \"Been chatting with this 14 year old girl. Real sexy and flirty. Things are going great, but now she tells me she's an undercover cop.\", 'If I had $1 for every time I read a racist comment on the internet', 'In Pokemon, I never understood why bug types were supereffective against dark types.', 'I\\'m 36, and last night when I was out with my 19 year old girlfriend someone yelled \"Paedophile!\"', 'Today I ended a long term relationship.', 'Statistics show that the average person has sex 89 times per year.', 'My girlfriend broke up with me. So i took her wheel chair.', 'If I had a dollar for every downvote EA\"s comment gets....', 'My roommates get mad when I steal their kitchen utensils.', 'What did Jay-Z call his girlfriend before they got married?', 'Remember, because of synonyms, \"Forgive me Father, for I have sinned\"...', 'Why do the Lannisters have such big beds?', 'What do you call a nose with no body?', 'TIL that you can get dishonorably discharged from the Navy for boarding the wrong vessel just once.', 'I’ve just joined the Flat Earth Society.', \"I don't understand why everyone thinks the KKK are racist.\", '3 unwritten rules of life:', 'Why do you get aroused when you look in the mirror?', 'Dear posters of r/Jokes, could you try to be a bit more original?', 'What do you call it when two transgender midgets have sex?', 'Rihanna was asked; \"why do you think Chris Brown was denied a visa in Australia?\"', \"After a long debate with my Wife, I decied that we won't Vaccine our kids\", 'My parents just said they want another child.', 'What do you call a 1 armed man who does karate?', 'I just had a physical. The doctor said: “Don’t eat anything fatty.”', \"One of my friends told me that ever since they changed genders, their kids won't even look at them anymore..\", 'My ex used to hit me with musical instruments', 'My girl made fun of me, saying that my penis size is just average.', 'I always wondered why gun barrels tasted salty', 'I proposed to my ex-wife today', 'Can we ban \"Yo Momma\" jokes from this sub? They\\'re old, stupid, and have been done by literally everyone hundreds of times', 'Mickey Mouse is in court, trying to get a divorce from Minnie... \"Mr. Mouse\", says the judge, \"I\\'m afraid you can\\'t get a divorce just because your wife is a little strange.\"', \"Poop jokes aren't my favorite kind of jokes.\", 'My grandad was a WWII veteran. In just one day during the Battle of Britain, he destroyed 8 German aircraft, killing 32 Nazi aviators.', 'What sort of grades did Tommy Wiseau receive in school?', 'Did you hear about the math teacher who’s afraid of negative numbers?', \"Do you know what Mexicans think about Trump's wall?\", \"I've heard like seven cancer jokes today...\", \"I'm an ass man. Addicted to ass.\", 'The protests in Hong Kong have been continuous for 160 days, proving the country does not belong to China.', 'I never forget my sons first words...', 'As we were driving down the road, \"Sweet Caroline\" came on the radio. I said to my son, \"Little known fact, Neil Diamond used to be called Neil Coal.\"', 'Doctor: It appears that your DNA is backwards', 'The American education system obviously listen to Pink Floyd.', 'What kind of shoes does Voldemort force his prostitutes to wear?', 'What do you get when you mix human DNA with goat DNA', 'Me : *washing car with son*', \"I've already got a car, but I want to have a DeLorean as well.\", '“Officer, how did the hackers manage to get away?”', 'Two cowboys are lost in the desert. One of them sees a tree in the distance that\\'s draped in bacon. \"It\\'s a bacon tree! We\\'re saved!\" he says. He runs to the tree and is shot up with bullets.', 'Is this the right sub? Need help repairing my fence.', 'You’ll never believe who I bumped into on my way to the eye doctor!', 'Why does everyone assume that just because I’m a 40 year old loser that I live in my parent’s basement?', 'When I was a little boy, my dad taught me that any little boy or girl, even me, could grow up and become President someday...', \"My wife thinks I don't give her enough privacy.\", 'What does Bill say to Hillary after sex?', 'My neighbor blamed my gravel for making him fall', 'I thought it was impossible to get injured while masturbating...', 'I am doing a bra giveaway.', \"What's the difference between your job and a dead prostitute?\", 'I wonder what my parents did to fight boredom before the Internet was a thing', 'Do not use \"beef_stew\" as a password!', 'The last thing my grandfather said before he died was “It’s worth it to spend money on good speakers.”', 'Today I was asked to go out, by 10 girls...', 'I just flew in from Chernobyl', \"Chinese takeout, $15.00, gas to get there, $1.50. Getting home to find they've forgotten one of your dishes.\", 'I had a date tonight. It was pretty sweet.', 'Slutty girls are like Wal-Marts', 'My girlfriend tried to make me have sex on the hood of her Honda Civic...', 'What do prime numbers and stoners have in common?', \"What's the biggest city in the United States?\", 'I told my boss that three different companies were after me, and I needed a raise to stay at my current job.', 'What has four wheels and flies?', 'My penis was in the Guiness World Records book.', 'What did Mike Tyson say to Vincent van Gogh??', 'Why did Elon Musk go broke?', \"Why is 'dark' spelled with a k and not c?\", 'I had a vasectomy because I didn’t want kids.', 'The director of EA walks into a bar', 'They say you can’t get a decent job without education.', 'What do you call a redditor with an opinion?', \"A 40 year old man asked the Trainer in the Gym, 'I want to Impress Beautiful Girls, which Machine should I use?'\", 'What do you say to your sister when shes crying?', 'An original joke.', 'Why is Peter Pan always flying?', \"Dad joke: What's blue and doesn't weigh very much?\", 'Everyone is talking about how the inaugural attendance was 1/40 of what it was in 2009...', 'This asshole calling himself a \"food critic\" said my cooking was shit, so I kicked him in the mouth', 'I went to the shop the other day to buy six cans of Sprite.', '[Possibly OC] How excited was Wendy to go to Neverland?', 'Floppy disks are like Jesus', 'If i had a dollar for every joke on this subreddit....', 'Most of the jokes posted here are like gay muslims', 'I asked my mum \"How much is a couple?\"', 'why don’t libraries have books about suicide?', 'Im taking Viagra for my sunburn.', \"Everyone's talking about the 90s like it was almost thirty years ago...\", 'For every upvote this gets, my girlfriend and I will try one thrust of anal sex.', 'Elon Musk and Bill Gates should team up to invent a cure for erectile dysfunction,', 'Conspiracy theories are a lot like moon landings.', 'What do the Twin Towers and gender have in common?', 'If I had a dollar for every time a girl found me not attractive.', 'I ate the exam paper', 'A tattoo parlour in my neighborhood is offering a free tattoo to anyone who would flash their boobs.', 'What is a chameleon that cannot change color?', 'I told my friend that he really shouldn\\'t be using a straw and he replied, \"Yeah, I know, I know, it\\'s bad for the environment.\" I said, \"Sure, there\\'s that...\"', 'I got arrested for killing a black man.', 'My wife didn’t think I’d give our daughter a silly name...', 'What has 4 wheels and flies?', 'Why do Indians hate snow?', \"TIL that, by law, you have to turn your headlights on when it's raining in Sweden.\", 'I saw 2 guys in matching outfits and asked if they were gay...', \"I call my wife Bambi. She thinks it's because she's cute with big brown eyes....\", \"Professor X: what's your super power?\", 'Man, if you thought No Nut November was bad...', \"What's the difference between reddit and facebook?\", 'life without love is meaningless..', 'If Donald Trump gets elected president...', '69 and 70 got into a fight.', 'Are we heading in the right direction, Yoda?', 'Interviewer: how do you explain the 3 year gap on your resume?', 'How can you tell the difference between an Indian and African elephant?', 'How do you know when your wife is dead?', 'What do you do with a compressed folder of porn?', \"So the American people's choices for President will apparently be either Donald Trump or Hillary Clinton.\", \"What's the difference between a paycheck and a penis?\", 'I hate that clown from IT.', 'I\\'m getting a little tired of these people coming to my door telling me I need to be \"saved\" or \"I\\'ll burn\"...', 'All countries eventually got coronavirus', 'My grandma died peacefully, 93, in the chair. Nice way to go.', \"How do Mexicans feel about Trump's wall?\", 'What do you get when you shoot four bullets into a six pack?', 'Apparently there is bi-partisan agreement in Congress that medicinal marijuana should be allowed for the purpose of relieving arthritic pain.', \"If Jesus was real, they wouldn't call it the crucifixion...\", '“Dad, I’m so excited. I got a B in reading!”', 'I asked my North Korean friend how it was there', 'A man goes to a Halloween party dressed up as a chicken and he meets a girl dressed up as an egg.', 'My teacher asked me to describe myself in 5 words...', 'Imagine if Americans switched from pounds to kilograms overnight...', \"What do a thong and Donald Trump's toupee have in common?\", 'A lot of women are turning into good drivers.', 'I was about to smoke weed with a couple cute Mexican girls...', 'How do you make a Chinese man no longer Asian?', \"Why can't you fool an aborted baby?\", 'What do you call babies with guns?', 'When I was a teen, my dad showed me a 30 minute PowerPoint presentation on why one should always wear a condom during sex.', 'A joke my dad used to tell me when I was a kid', 'What is the difference between a dollar and a ruble ?', 'Fucked a girl with one leg', 'Father: When Abe Lincoln was your age he walked 9 miles to school and did homework by candlelight.', 'Her: What do you do?', 'Trump shouldn\\'t have said \"shithole countries\"', '\"Okay Fred, Shaggy and Daphne, can you name an animal that lives in Africa and has a large horn on its face?\" \"Rhino!\"', \"What do you call a black man that's just been hit by a bus?\", 'When I was a kid, my parents would always say \"Excuse my french\" after a swear word...', 'If pronouncing b’s as v’s makes me sound Russian', 'The bartender says, “Go home. We don’t serve faster-than-light-particles here.”', \"LPT: If you ever get cold and don't have a sweater, stand in a corner for a few minutes; they're usually about 90 degrees.\", \"How's Donald Trump going to get rid of all the Mexicans?\", \"What's is the difference between ignorance and negligence?\", 'How many introverts does it take to change a lightbulb?', 'If a tree falls in the forest and nobody hears it', '(NSFW) What is the difference between love, true love, and just showing off?', '\"You the bomb!\" \"No you the bomb!\"', 'My teacher accused me of plagiarism', 'Communist jokes are not funny...', 'I took an epileptic girl to a rave', 'My computer crashed a few hours into writing my paper', 'If you rearrange the letters of POSTMEN...', 'An elderly couple is in church. The wife says to the husband, \"I\\'ve let out one of those silent farts, what do I do?\"', 'I bought a theremin', 'What do you call a fight between a Mexican and a white man with no girlfriend?', 'How do you check the weight of a Red Hot Chilli Pepper?', 'I like my women like I like my whiskey...', 'A guy was wondering what being a suicide bomber was like', 'What do a pulse and an orgasm have in common?', 'How do you tell the difference between a plumber and a chemist?', \"Cardi B has a sister that's a fitness instructor.\", \"How do you make a musician's car more aerodynamic?\", \"I've discovered I have a logic fetish\", 'I hate people who talk behind my back.', \"Mars: I'm wet...\", 'My wife just accused me of being a transvestite.', 'What do you call a priest that becomes a lawyer?', 'What has 4 letters, sometimes 9 letters, but never has 5 letters.', 'I consider myself to be quite a pussy magnet', 'How do you tell the difference between a chemist and an electrician?', \"My wife said she's had enough of me because I always get my directions mixed up.\", 'What starts with \"e,\" ends with \"e,\" and contains one letter?', \"I hope that when Kim Kardashian goes to the beach, she doesn't swim.\", 'I keep telling myself to quit drugs', 'Who wears a red suit, and knows if you are naughty or nice?', 'My mom used to feed me by saying: “Here comes the train!” I always ate everything.', 'I got voted “Least Likely To Succeed” by my high school class…', 'A Russian spy, a sexual predator and a billionaire walk into a bar', 'When I was growing up plastic surgery was a bit of a taboo subject...', 'I looked at my bank account and found I could live the rest of my life comfortably without working...', 'I caught two kids smoking pot outside my office.', 'What do you call a group of men in a flying car having unsatisfying sexual intercourse with a single woman because they feel sorry for her?', 'Always marry an ugly woman, a beautiful one will leave you...', 'The man who invented Velcro has died.', 'I farted in an Apple store today and everyone yelled at me.', \"My wife has kicked me out of the house because of my bad Arnold Scharzenegger impressions. But don't worry\", 'I used to feel like a man who was trapped in a woman’s body.', \"If I got 50¢ for every math test I've failed\", 'What do you call a belt made out of watches?', 'Why was Darth Vader referred to as Lord Vader?', 'Just slept with a species from another genus.', 'I used to think all black people had boomboxes', 'Today I learned that \"Wet Floor\" signs…', 'PornHub removed my sex tape', 'I used to tell dad jokes.', 'If I had a dollar for every gender', 'He got the order wrong', \"My wife complains that I don't buy her flowers\", 'I asked a pretty, young homeless woman if I could take her home. She smiled at me and said yes.', \"If I ever find out the name of the surgeon that screwed up my limb transplant, I'll kill him...\", \"I'm pretty bad at building fences\", 'The other day I took my Grandma to one of those spas where the little fish eat your dead skin', 'A man in an interrogation room says, “I’m not saying a word without my lawyer present!\" The cop growls, \"You are the lawyer!\"', 'If I had a dollar for every girl that found me unattractive', 'I got thrown out of DisneyWorld for spreading my dead mother’s remains around the park. It was her dying wish.', 'Father: When Abe Lincoln was your age he walked 9 miles to school and did homework by candlelight.', 'A man is walking through a graveyard when he sees another man squatting next to a grave. \"Morning!\" he calls out.', 'I just found out my best friend is a communist. To be honest, I should have known.', 'Brett Kavanaugh has stated that he will not be pressured into withdrawing his Supreme Court bid by the allegations made against him.', 'Why are women and children always the first ones to get evacuated on a emergency situation ?', 'I just asked the wife to get into her nurses uniform.', 'My boyfriend left me because of my anxiety issues...', 'A guy walks into a bar owned by Eminem...', 'My girlfriend yelled at me today saying, \"You weren\\'t even listening just now, were you?!\"', 'Scientist: \"My findings are meaningless if taken out of context.\"', 'People get impressed when I tell them my home is designed by a famous Italian.', \"I'm so stressed that I'm going to try that Chinese thing with the needles, what's it called?\", 'I lost my job at the bank on my very first day...', 'I saw a hot girl in class today, I kept thinking to myself “don’t get a boner.”', 'People always ask where I got my incredibly detailed tattoo done, but they never believe me when I tell them Spain.', 'Why are you not allowed to do calculus intoxicated?', 'I bought a Russian porno magazine the other day called Barely Legal.', 'After winning the game, I decided to throw the ball into the crowd, like they do on TV...', 'Know why I make my pot brownies with chocolate laxatives?', 'Many surnames can tell you what a person is', \"My parents read the book I was writing. They said the main character wasn't likable.\", 'What does Superman and a Blood gang member who lost his gun have in common?', 'Fuck Keanu Reeves', 'Why was Abraham Lincoln never put in jail?', 'I am suicide bomber AMA', \"I'm 60 days clean now.\", 'I saw a sign that made me shit myself', 'The Chinese President has decided to make a red book of quotes, like Mao Zedong did.', 'My love life is like Santa Claus.', 'What do you call a boat full of polite football players?', 'I told my friends I had a date with a really attractive girl...', 'I shot a Black Man the other day', 'Girls use chemicals to remove polish and no one bats an eye', \"Congratulations to the winner of last night's presidential debate!\", '3 unwritten rules of life...', 'Where does a mansplainer get his water?', 'When my grandpa died he farted and we thought he was still alive...', 'What weighs more? 50kg of Iron or a 50kg woman?', 'My girlfriend accused me of cheating.', 'I hate it when people call their girlfriend their “partner in crime”', 'France and Italy go to war. Who wins?', 'Who says building a border wall won’t work?', 'I went to visit a psychic,', \"Do you know why there are fewer 'all men are trash' posts now?\", 'Today a girl kissed me.', 'I walked into a store and noticed they were selling deer nuts for $1.25', 'My friend just asked me how I would react if I saw someone with a micropenis ejaculating.', \"Why didn't the Romans find algebra very difficult?\", 'That’s a nice ham you’ve got there...', 'A robber pulled a gun on the bank clerk and manager saying, “Give me all the money! I need it to set myself up in a trade or profession. You know, initial investment is needed to cover the overheads until my cash flow is established.”', \"If your parachute doesn't deploy don't worry..\", \"There's a fine line between a numerator and Denominator\", 'Today in church they asked what a Bishop does', 'Out of all the inventions in the last 100 years', 'I celebrate 4/20 on January 5th...', 'I was going to donate blood today but they ask waaaay too many personal questions', 'I fought an erection this morning', 'Original Jokes are Like Girlfriends', 'So what if I don\\'t know what \"apocalypse\" means.', 'My dad got fired for having sex with one of his patients the other day.', 'To the guy who invented the number zero', 'Scientist: \"My findings are meaningless if taken out of context.\"', 'If I want to bang an Eskimo...', 'A woman got breast implants made of wood yesterday.', 'I dreamed I drowned in an ocean made of orange soda.', 'How do you tell the sex of an ant?', \"If I'm ever on life support, unplug me...\", 'My wife left me because I’m insecure and paranoid.', 'Why do bees stay in the hive in the winter?', \"What's the toughest part of being a vegan?\", 'What did the suicide bomber instructor say...', 'I can count on one hand how many times I have been to Chernobyl.', 'Friend told me to stop filing taxes and go watch anime with him', 'I almost got caught trying to steal a board game yesterday.']\n"
          ]
        }
      ]
    },
    {
      "cell_type": "code",
      "source": [
        "# from transformers import BartTokenizerFast\n",
        "# tokenizer = BartTokenizerFast.from_pretrained('facebook/bart-large-mnli')\n",
        "\n",
        "from transformers import AutoTokenizer\n",
        "tokenizer = AutoTokenizer.from_pretrained(\"bert-base-uncased\")"
      ],
      "metadata": {
        "id": "Qfe_jMp0pxUH"
      },
      "execution_count": null,
      "outputs": []
    },
    {
      "cell_type": "code",
      "source": [
        "from random import sample\n",
        "\n",
        "def preprocess_function(examples):\n",
        "    setups = examples['setup']\n",
        "    punchlines = examples['punchline']\n",
        "    labels = examples['label']\n",
        "\n",
        "    multipled_setups = [[setup] * 4 for setup in setups]\n",
        "    multipled_punchlines = []\n",
        "    for i, punchline in enumerate(punchlines):\n",
        "      incorrect_punchlines = sample(punchlines, 3)\n",
        "      incorrect_punchlines.insert(int(labels[i]), punchline)\n",
        "      multipled_punchlines.append(incorrect_punchlines)\n",
        "\n",
        "    # question_headers = examples[\"sent2\"]\n",
        "    # second_sentences = [\n",
        "    #     [f\"{header} {examples[end][i]}\" for end in ending_names] for i, header in enumerate(question_headers)\n",
        "    # ]\n",
        "\n",
        "    multipled_setups = sum(multipled_setups, [])\n",
        "    multipled_punchlines = sum(multipled_punchlines, [])\n",
        "\n",
        "    tokenized_examples = tokenizer(multipled_setups, multipled_punchlines, truncation=True)\n",
        "    return {k: [v[i : i + 4] for i in range(0, len(v), 4)] for k, v in tokenized_examples.items()}"
      ],
      "metadata": {
        "id": "1DelMnqYp6-x"
      },
      "execution_count": null,
      "outputs": []
    },
    {
      "cell_type": "code",
      "source": [
        "from datasets import DatasetDict\n",
        "\n",
        "untokenized_jokes = DatasetDict({'train': train_dataset, 'val': val_dataset, 'test': test_dataset})"
      ],
      "metadata": {
        "id": "WIHhVTzDqnsr"
      },
      "execution_count": null,
      "outputs": []
    },
    {
      "cell_type": "code",
      "source": [
        "tokenized_jokes = untokenized_jokes.map(preprocess_function, batched=True)"
      ],
      "metadata": {
        "colab": {
          "base_uri": "https://localhost:8080/",
          "height": 113,
          "referenced_widgets": [
            "f5f884034fcc4bc5a4ffe1b23a42572d",
            "6813654047cc43b8b901453c42a6f921",
            "91d07ce896724f9eaf074971252ff87c",
            "607e8aa03d074d5f89bdb9754d581275",
            "49726745790c4b5098996ee420e95299",
            "5d210fdb63504d10b75cf5cf1b45baa4",
            "4ded68f478dd4c1a838c59804e7457ef",
            "6ec94278ae2240fba2b4b0f91b31ebb9",
            "2a3df895093440409e65d8921db272bd",
            "4f9063e47f3f444f8cc89b42f44dfa6d",
            "bc611f5990634f3c82d2d32ef6ece9e8",
            "6e5d2bb9fd9d446bb23e5ce34a890ad5",
            "ed23ae5d4b1049d892563a27cfbdcf4a",
            "d69abeb58c1f48468e12035538833943",
            "26dfb90785404846972ec764c5f13889",
            "8a8e8e6cc40e49899d0774f0d685fffd",
            "2f617db64b7b49b8a0769efe0220daff",
            "994dbe8be0d040ceb40b4439bb241a97",
            "ff878ae5591c451fb21e5689f034add3",
            "b5be011097e747c28afba2e6936017b5",
            "f5f7e765a2b54778a4ee8a228e27d2c9",
            "6012c6a3043445ae9d5d74f27ab7223a",
            "2df484850741436b953e79344f8a111d",
            "10951434a7004a3090f23b57aa30b7fd",
            "926805d062824957b75388759c597ba3",
            "850dd39fc52b4072bac089925adbe15b",
            "4d73c4649e62400abda7c2bc2786ef4c",
            "1ef18dba4ef04f26ba7122f335c1977d",
            "b85a8be2611e424aae400ebfd2aba527",
            "440cee2ae99d45b49c4bf74d0dec617f",
            "6183c665c15c41e9a581eabac9b218f9",
            "e31643cdbe024b258083857788e6c336",
            "6d0220b53acf48e791092c5bbe39b5b0"
          ]
        },
        "id": "ko2mghIB6Ahc",
        "outputId": "d273bf9f-1bf3-410e-c281-49eb41277e25"
      },
      "execution_count": null,
      "outputs": [
        {
          "output_type": "display_data",
          "data": {
            "text/plain": [
              "Map:   0%|          | 0/4334 [00:00<?, ? examples/s]"
            ],
            "application/vnd.jupyter.widget-view+json": {
              "version_major": 2,
              "version_minor": 0,
              "model_id": "f5f884034fcc4bc5a4ffe1b23a42572d"
            }
          },
          "metadata": {}
        },
        {
          "output_type": "display_data",
          "data": {
            "text/plain": [
              "Map:   0%|          | 0/1445 [00:00<?, ? examples/s]"
            ],
            "application/vnd.jupyter.widget-view+json": {
              "version_major": 2,
              "version_minor": 0,
              "model_id": "6e5d2bb9fd9d446bb23e5ce34a890ad5"
            }
          },
          "metadata": {}
        },
        {
          "output_type": "display_data",
          "data": {
            "text/plain": [
              "Map:   0%|          | 0/1445 [00:00<?, ? examples/s]"
            ],
            "application/vnd.jupyter.widget-view+json": {
              "version_major": 2,
              "version_minor": 0,
              "model_id": "2df484850741436b953e79344f8a111d"
            }
          },
          "metadata": {}
        }
      ]
    },
    {
      "cell_type": "code",
      "source": [
        "print(tokenized_jokes)"
      ],
      "metadata": {
        "colab": {
          "base_uri": "https://localhost:8080/"
        },
        "id": "_-q21NaD90zo",
        "outputId": "29cccbcb-dc72-4d0d-afe7-1f0a579b49ee"
      },
      "execution_count": null,
      "outputs": [
        {
          "output_type": "stream",
          "name": "stdout",
          "text": [
            "DatasetDict({\n",
            "    train: Dataset({\n",
            "        features: ['setup', 'punchline', 'label', 'input_ids', 'token_type_ids', 'attention_mask'],\n",
            "        num_rows: 4334\n",
            "    })\n",
            "    val: Dataset({\n",
            "        features: ['setup', 'punchline', 'label', 'input_ids', 'token_type_ids', 'attention_mask'],\n",
            "        num_rows: 1445\n",
            "    })\n",
            "    test: Dataset({\n",
            "        features: ['setup', 'punchline', 'label', 'input_ids', 'token_type_ids', 'attention_mask'],\n",
            "        num_rows: 1445\n",
            "    })\n",
            "})\n"
          ]
        }
      ]
    },
    {
      "cell_type": "code",
      "source": [
        "from dataclasses import dataclass\n",
        "from transformers.tokenization_utils_base import PreTrainedTokenizerBase, PaddingStrategy\n",
        "from typing import Optional, Union\n",
        "import torch\n",
        "\n",
        "\n",
        "@dataclass\n",
        "class DataCollatorForMultipleChoice:\n",
        "    \"\"\"\n",
        "    Data collator that will dynamically pad the inputs for multiple choice received.\n",
        "    \"\"\"\n",
        "\n",
        "    tokenizer: PreTrainedTokenizerBase\n",
        "    padding: Union[bool, str, PaddingStrategy] = True\n",
        "    max_length: Optional[int] = None\n",
        "    pad_to_multiple_of: Optional[int] = None\n",
        "\n",
        "    def __call__(self, features):\n",
        "        label_name = \"label\" if \"label\" in features[0].keys() else \"labels\"\n",
        "        labels = [feature.pop(label_name) for feature in features]\n",
        "        batch_size = len(features)\n",
        "        num_choices = len(features[0][\"input_ids\"])\n",
        "        flattened_features = [\n",
        "            [{k: v[i] for k, v in feature.items()} for i in range(num_choices)] for feature in features\n",
        "        ]\n",
        "        flattened_features = sum(flattened_features, [])\n",
        "\n",
        "        batch = self.tokenizer.pad(\n",
        "            flattened_features,\n",
        "            padding=self.padding,\n",
        "            max_length=self.max_length,\n",
        "            pad_to_multiple_of=self.pad_to_multiple_of,\n",
        "            return_tensors=\"pt\",\n",
        "        )\n",
        "\n",
        "        batch = {k: v.view(batch_size, num_choices, -1) for k, v in batch.items()}\n",
        "        batch[\"labels\"] = torch.tensor(labels, dtype=torch.int64)\n",
        "        return batch"
      ],
      "metadata": {
        "id": "01JBYXIcqUtq"
      },
      "execution_count": null,
      "outputs": []
    },
    {
      "cell_type": "code",
      "source": [
        "import evaluate\n",
        "\n",
        "accuracy = evaluate.load(\"accuracy\")"
      ],
      "metadata": {
        "id": "8RK3D8L8-JCy"
      },
      "execution_count": null,
      "outputs": []
    },
    {
      "cell_type": "code",
      "source": [
        "import numpy as np\n",
        "\n",
        "\n",
        "def compute_metrics(eval_pred):\n",
        "    predictions, labels = eval_pred\n",
        "    predictions = np.argmax(predictions, axis=1)\n",
        "    return accuracy.compute(predictions=predictions, references=labels)"
      ],
      "metadata": {
        "id": "byVtEvI3-LqX"
      },
      "execution_count": null,
      "outputs": []
    },
    {
      "cell_type": "code",
      "source": [
        "from transformers import AutoModelForMultipleChoice, TrainingArguments, Trainer\n",
        "\n",
        "model = AutoModelForMultipleChoice.from_pretrained(\"bert-base-uncased\")\n",
        "# model = BartForSequenceClassification.from_pretrained(\"facebook/bart-large-mnli\", num_labels=46, ignore_mismatched_sizes=True)"
      ],
      "metadata": {
        "colab": {
          "base_uri": "https://localhost:8080/"
        },
        "id": "ql6yVFVo-NJd",
        "outputId": "c2bbd149-fdf5-4d99-c316-b2055cbfc787"
      },
      "execution_count": null,
      "outputs": [
        {
          "output_type": "stream",
          "name": "stderr",
          "text": [
            "Some weights of BertForMultipleChoice were not initialized from the model checkpoint at bert-base-uncased and are newly initialized: ['classifier.bias', 'classifier.weight']\n",
            "You should probably TRAIN this model on a down-stream task to be able to use it for predictions and inference.\n"
          ]
        }
      ]
    },
    {
      "cell_type": "code",
      "source": [
        "import accelerate\n",
        "print(f\"Accelerate version: {accelerate.__version__}\")\n",
        "\n",
        "training_args = TrainingArguments(\n",
        "    output_dir=\"my_awesome_swag_model\",\n",
        "    evaluation_strategy=\"epoch\",\n",
        "    save_strategy=\"epoch\",\n",
        "    load_best_model_at_end=True,\n",
        "    learning_rate=5e-5,\n",
        "    per_device_train_batch_size=16,\n",
        "    per_device_eval_batch_size=16,\n",
        "    num_train_epochs=3,\n",
        "    weight_decay=0.01,\n",
        "    push_to_hub=False,\n",
        ")\n",
        "# training_args = None\n",
        "\n",
        "trainer = Trainer(\n",
        "    model=model,\n",
        "    args=training_args,\n",
        "    train_dataset=tokenized_jokes[\"train\"], #tokenized_swag[\"train\"],\n",
        "    eval_dataset=tokenized_jokes[\"val\"],\n",
        "    tokenizer=tokenizer,\n",
        "    data_collator=DataCollatorForMultipleChoice(tokenizer=tokenizer),\n",
        "    compute_metrics=compute_metrics,\n",
        ")\n",
        "\n",
        "trainer.train()"
      ],
      "metadata": {
        "colab": {
          "base_uri": "https://localhost:8080/",
          "height": 273
        },
        "id": "s0MHvCCv-O6W",
        "outputId": "e5e50d54-0920-4bf9-86f6-11d47d7c0b73"
      },
      "execution_count": null,
      "outputs": [
        {
          "output_type": "stream",
          "name": "stdout",
          "text": [
            "Accelerate version: 0.25.0\n"
          ]
        },
        {
          "output_type": "stream",
          "name": "stderr",
          "text": [
            "You're using a BertTokenizerFast tokenizer. Please note that with a fast tokenizer, using the `__call__` method is faster than using a method to encode the text followed by a call to the `pad` method to get a padded encoding.\n"
          ]
        },
        {
          "output_type": "display_data",
          "data": {
            "text/plain": [
              "<IPython.core.display.HTML object>"
            ],
            "text/html": [
              "\n",
              "    <div>\n",
              "      \n",
              "      <progress value='813' max='813' style='width:300px; height:20px; vertical-align: middle;'></progress>\n",
              "      [813/813 02:54, Epoch 3/3]\n",
              "    </div>\n",
              "    <table border=\"1\" class=\"dataframe\">\n",
              "  <thead>\n",
              " <tr style=\"text-align: left;\">\n",
              "      <th>Epoch</th>\n",
              "      <th>Training Loss</th>\n",
              "      <th>Validation Loss</th>\n",
              "      <th>Accuracy</th>\n",
              "    </tr>\n",
              "  </thead>\n",
              "  <tbody>\n",
              "    <tr>\n",
              "      <td>1</td>\n",
              "      <td>No log</td>\n",
              "      <td>0.246252</td>\n",
              "      <td>0.908651</td>\n",
              "    </tr>\n",
              "    <tr>\n",
              "      <td>2</td>\n",
              "      <td>0.276000</td>\n",
              "      <td>0.307742</td>\n",
              "      <td>0.921799</td>\n",
              "    </tr>\n",
              "    <tr>\n",
              "      <td>3</td>\n",
              "      <td>0.276000</td>\n",
              "      <td>0.312551</td>\n",
              "      <td>0.921107</td>\n",
              "    </tr>\n",
              "  </tbody>\n",
              "</table><p>"
            ]
          },
          "metadata": {}
        },
        {
          "output_type": "execute_result",
          "data": {
            "text/plain": [
              "TrainOutput(global_step=813, training_loss=0.17756233942611338, metrics={'train_runtime': 177.3689, 'train_samples_per_second': 73.305, 'train_steps_per_second': 4.584, 'total_flos': 1506190379472672.0, 'train_loss': 0.17756233942611338, 'epoch': 3.0})"
            ]
          },
          "metadata": {},
          "execution_count": 17
        }
      ]
    },
    {
      "cell_type": "code",
      "source": [
        "trainer.evaluate()"
      ],
      "metadata": {
        "colab": {
          "base_uri": "https://localhost:8080/",
          "height": 139
        },
        "id": "MPYHC6JKFNtI",
        "outputId": "63c6ae4d-15fe-43d8-a7e1-b0dd1e3683c5"
      },
      "execution_count": null,
      "outputs": [
        {
          "output_type": "display_data",
          "data": {
            "text/plain": [
              "<IPython.core.display.HTML object>"
            ],
            "text/html": [
              "\n",
              "    <div>\n",
              "      \n",
              "      <progress value='91' max='91' style='width:300px; height:20px; vertical-align: middle;'></progress>\n",
              "      [91/91 00:05]\n",
              "    </div>\n",
              "    "
            ]
          },
          "metadata": {}
        },
        {
          "output_type": "execute_result",
          "data": {
            "text/plain": [
              "{'eval_loss': 0.24625200033187866,\n",
              " 'eval_accuracy': 0.9086505190311419,\n",
              " 'eval_runtime': 5.5594,\n",
              " 'eval_samples_per_second': 259.922,\n",
              " 'eval_steps_per_second': 16.369,\n",
              " 'epoch': 3.0}"
            ]
          },
          "metadata": {},
          "execution_count": 18
        }
      ]
    },
    {
      "cell_type": "code",
      "source": [
        "prompt = \"my wife offered me a blowjob today.\"\n",
        "candidate1 = \"really i said no april fooaarrrrglegargle thatll teach her to be funny.\"\n",
        "candidate2 = \"china just got it right off the bat.\"\n",
        "candidate3 = \"dont cry because it is over smile because it happened adolf hitler 1945.\"\n",
        "candidate4 = \"i dont know how much she charges.\""
      ],
      "metadata": {
        "id": "Aej7x1HbJ42v"
      },
      "execution_count": null,
      "outputs": []
    },
    {
      "cell_type": "code",
      "source": [
        "tokenizer = AutoTokenizer.from_pretrained(\"my_awesome_swag_model/checkpoint-813\")\n",
        "inputs = tokenizer([[prompt, candidate1], [prompt, candidate2], [prompt, candidate3], [prompt, candidate4]], return_tensors=\"pt\", padding=True)\n",
        "labels = torch.tensor(0).unsqueeze(0)"
      ],
      "metadata": {
        "colab": {
          "base_uri": "https://localhost:8080/"
        },
        "id": "1d0jmeQoKpUX",
        "outputId": "f567c6c6-b32a-4265-ab36-58691c2fb158"
      },
      "execution_count": null,
      "outputs": [
        {
          "output_type": "stream",
          "name": "stdout",
          "text": [
            "tensor([0])\n"
          ]
        }
      ]
    },
    {
      "cell_type": "code",
      "source": [
        "from transformers import AutoModelForMultipleChoice\n",
        "\n",
        "model = AutoModelForMultipleChoice.from_pretrained(\"my_awesome_swag_model/checkpoint-813\")\n",
        "outputs = model(**{k: v.unsqueeze(0) for k, v in inputs.items()}, labels=labels)\n",
        "logits = outputs.logits"
      ],
      "metadata": {
        "id": "tCRiekL5KrDR"
      },
      "execution_count": null,
      "outputs": []
    },
    {
      "cell_type": "code",
      "source": [
        "print(outputs)\n",
        "print(logits)\n",
        "predicted_class = logits.argmax().item()\n",
        "predicted_class"
      ],
      "metadata": {
        "colab": {
          "base_uri": "https://localhost:8080/"
        },
        "id": "BgqGlJ0hKs3L",
        "outputId": "ae06bd2f-a846-49a2-f208-1b0d351d71fc"
      },
      "execution_count": null,
      "outputs": [
        {
          "output_type": "stream",
          "name": "stdout",
          "text": [
            "MultipleChoiceModelOutput(loss=tensor(2.8671, grad_fn=<NllLossBackward0>), logits=tensor([[-2.3018, -7.4945, -8.1466,  0.5062]], grad_fn=<ViewBackward0>), hidden_states=None, attentions=None)\n",
            "tensor([[-2.3018, -7.4945, -8.1466,  0.5062]], grad_fn=<ViewBackward0>)\n"
          ]
        },
        {
          "output_type": "execute_result",
          "data": {
            "text/plain": [
              "3"
            ]
          },
          "metadata": {},
          "execution_count": 22
        }
      ]
    },
    {
      "cell_type": "code",
      "source": [
        "from transformers import pipeline\n",
        "import torch\n",
        "\n",
        "# Assuming you have a trained model and tokenizer\n",
        "model = AutoModelForMultipleChoice.from_pretrained(\"my_awesome_swag_model/checkpoint-813\")\n",
        "tokenizer = AutoTokenizer.from_pretrained(\"my_awesome_swag_model/checkpoint-813\")\n",
        "\n",
        "# Set the model to evaluation mode\n",
        "model.eval()\n",
        "\n",
        "# Assuming test_dataset is your test dataset\n",
        "test_dataset = tokenized_jokes[\"test\"]  # Replace with your actual test dataset\n",
        "\n",
        "# Function to generate predictions for multiple-choice questions\n",
        "def generate_predictions(prompts, choices):\n",
        "    # Encode the prompt and choices\n",
        "    inputs = tokenizer(list(zip(prompts, choices)), return_tensors=\"pt\", padding=True)\n",
        "    labels = torch.tensor(0).unsqueeze(0)\n",
        "    # encodings = tokenizer(prompts, choices, return_tensors=\"pt\", padding=True, truncation=True)\n",
        "\n",
        "    # Set the device to GPU if available\n",
        "    # device = torch.device(\"cuda\" if torch.cuda.is_available() else \"cpu\")\n",
        "    # encodings = {key: value.to(device) for key, value in encodings.items()}\n",
        "    outputs = model(**{k: v.unsqueeze(0) for k, v in inputs.items()}, labels=labels)\n",
        "\n",
        "    # Generate predictions\n",
        "    with torch.no_grad():\n",
        "        # logits = model(**encodings, labels=labels).logits\n",
        "        logits = outputs.logits\n",
        "\n",
        "    # Get the predicted labels\n",
        "    # predicted_labels = torch.argmax(logits, dim=1).tolist()\n",
        "    predicted_class = logits.argmax().item()\n",
        "\n",
        "    return predicted_class\n",
        "\n",
        "# Example usage\n",
        "count_correct = 0\n",
        "count_incorrect = 0\n",
        "for example in test_dataset:\n",
        "    prompt = example['setup']\n",
        "    prompts = [prompt for _ in range(4)]\n",
        "    correct_punchline = example['punchline']\n",
        "    correct_label = example['label']\n",
        "\n",
        "    # Shuffle the dataset to randomize the order\n",
        "    dataset_shuffled = test_dataset.shuffle()  # You can use any seed value\n",
        "\n",
        "    # Sample 3 entries from the shuffled dataset\n",
        "    choices = dataset_shuffled.select([0, 1, 2])  # Adjust the indices as needed\n",
        "\n",
        "    choices = [other_example['punchline'] for other_example in choices]\n",
        "    choices.insert(correct_label, correct_punchline)\n",
        "\n",
        "    # print(choices)\n",
        "    # print(prompts)\n",
        "    predicted_label = generate_predictions(prompts, choices)\n",
        "\n",
        "    if count_correct < 5 and predicted_label == correct_label:\n",
        "      count_correct += 1\n",
        "      print(\"Prompt:\", prompt)\n",
        "      print(\"Choices:\", choices)\n",
        "      print(\"Predicted Label:\", predicted_label)\n",
        "      print(\"Correct Label:\", correct_label)\n",
        "      print()\n",
        "    if count_incorrect < 5 and predicted_label != correct_label:\n",
        "      count_incorrect += 1\n",
        "      print(\"Prompt:\", prompt)\n",
        "      print(\"Choices:\", choices)\n",
        "      print(\"Predicted Label:\", predicted_label)\n",
        "      print(\"Correct Label:\", correct_label)\n",
        "      print()\n",
        "    if count_correct >= 5 and count_incorrect >= 5: break\n",
        "\n"
      ],
      "metadata": {
        "colab": {
          "base_uri": "https://localhost:8080/"
        },
        "id": "Bc1ezEI3N31L",
        "outputId": "4d9ca3fc-debc-4985-a52d-94cf7d96aa07"
      },
      "execution_count": null,
      "outputs": [
        {
          "output_type": "stream",
          "name": "stdout",
          "text": [
            "Prompt: I asked the librarian if she had any books on paranoia\n",
            "Choices: ['he laughs. ', 'she leaned in close and whispered ‘they’re behind you’', '\"Air in the hands mother stickers, this is a fuck up!\"', \"I'll have sex with their boyfriends\"]\n",
            "Predicted Label: 1\n",
            "Correct Label: 1\n",
            "\n",
            "Prompt: I'm divorcing my wife. First it was the poolboy, then the mailman, her ex-boyfriend, and my best friend. It's pretty clear...\n",
            "Choices: ['She can’t even ', 'Independent', \"I really hope it's Todd, he's cute.\", 'I just really love dick.']\n",
            "Predicted Label: 3\n",
            "Correct Label: 3\n",
            "\n",
            "Prompt: How do you tell the difference between a boy ghost and a girl ghost?\n",
            "Choices: ['Their booooobs.', 'I asked him and he said, \"I still love vista, baby!\"', 'Said the shower head.', 'Houston is used to getting fucked by Harvey.']\n",
            "Predicted Label: 0\n",
            "Correct Label: 0\n",
            "\n",
            "Prompt: What do you get if you tell the same joke every day for a month?\n",
            "Choices: ['Her: \"Fuck that shit\"\\n\\nMe: \"That\\'s the spirit\"', ' 19 and easily spread.', 'I’ve had a Canon printer for years.', 'About 3K karma and a ban from r/jokes.']\n",
            "Predicted Label: 3\n",
            "Correct Label: 3\n",
            "\n",
            "Prompt: What do you say to your sister when she's crying?\n",
            "Choices: [' They don’t make them like they’re going to anymore.', '\\nAre you having a crisis?', 'Self Harmony', 'Who lives at 324 3rd st. Los Angeles. She gets off at 6']\n",
            "Predicted Label: 1\n",
            "Correct Label: 1\n",
            "\n",
            "Prompt: Where do James Bond Actors go when they die?\n",
            "Choices: [\"That takes the number of girls I've made wet this year to -1.\", '[Removed]', '00Heaven', 'That priest is in jail now']\n",
            "Predicted Label: 1\n",
            "Correct Label: 2\n",
            "\n",
            "Prompt: There’s a big difference between a boy or a girl saying\n",
            "Choices: ['\\n\\nWell the jokes on them – they’re imaginary too...', \"They're completely harmless until you put one in your mouth and light it on fire.\", '\\n\\nI replied, \"That\\'s probably why they\\'ve received flowers then.\"', '“I got through a whole box of tissues when I found out my 18 year old sister was adopted”\\n']\n",
            "Predicted Label: 0\n",
            "Correct Label: 3\n",
            "\n",
            "Prompt: There was a cross-eyed teacher who got fired\n",
            "Choices: ['he put a water bottle in the Pringles holder on the treadmill.', 'I wish i could post this in a different sub.', 'Because she couldnt control her pupils.', \"He heard they had Ivanka's clothes half off\\n\\n\"]\n",
            "Predicted Label: 0\n",
            "Correct Label: 2\n",
            "\n",
            "Prompt: My wife got mad because I lost £3,420 gambling. Jesus, woman! It's not even YOUR money...\n",
            "Choices: ['But I partied like it was £19.99', 'But cocaine is where I draw the line.', 'Cause I’m trying to give you a physical ', 'Anymore.']\n",
            "Predicted Label: 0\n",
            "Correct Label: 3\n",
            "\n",
            "Prompt: What do you call a Mexican midget?\n",
            "Choices: [\"We're called Hispanic at the Disco\", \"A paragraph cause he isn't a full essay \", 'They both think de-porting is the answer when there’s no more Jobs.', 'Who would buy gifts for these people?']\n",
            "Predicted Label: 0\n",
            "Correct Label: 1\n",
            "\n"
          ]
        }
      ]
    }
  ]
}